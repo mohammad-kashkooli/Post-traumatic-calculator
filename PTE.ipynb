{
 "cells": [
  {
   "cell_type": "code",
   "execution_count": 76,
   "id": "77ebcba7",
   "metadata": {},
   "outputs": [],
   "source": [
    "import pandas as pd\n",
    "import numpy as np\n",
    "import pickle\n",
    "import matplotlib.pyplot as plt\n",
    "from sklearn.model_selection import RandomizedSearchCV,StratifiedKFold,permutation_test_score,cross_validate,cross_val_score\n",
    "from scipy import stats\n",
    "from sklearn.feature_selection import RFE,RFECV, mutual_info_classif,SelectPercentile ,mutual_info_regression,SequentialFeatureSelector\n",
    "from sklearn.compose import ColumnTransformer \n",
    "import seaborn as sns\n",
    "from sklearn.preprocessing import PowerTransformer,QuantileTransformer,RobustScaler,MinMaxScaler\n",
    "from sklearn import set_config\n",
    "from sklearn.linear_model import LogisticRegression\n",
    "from imblearn.over_sampling import SMOTENC , SMOTE, ADASYN ,RandomOverSampler,SVMSMOTE\n",
    "from imblearn.under_sampling import RandomUnderSampler\n",
    "from sklearn import svm\n",
    "from imblearn.pipeline import Pipeline\n",
    "from sklearn.ensemble import RandomForestClassifier\n",
    "from sklearn.ensemble import ExtraTreesClassifier\n",
    "from sklearn.tree import DecisionTreeClassifier\n",
    "from sklearn.neighbors import KNeighborsClassifier\n",
    "from tensorflow.keras import layers\n",
    "from tensorflow.keras import models\n",
    "import tensorflow as tf\n",
    "from tensorflow.keras.callbacks import EarlyStopping\n",
    "from tensorflow.keras import regularizers\n",
    "from sklearn.metrics import  confusion_matrix, accuracy_score, balanced_accuracy_score, roc_auc_score,recall_score\n",
    "from sklearn.calibration import calibration_curve"
   ]
  },
  {
   "cell_type": "code",
   "execution_count": 2,
   "id": "cf726894",
   "metadata": {},
   "outputs": [
    {
     "name": "stdout",
     "output_type": "stream",
     "text": [
      "     PTE   Age  Sex  ICULOS   GCS  GOSE  SAH  IVH  Pneumo  EDH  SDH  ICH  \\\n",
      "0    1.0  38.0  0.0    33.0   5.0   2.0  1.0  0.0     0.0  1.0  1.0  1.0   \n",
      "1    1.0  30.0  1.0    39.0   7.0   2.0  1.0  0.0     0.0  0.0  0.0  1.0   \n",
      "2    1.0  26.0  0.0    31.0   6.0   3.0  1.0  0.0     0.0  0.0  0.0  0.0   \n",
      "3    1.0  30.0  1.0    19.0   4.0   2.0  0.0  0.0     1.0  0.0  1.0  0.0   \n",
      "4    1.0  41.0  1.0    15.0   8.0   5.0  0.0  0.0     0.0  0.0  0.0  1.0   \n",
      "..   ...   ...  ...     ...   ...   ...  ...  ...     ...  ...  ...  ...   \n",
      "723  0.0  14.0  0.0    12.0  11.0   8.0  0.0  0.0     0.0  0.0  1.0  1.0   \n",
      "724  0.0  38.0  0.0     5.0  13.0   8.0  0.0  0.0     0.0  0.0  0.0  0.0   \n",
      "725  0.0  33.0  0.0     4.0   5.0   8.0  0.0  0.0     0.0  0.0  0.0  0.0   \n",
      "726  0.0  30.0  0.0    19.0   6.0   2.0  0.0  0.0     0.0  0.0  0.0  1.0   \n",
      "727  0.0  24.0  0.0     9.0   9.0   8.0  0.0  0.0     0.0  0.0  0.0  1.0   \n",
      "\n",
      "     DSFx  Shift  \n",
      "0     0.0    0.0  \n",
      "1     0.0    0.0  \n",
      "2     0.0    0.0  \n",
      "3     1.0    1.0  \n",
      "4     0.0    0.0  \n",
      "..    ...    ...  \n",
      "723   0.0    0.0  \n",
      "724   0.0    0.0  \n",
      "725   0.0    0.0  \n",
      "726   0.0    0.0  \n",
      "727   0.0    0.0  \n",
      "\n",
      "[728 rows x 14 columns] \n",
      " PTE       0\n",
      "Age       0\n",
      "Sex       0\n",
      "ICULOS    0\n",
      "GCS       0\n",
      "GOSE      0\n",
      "SAH       0\n",
      "IVH       0\n",
      "Pneumo    0\n",
      "EDH       0\n",
      "SDH       0\n",
      "ICH       0\n",
      "DSFx      0\n",
      "Shift     0\n",
      "dtype: int64\n"
     ]
    }
   ],
   "source": [
    "df=pd.read_spss('PTScalculatorMLFinal.sav',usecols=['PTS1No2','Age','Sex','ICULOS',\n",
    "                                                    'GCS','GOSE','SAH','IVH','Pneumo','EDH','SDH','ICH','DSFx','Shift'],\n",
    "                convert_categoricals=False)\n",
    "\n",
    "#df['brain_hemo']=df[['SAH','IVH','EDH','SDH','ICH']].sum(axis=1)\n",
    "#df.loc[df['brain_hemo']>=1,'brain_hemo']=1\n",
    "\n",
    "columns_name=df.columns.to_list()\n",
    "columns_name[0]='PTE'\n",
    "df.columns=columns_name\n",
    "\n",
    "\n",
    "print(df,'\\n',df.isnull().sum())"
   ]
  },
  {
   "cell_type": "code",
   "execution_count": 3,
   "id": "63a85cfb",
   "metadata": {},
   "outputs": [
    {
     "name": "stdout",
     "output_type": "stream",
     "text": [
      "<class 'pandas.core.frame.DataFrame'>\n",
      "RangeIndex: 728 entries, 0 to 727\n",
      "Data columns (total 14 columns):\n",
      " #   Column  Non-Null Count  Dtype  \n",
      "---  ------  --------------  -----  \n",
      " 0   PTE     728 non-null    float64\n",
      " 1   Age     728 non-null    float64\n",
      " 2   Sex     728 non-null    float64\n",
      " 3   ICULOS  728 non-null    float64\n",
      " 4   GCS     728 non-null    float64\n",
      " 5   GOSE    728 non-null    float64\n",
      " 6   SAH     728 non-null    float64\n",
      " 7   IVH     728 non-null    float64\n",
      " 8   Pneumo  728 non-null    float64\n",
      " 9   EDH     728 non-null    float64\n",
      " 10  SDH     728 non-null    float64\n",
      " 11  ICH     728 non-null    float64\n",
      " 12  DSFx    728 non-null    float64\n",
      " 13  Shift   728 non-null    float64\n",
      "dtypes: float64(14)\n",
      "memory usage: 79.8 KB\n"
     ]
    }
   ],
   "source": [
    "df.info()"
   ]
  },
  {
   "cell_type": "code",
   "execution_count": 4,
   "id": "99610395",
   "metadata": {},
   "outputs": [
    {
     "data": {
      "text/html": [
       "<div>\n",
       "<style scoped>\n",
       "    .dataframe tbody tr th:only-of-type {\n",
       "        vertical-align: middle;\n",
       "    }\n",
       "\n",
       "    .dataframe tbody tr th {\n",
       "        vertical-align: top;\n",
       "    }\n",
       "\n",
       "    .dataframe thead th {\n",
       "        text-align: right;\n",
       "    }\n",
       "</style>\n",
       "<table border=\"1\" class=\"dataframe\">\n",
       "  <thead>\n",
       "    <tr style=\"text-align: right;\">\n",
       "      <th></th>\n",
       "      <th>PTE</th>\n",
       "      <th>Age</th>\n",
       "      <th>Sex</th>\n",
       "      <th>ICULOS</th>\n",
       "      <th>GCS</th>\n",
       "      <th>GOSE</th>\n",
       "      <th>SAH</th>\n",
       "      <th>IVH</th>\n",
       "      <th>Pneumo</th>\n",
       "      <th>EDH</th>\n",
       "      <th>SDH</th>\n",
       "      <th>ICH</th>\n",
       "      <th>DSFx</th>\n",
       "      <th>Shift</th>\n",
       "    </tr>\n",
       "  </thead>\n",
       "  <tbody>\n",
       "    <tr>\n",
       "      <th>count</th>\n",
       "      <td>728.000000</td>\n",
       "      <td>728.000000</td>\n",
       "      <td>728.000000</td>\n",
       "      <td>728.000000</td>\n",
       "      <td>728.000000</td>\n",
       "      <td>728.000000</td>\n",
       "      <td>728.000000</td>\n",
       "      <td>728.000000</td>\n",
       "      <td>728.000000</td>\n",
       "      <td>728.000000</td>\n",
       "      <td>728.000000</td>\n",
       "      <td>728.000000</td>\n",
       "      <td>728.000000</td>\n",
       "      <td>728.000000</td>\n",
       "    </tr>\n",
       "    <tr>\n",
       "      <th>mean</th>\n",
       "      <td>0.108516</td>\n",
       "      <td>33.824176</td>\n",
       "      <td>0.159341</td>\n",
       "      <td>15.829670</td>\n",
       "      <td>7.035714</td>\n",
       "      <td>5.115385</td>\n",
       "      <td>0.310440</td>\n",
       "      <td>0.119505</td>\n",
       "      <td>0.101648</td>\n",
       "      <td>0.182692</td>\n",
       "      <td>0.292582</td>\n",
       "      <td>0.399725</td>\n",
       "      <td>0.085165</td>\n",
       "      <td>0.104396</td>\n",
       "    </tr>\n",
       "    <tr>\n",
       "      <th>std</th>\n",
       "      <td>0.311245</td>\n",
       "      <td>15.601709</td>\n",
       "      <td>0.366245</td>\n",
       "      <td>11.374268</td>\n",
       "      <td>2.335973</td>\n",
       "      <td>2.221660</td>\n",
       "      <td>0.462992</td>\n",
       "      <td>0.324605</td>\n",
       "      <td>0.302393</td>\n",
       "      <td>0.386680</td>\n",
       "      <td>0.455261</td>\n",
       "      <td>0.490179</td>\n",
       "      <td>0.279319</td>\n",
       "      <td>0.305983</td>\n",
       "    </tr>\n",
       "    <tr>\n",
       "      <th>min</th>\n",
       "      <td>0.000000</td>\n",
       "      <td>14.000000</td>\n",
       "      <td>0.000000</td>\n",
       "      <td>0.000000</td>\n",
       "      <td>3.000000</td>\n",
       "      <td>2.000000</td>\n",
       "      <td>0.000000</td>\n",
       "      <td>0.000000</td>\n",
       "      <td>0.000000</td>\n",
       "      <td>0.000000</td>\n",
       "      <td>0.000000</td>\n",
       "      <td>0.000000</td>\n",
       "      <td>0.000000</td>\n",
       "      <td>0.000000</td>\n",
       "    </tr>\n",
       "    <tr>\n",
       "      <th>25%</th>\n",
       "      <td>0.000000</td>\n",
       "      <td>22.000000</td>\n",
       "      <td>0.000000</td>\n",
       "      <td>8.000000</td>\n",
       "      <td>6.000000</td>\n",
       "      <td>3.000000</td>\n",
       "      <td>0.000000</td>\n",
       "      <td>0.000000</td>\n",
       "      <td>0.000000</td>\n",
       "      <td>0.000000</td>\n",
       "      <td>0.000000</td>\n",
       "      <td>0.000000</td>\n",
       "      <td>0.000000</td>\n",
       "      <td>0.000000</td>\n",
       "    </tr>\n",
       "    <tr>\n",
       "      <th>50%</th>\n",
       "      <td>0.000000</td>\n",
       "      <td>30.000000</td>\n",
       "      <td>0.000000</td>\n",
       "      <td>14.000000</td>\n",
       "      <td>7.000000</td>\n",
       "      <td>5.000000</td>\n",
       "      <td>0.000000</td>\n",
       "      <td>0.000000</td>\n",
       "      <td>0.000000</td>\n",
       "      <td>0.000000</td>\n",
       "      <td>0.000000</td>\n",
       "      <td>0.000000</td>\n",
       "      <td>0.000000</td>\n",
       "      <td>0.000000</td>\n",
       "    </tr>\n",
       "    <tr>\n",
       "      <th>75%</th>\n",
       "      <td>0.000000</td>\n",
       "      <td>41.000000</td>\n",
       "      <td>0.000000</td>\n",
       "      <td>21.000000</td>\n",
       "      <td>8.000000</td>\n",
       "      <td>7.000000</td>\n",
       "      <td>1.000000</td>\n",
       "      <td>0.000000</td>\n",
       "      <td>0.000000</td>\n",
       "      <td>0.000000</td>\n",
       "      <td>1.000000</td>\n",
       "      <td>1.000000</td>\n",
       "      <td>0.000000</td>\n",
       "      <td>0.000000</td>\n",
       "    </tr>\n",
       "    <tr>\n",
       "      <th>max</th>\n",
       "      <td>1.000000</td>\n",
       "      <td>98.000000</td>\n",
       "      <td>1.000000</td>\n",
       "      <td>90.000000</td>\n",
       "      <td>13.000000</td>\n",
       "      <td>8.000000</td>\n",
       "      <td>1.000000</td>\n",
       "      <td>1.000000</td>\n",
       "      <td>1.000000</td>\n",
       "      <td>1.000000</td>\n",
       "      <td>1.000000</td>\n",
       "      <td>1.000000</td>\n",
       "      <td>1.000000</td>\n",
       "      <td>1.000000</td>\n",
       "    </tr>\n",
       "  </tbody>\n",
       "</table>\n",
       "</div>"
      ],
      "text/plain": [
       "              PTE         Age         Sex      ICULOS         GCS        GOSE  \\\n",
       "count  728.000000  728.000000  728.000000  728.000000  728.000000  728.000000   \n",
       "mean     0.108516   33.824176    0.159341   15.829670    7.035714    5.115385   \n",
       "std      0.311245   15.601709    0.366245   11.374268    2.335973    2.221660   \n",
       "min      0.000000   14.000000    0.000000    0.000000    3.000000    2.000000   \n",
       "25%      0.000000   22.000000    0.000000    8.000000    6.000000    3.000000   \n",
       "50%      0.000000   30.000000    0.000000   14.000000    7.000000    5.000000   \n",
       "75%      0.000000   41.000000    0.000000   21.000000    8.000000    7.000000   \n",
       "max      1.000000   98.000000    1.000000   90.000000   13.000000    8.000000   \n",
       "\n",
       "              SAH         IVH      Pneumo         EDH         SDH         ICH  \\\n",
       "count  728.000000  728.000000  728.000000  728.000000  728.000000  728.000000   \n",
       "mean     0.310440    0.119505    0.101648    0.182692    0.292582    0.399725   \n",
       "std      0.462992    0.324605    0.302393    0.386680    0.455261    0.490179   \n",
       "min      0.000000    0.000000    0.000000    0.000000    0.000000    0.000000   \n",
       "25%      0.000000    0.000000    0.000000    0.000000    0.000000    0.000000   \n",
       "50%      0.000000    0.000000    0.000000    0.000000    0.000000    0.000000   \n",
       "75%      1.000000    0.000000    0.000000    0.000000    1.000000    1.000000   \n",
       "max      1.000000    1.000000    1.000000    1.000000    1.000000    1.000000   \n",
       "\n",
       "             DSFx       Shift  \n",
       "count  728.000000  728.000000  \n",
       "mean     0.085165    0.104396  \n",
       "std      0.279319    0.305983  \n",
       "min      0.000000    0.000000  \n",
       "25%      0.000000    0.000000  \n",
       "50%      0.000000    0.000000  \n",
       "75%      0.000000    0.000000  \n",
       "max      1.000000    1.000000  "
      ]
     },
     "execution_count": 4,
     "metadata": {},
     "output_type": "execute_result"
    }
   ],
   "source": [
    "df.describe()"
   ]
  },
  {
   "cell_type": "code",
   "execution_count": 5,
   "id": "44467e27",
   "metadata": {},
   "outputs": [
    {
     "data": {
      "text/plain": [
       "Index(['PTE', 'Age', 'Sex', 'ICULOS', 'GCS', 'GOSE', 'SAH', 'IVH', 'Pneumo',\n",
       "       'EDH', 'SDH', 'ICH', 'DSFx', 'Shift'],\n",
       "      dtype='object')"
      ]
     },
     "execution_count": 5,
     "metadata": {},
     "output_type": "execute_result"
    }
   ],
   "source": [
    "df.columns"
   ]
  },
  {
   "cell_type": "code",
   "execution_count": 6,
   "id": "4e76501b",
   "metadata": {},
   "outputs": [
    {
     "data": {
      "image/png": "[encoded data removed]",
      "text/plain": [
       "<Figure size 720x720 with 1 Axes>"
      ]
     },
     "metadata": {
      "needs_background": "light"
     },
     "output_type": "display_data"
    }
   ],
   "source": [
    "df_desc=df[['PTE', 'Sex', 'SAH', 'IVH', 'Pneumo',\n",
    "       'EDH', 'SDH', 'ICH', 'DSFx', 'Shift']]\n",
    "\n",
    "df_stacked = pd.DataFrame({'No/Male':[pd.value_counts(df_desc[i])[0] for i in df_desc.columns.to_list()],\n",
    "                           'Yes/Female':[pd.value_counts(df_desc[i])[1] for i in df_desc.columns.to_list()]},index=df_desc.columns)\n",
    "\n",
    "df_stacked_norm=df_stacked.div(df_stacked.sum(axis=1),axis=0)\n",
    "\n",
    "ax=df_stacked_norm.plot(kind='barh',stacked=True,width=0.4,figsize=(10,10))\n",
    "\n",
    "for p in ax.patches:\n",
    "    \n",
    "    width=p.get_width()\n",
    "    height=p.get_height()\n",
    "    x,y=p.get_xy()\n",
    "    \n",
    "    plt.text(x+0.7*width , y+0.3*height,f'{width*100:.2f}%')"
   ]
  },
  {
   "cell_type": "code",
   "execution_count": 7,
   "id": "8345c874",
   "metadata": {},
   "outputs": [],
   "source": [
    "def train_test(array,test_size,cat_idx,level_of_sig_mann,level_of_sig_chi,level_of_sig_kol):\n",
    "    list_idxs= []\n",
    "\n",
    "    def my_filter(x):\n",
    "\n",
    "        unchosen_idxs = list(set (range(array.shape[0])) - set (x))\n",
    "        test_array=array[x,:]\n",
    "        train_array=array[unchosen_idxs,:]\n",
    "\n",
    "        list_of_distrubition_stat=[]\n",
    "\n",
    "        for i in range(array.shape[1]):\n",
    "            \n",
    "            if i in cat_idx:  # chi_square test to ensure similar distribution in test and train set\n",
    "                obs=np.array([[(train_array[:,i]==0).sum(),(train_array[:,i]==1).sum()],[(array[:,i]==0).sum(),(array[:,i]==1).sum()]])\n",
    "                obs2=np.array([[(test_array[:,i]==0).sum(),(test_array[:,i]==1).sum()],[(array[:,i]==0).sum(),(array[:,i]==1).sum()]])\n",
    "                \n",
    "                g, p, dof, expctd2 =stats.chi2_contingency(obs)\n",
    "                g2, p2, dof2, expctd2 = stats.chi2_contingency(obs2)\n",
    "                \n",
    "                if p<=level_of_sig_chi or p2<=level_of_sig_chi:\n",
    "                    list_of_distrubition_stat.append(False)\n",
    "                    \n",
    "                else:\n",
    "                    list_of_distrubition_stat.append(True)\n",
    "                    \n",
    "            else: #continious variables\n",
    "                stat , p = stats.ks_2samp(train_array[:,i],array[:,i])  #2 sample kolmongrov-smirnov test to check distribution similarity\n",
    "                stat2 , p2 = stats.ks_2samp(array[:,i],test_array[:,i])\n",
    "                \n",
    "                if p<=level_of_sig_kol or p2<=level_of_sig_kol:\n",
    "                    list_of_distrubition_stat.append(False)\n",
    "                    \n",
    "                else:\n",
    "                    statman , pman=stats.mannwhitneyu(train_array[:,i],array[:,i])\n",
    "                    statman2 , pman2=stats.mannwhitneyu(test_array[:,i],array[:,i])\n",
    "                    \n",
    "                    if pman<=level_of_sig_mann or pman2<=level_of_sig_mann:\n",
    "                        list_of_distrubition_stat.append(False)\n",
    "                        \n",
    "                    else:\n",
    "                        list_of_distrubition_stat.append(True)\n",
    "                        \n",
    "        out=np.array(list_of_distrubition_stat)\n",
    "        \n",
    "        if np.all(out):\n",
    "            return True\n",
    "        \n",
    "        else:\n",
    "            return False\n",
    "        \n",
    "    for i in range(10000):\n",
    "        x=np.random.choice(range(array.shape[0]),round(array.shape[0]*test_size),replace=False).tolist()\n",
    "        list_idxs.append(x)\n",
    "        \n",
    "    desired_idxs= filter(  my_filter ,list_idxs)\n",
    "    \n",
    "    for i in desired_idxs:\n",
    "        return array[i,:] , array[list(set (range(array.shape[0])) - set (i)),:]\n",
    "\n",
    "\n"
   ]
  },
  {
   "cell_type": "code",
   "execution_count": 8,
   "id": "62b5893e",
   "metadata": {},
   "outputs": [],
   "source": [
    "np.random.seed(42)\n",
    "test , train = train_test(df.values,0.2,[0,2,6,7,8,9,10,11,12,13],0.25,0.25,0.25)"
   ]
  },
  {
   "cell_type": "code",
   "execution_count": 9,
   "id": "eb2159fa",
   "metadata": {},
   "outputs": [
    {
     "data": {
      "text/plain": [
       "KstestResult(statistic=0.010077980438805182, pvalue=0.9999999999999546)"
      ]
     },
     "execution_count": 9,
     "metadata": {},
     "output_type": "execute_result"
    }
   ],
   "source": [
    "stats.ks_2samp(train[:,1],df.iloc[:,1].values)"
   ]
  },
  {
   "cell_type": "code",
   "execution_count": 10,
   "id": "3c3d2575",
   "metadata": {},
   "outputs": [
    {
     "data": {
      "text/plain": [
       "(0.7183802785813393,\n",
       " 0.3966757215873583,\n",
       " 1,\n",
       " array([[129.46224256,  16.53775744],\n",
       "        [645.53775744,  82.46224256]]))"
      ]
     },
     "execution_count": 10,
     "metadata": {},
     "output_type": "execute_result"
    }
   ],
   "source": [
    "stats.chi2_contingency(np.array([[(test[:,0]==0).sum(),(test[:,0]==1).sum()],\n",
    "                                 [df.iloc[:,0].isin([0]).sum(),df.iloc[:,0].isin([1]).sum()]]))"
   ]
  },
  {
   "cell_type": "code",
   "execution_count": 11,
   "id": "112e7fd9",
   "metadata": {},
   "outputs": [
    {
     "name": "stdout",
     "output_type": "stream",
     "text": [
      "[ 0.1369863  33.20547945  0.17123288 15.56164384  7.17808219  5.15068493\n",
      "  0.33561644  0.13013699  0.13013699  0.20547945  0.30821918  0.41780822\n",
      "  0.10958904  0.09589041] [ 0.10137457 33.97938144  0.15635739 15.89690722  7.          5.10652921\n",
      "  0.30412371  0.11683849  0.09450172  0.17697595  0.28865979  0.395189\n",
      "  0.0790378   0.10652921] [ 0.10851648 33.82417582  0.15934066 15.82967033  7.03571429  5.11538462\n",
      "  0.31043956  0.11950549  0.10164835  0.18269231  0.29258242  0.39972527\n",
      "  0.08516484  0.1043956 ]\n"
     ]
    }
   ],
   "source": [
    "print(np.mean(test,axis=0) , np.mean(train,axis=0) , np.mean(df.values,axis=0))"
   ]
  },
  {
   "cell_type": "code",
   "execution_count": 12,
   "id": "3f8742de",
   "metadata": {},
   "outputs": [
    {
     "data": {
      "text/html": [
       "<div>\n",
       "<style scoped>\n",
       "    .dataframe tbody tr th:only-of-type {\n",
       "        vertical-align: middle;\n",
       "    }\n",
       "\n",
       "    .dataframe tbody tr th {\n",
       "        vertical-align: top;\n",
       "    }\n",
       "\n",
       "    .dataframe thead th {\n",
       "        text-align: right;\n",
       "    }\n",
       "</style>\n",
       "<table border=\"1\" class=\"dataframe\">\n",
       "  <thead>\n",
       "    <tr style=\"text-align: right;\">\n",
       "      <th></th>\n",
       "      <th>PTE</th>\n",
       "      <th>Age</th>\n",
       "      <th>Sex</th>\n",
       "      <th>ICULOS</th>\n",
       "      <th>GCS</th>\n",
       "      <th>GOSE</th>\n",
       "      <th>SAH</th>\n",
       "      <th>IVH</th>\n",
       "      <th>Pneumo</th>\n",
       "      <th>EDH</th>\n",
       "      <th>SDH</th>\n",
       "      <th>ICH</th>\n",
       "      <th>DSFx</th>\n",
       "      <th>Shift</th>\n",
       "    </tr>\n",
       "  </thead>\n",
       "  <tbody>\n",
       "    <tr>\n",
       "      <th>0</th>\n",
       "      <td>1.0</td>\n",
       "      <td>38.0</td>\n",
       "      <td>0.0</td>\n",
       "      <td>33.0</td>\n",
       "      <td>5.0</td>\n",
       "      <td>2.0</td>\n",
       "      <td>1.0</td>\n",
       "      <td>0.0</td>\n",
       "      <td>0.0</td>\n",
       "      <td>1.0</td>\n",
       "      <td>1.0</td>\n",
       "      <td>1.0</td>\n",
       "      <td>0.0</td>\n",
       "      <td>0.0</td>\n",
       "    </tr>\n",
       "    <tr>\n",
       "      <th>1</th>\n",
       "      <td>1.0</td>\n",
       "      <td>30.0</td>\n",
       "      <td>1.0</td>\n",
       "      <td>39.0</td>\n",
       "      <td>7.0</td>\n",
       "      <td>2.0</td>\n",
       "      <td>1.0</td>\n",
       "      <td>0.0</td>\n",
       "      <td>0.0</td>\n",
       "      <td>0.0</td>\n",
       "      <td>0.0</td>\n",
       "      <td>1.0</td>\n",
       "      <td>0.0</td>\n",
       "      <td>0.0</td>\n",
       "    </tr>\n",
       "    <tr>\n",
       "      <th>2</th>\n",
       "      <td>1.0</td>\n",
       "      <td>30.0</td>\n",
       "      <td>1.0</td>\n",
       "      <td>19.0</td>\n",
       "      <td>4.0</td>\n",
       "      <td>2.0</td>\n",
       "      <td>0.0</td>\n",
       "      <td>0.0</td>\n",
       "      <td>1.0</td>\n",
       "      <td>0.0</td>\n",
       "      <td>1.0</td>\n",
       "      <td>0.0</td>\n",
       "      <td>1.0</td>\n",
       "      <td>1.0</td>\n",
       "    </tr>\n",
       "    <tr>\n",
       "      <th>3</th>\n",
       "      <td>1.0</td>\n",
       "      <td>41.0</td>\n",
       "      <td>1.0</td>\n",
       "      <td>15.0</td>\n",
       "      <td>8.0</td>\n",
       "      <td>5.0</td>\n",
       "      <td>0.0</td>\n",
       "      <td>0.0</td>\n",
       "      <td>0.0</td>\n",
       "      <td>0.0</td>\n",
       "      <td>0.0</td>\n",
       "      <td>1.0</td>\n",
       "      <td>0.0</td>\n",
       "      <td>0.0</td>\n",
       "    </tr>\n",
       "    <tr>\n",
       "      <th>4</th>\n",
       "      <td>1.0</td>\n",
       "      <td>37.0</td>\n",
       "      <td>1.0</td>\n",
       "      <td>20.0</td>\n",
       "      <td>6.0</td>\n",
       "      <td>5.0</td>\n",
       "      <td>0.0</td>\n",
       "      <td>0.0</td>\n",
       "      <td>0.0</td>\n",
       "      <td>0.0</td>\n",
       "      <td>0.0</td>\n",
       "      <td>0.0</td>\n",
       "      <td>0.0</td>\n",
       "      <td>0.0</td>\n",
       "    </tr>\n",
       "    <tr>\n",
       "      <th>...</th>\n",
       "      <td>...</td>\n",
       "      <td>...</td>\n",
       "      <td>...</td>\n",
       "      <td>...</td>\n",
       "      <td>...</td>\n",
       "      <td>...</td>\n",
       "      <td>...</td>\n",
       "      <td>...</td>\n",
       "      <td>...</td>\n",
       "      <td>...</td>\n",
       "      <td>...</td>\n",
       "      <td>...</td>\n",
       "      <td>...</td>\n",
       "      <td>...</td>\n",
       "    </tr>\n",
       "    <tr>\n",
       "      <th>577</th>\n",
       "      <td>0.0</td>\n",
       "      <td>34.0</td>\n",
       "      <td>0.0</td>\n",
       "      <td>3.0</td>\n",
       "      <td>10.0</td>\n",
       "      <td>8.0</td>\n",
       "      <td>0.0</td>\n",
       "      <td>0.0</td>\n",
       "      <td>0.0</td>\n",
       "      <td>0.0</td>\n",
       "      <td>0.0</td>\n",
       "      <td>0.0</td>\n",
       "      <td>0.0</td>\n",
       "      <td>0.0</td>\n",
       "    </tr>\n",
       "    <tr>\n",
       "      <th>578</th>\n",
       "      <td>0.0</td>\n",
       "      <td>28.0</td>\n",
       "      <td>0.0</td>\n",
       "      <td>14.0</td>\n",
       "      <td>6.0</td>\n",
       "      <td>4.0</td>\n",
       "      <td>0.0</td>\n",
       "      <td>0.0</td>\n",
       "      <td>0.0</td>\n",
       "      <td>0.0</td>\n",
       "      <td>1.0</td>\n",
       "      <td>0.0</td>\n",
       "      <td>0.0</td>\n",
       "      <td>0.0</td>\n",
       "    </tr>\n",
       "    <tr>\n",
       "      <th>579</th>\n",
       "      <td>0.0</td>\n",
       "      <td>33.0</td>\n",
       "      <td>0.0</td>\n",
       "      <td>4.0</td>\n",
       "      <td>5.0</td>\n",
       "      <td>8.0</td>\n",
       "      <td>0.0</td>\n",
       "      <td>0.0</td>\n",
       "      <td>0.0</td>\n",
       "      <td>0.0</td>\n",
       "      <td>0.0</td>\n",
       "      <td>0.0</td>\n",
       "      <td>0.0</td>\n",
       "      <td>0.0</td>\n",
       "    </tr>\n",
       "    <tr>\n",
       "      <th>580</th>\n",
       "      <td>0.0</td>\n",
       "      <td>30.0</td>\n",
       "      <td>0.0</td>\n",
       "      <td>19.0</td>\n",
       "      <td>6.0</td>\n",
       "      <td>2.0</td>\n",
       "      <td>0.0</td>\n",
       "      <td>0.0</td>\n",
       "      <td>0.0</td>\n",
       "      <td>0.0</td>\n",
       "      <td>0.0</td>\n",
       "      <td>1.0</td>\n",
       "      <td>0.0</td>\n",
       "      <td>0.0</td>\n",
       "    </tr>\n",
       "    <tr>\n",
       "      <th>581</th>\n",
       "      <td>0.0</td>\n",
       "      <td>24.0</td>\n",
       "      <td>0.0</td>\n",
       "      <td>9.0</td>\n",
       "      <td>9.0</td>\n",
       "      <td>8.0</td>\n",
       "      <td>0.0</td>\n",
       "      <td>0.0</td>\n",
       "      <td>0.0</td>\n",
       "      <td>0.0</td>\n",
       "      <td>0.0</td>\n",
       "      <td>1.0</td>\n",
       "      <td>0.0</td>\n",
       "      <td>0.0</td>\n",
       "    </tr>\n",
       "  </tbody>\n",
       "</table>\n",
       "<p>582 rows × 14 columns</p>\n",
       "</div>"
      ],
      "text/plain": [
       "     PTE   Age  Sex  ICULOS   GCS  GOSE  SAH  IVH  Pneumo  EDH  SDH  ICH  \\\n",
       "0    1.0  38.0  0.0    33.0   5.0   2.0  1.0  0.0     0.0  1.0  1.0  1.0   \n",
       "1    1.0  30.0  1.0    39.0   7.0   2.0  1.0  0.0     0.0  0.0  0.0  1.0   \n",
       "2    1.0  30.0  1.0    19.0   4.0   2.0  0.0  0.0     1.0  0.0  1.0  0.0   \n",
       "3    1.0  41.0  1.0    15.0   8.0   5.0  0.0  0.0     0.0  0.0  0.0  1.0   \n",
       "4    1.0  37.0  1.0    20.0   6.0   5.0  0.0  0.0     0.0  0.0  0.0  0.0   \n",
       "..   ...   ...  ...     ...   ...   ...  ...  ...     ...  ...  ...  ...   \n",
       "577  0.0  34.0  0.0     3.0  10.0   8.0  0.0  0.0     0.0  0.0  0.0  0.0   \n",
       "578  0.0  28.0  0.0    14.0   6.0   4.0  0.0  0.0     0.0  0.0  1.0  0.0   \n",
       "579  0.0  33.0  0.0     4.0   5.0   8.0  0.0  0.0     0.0  0.0  0.0  0.0   \n",
       "580  0.0  30.0  0.0    19.0   6.0   2.0  0.0  0.0     0.0  0.0  0.0  1.0   \n",
       "581  0.0  24.0  0.0     9.0   9.0   8.0  0.0  0.0     0.0  0.0  0.0  1.0   \n",
       "\n",
       "     DSFx  Shift  \n",
       "0     0.0    0.0  \n",
       "1     0.0    0.0  \n",
       "2     1.0    1.0  \n",
       "3     0.0    0.0  \n",
       "4     0.0    0.0  \n",
       "..    ...    ...  \n",
       "577   0.0    0.0  \n",
       "578   0.0    0.0  \n",
       "579   0.0    0.0  \n",
       "580   0.0    0.0  \n",
       "581   0.0    0.0  \n",
       "\n",
       "[582 rows x 14 columns]"
      ]
     },
     "execution_count": 12,
     "metadata": {},
     "output_type": "execute_result"
    }
   ],
   "source": [
    "train_df=pd.DataFrame(train,columns=df.columns)\n",
    "train_df"
   ]
  },
  {
   "cell_type": "code",
   "execution_count": 13,
   "id": "e3488ce9",
   "metadata": {},
   "outputs": [
    {
     "data": {
      "image/png": "[encoded data removed]",
      "text/plain": [
       "<Figure size 1440x1440 with 196 Axes>"
      ]
     },
     "metadata": {
      "needs_background": "light"
     },
     "output_type": "display_data"
    }
   ],
   "source": [
    "pd.plotting.scatter_matrix(train_df,figsize=(20,20))\n",
    "plt.show()"
   ]
  },
  {
   "cell_type": "code",
   "execution_count": 14,
   "id": "69da2c33",
   "metadata": {},
   "outputs": [
    {
     "data": {
      "image/png": "[encoded data removed]",
      "text/plain": [
       "<Figure size 720x720 with 4 Axes>"
      ]
     },
     "metadata": {
      "needs_background": "light"
     },
     "output_type": "display_data"
    }
   ],
   "source": [
    "ax=train_df[['Age','GCS','GOSE','ICULOS']].hist(legend=True,figsize=(10,10))\n",
    "plt.show()"
   ]
  },
  {
   "cell_type": "code",
   "execution_count": 15,
   "id": "81dbe3e0",
   "metadata": {},
   "outputs": [
    {
     "data": {
      "image/png": "[encoded data removed]",
      "text/plain": [
       "<Figure size 720x720 with 1 Axes>"
      ]
     },
     "metadata": {
      "needs_background": "light"
     },
     "output_type": "display_data"
    }
   ],
   "source": [
    "ax=train_df[['Age','GCS','GOSE','ICULOS']].boxplot(figsize=(10,10))\n",
    "plt.show()"
   ]
  },
  {
   "cell_type": "code",
   "execution_count": 16,
   "id": "57050566",
   "metadata": {},
   "outputs": [
    {
     "data": {
      "text/html": [
       "<div>\n",
       "<style scoped>\n",
       "    .dataframe tbody tr th:only-of-type {\n",
       "        vertical-align: middle;\n",
       "    }\n",
       "\n",
       "    .dataframe tbody tr th {\n",
       "        vertical-align: top;\n",
       "    }\n",
       "\n",
       "    .dataframe thead th {\n",
       "        text-align: right;\n",
       "    }\n",
       "</style>\n",
       "<table border=\"1\" class=\"dataframe\">\n",
       "  <thead>\n",
       "    <tr style=\"text-align: right;\">\n",
       "      <th>col_0</th>\n",
       "      <th>0.0</th>\n",
       "      <th>1.0</th>\n",
       "    </tr>\n",
       "    <tr>\n",
       "      <th>row_0</th>\n",
       "      <th></th>\n",
       "      <th></th>\n",
       "    </tr>\n",
       "  </thead>\n",
       "  <tbody>\n",
       "    <tr>\n",
       "      <th>0.0</th>\n",
       "      <td>443</td>\n",
       "      <td>48</td>\n",
       "    </tr>\n",
       "    <tr>\n",
       "      <th>1.0</th>\n",
       "      <td>80</td>\n",
       "      <td>11</td>\n",
       "    </tr>\n",
       "  </tbody>\n",
       "</table>\n",
       "</div>"
      ],
      "text/plain": [
       "col_0  0.0  1.0\n",
       "row_0          \n",
       "0.0    443   48\n",
       "1.0     80   11"
      ]
     },
     "execution_count": 16,
     "metadata": {},
     "output_type": "execute_result"
    }
   ],
   "source": [
    "pd.crosstab(train[:,2],train[:,0])"
   ]
  },
  {
   "cell_type": "code",
   "execution_count": 17,
   "id": "c149ce8d",
   "metadata": {},
   "outputs": [
    {
     "name": "stdout",
     "output_type": "stream",
     "text": [
      "odds ratio_Sex:1.2690104166666667\tp_value_Sex:0.4561165319739451\n",
      "odds ratio_SAH:1.4116826503923279\tp_value_SAH:0.23446219874953145\n",
      "odds ratio_IVH:1.019546027742749\tp_value_IVH:1.0\n",
      "odds ratio_Pneumo:1.3321314102564104\tp_value_Pneumo:0.4824640053249665\n",
      "odds ratio_EDH:1.6851756198347108\tp_value_EDH:0.10680153190130783\n",
      "odds ratio_SDH:2.285904255319149\tp_value_SDH:0.00375963187442881\n",
      "odds ratio_ICH:1.8025843503230439\tp_value_ICH:0.03525261202354671\n",
      "odds ratio_DSFx:2.364324324324324\tp_value_DSFx:0.03879696647859155\n",
      "odds ratio_Shift:2.7338065661047026\tp_value_Shift:0.006228317024701014\n"
     ]
    }
   ],
   "source": [
    "cat_col={'Sex':2, 'SAH':6, 'IVH':7, 'Pneumo':8,'EDH':9, 'SDH':10, 'ICH':11, 'DSFx':12, 'Shift':13}\n",
    "\n",
    "for j,i in cat_col.items():\n",
    "    cross_tab=pd.crosstab(train[:,i],train[:,0])\n",
    "    odds,p=stats.fisher_exact(cross_tab)\n",
    "    print(f'odds ratio_{j}:{odds}\\tp_value_{j}:{p}')"
   ]
  },
  {
   "cell_type": "code",
   "execution_count": 18,
   "id": "3feaacc4",
   "metadata": {},
   "outputs": [
    {
     "data": {
      "text/plain": [
       "Index(['PTE', 'Age', 'Sex', 'ICULOS', 'GCS', 'GOSE', 'SAH', 'IVH', 'Pneumo',\n",
       "       'EDH', 'SDH', 'ICH', 'DSFx', 'Shift'],\n",
       "      dtype='object')"
      ]
     },
     "execution_count": 18,
     "metadata": {},
     "output_type": "execute_result"
    }
   ],
   "source": [
    "train_df.columns"
   ]
  },
  {
   "cell_type": "code",
   "execution_count": 19,
   "id": "b517ca30",
   "metadata": {},
   "outputs": [
    {
     "data": {
      "text/html": [
       "<style>#sk-faa08a5c-d675-457e-adf5-35ae0433c054 {color: black;background-color: white;}#sk-faa08a5c-d675-457e-adf5-35ae0433c054 pre{padding: 0;}#sk-faa08a5c-d675-457e-adf5-35ae0433c054 div.sk-toggleable {background-color: white;}#sk-faa08a5c-d675-457e-adf5-35ae0433c054 label.sk-toggleable__label {cursor: pointer;display: block;width: 100%;margin-bottom: 0;padding: 0.3em;box-sizing: border-box;text-align: center;}#sk-faa08a5c-d675-457e-adf5-35ae0433c054 label.sk-toggleable__label-arrow:before {content: \"▸\";float: left;margin-right: 0.25em;color: #696969;}#sk-faa08a5c-d675-457e-adf5-35ae0433c054 label.sk-toggleable__label-arrow:hover:before {color: black;}#sk-faa08a5c-d675-457e-adf5-35ae0433c054 div.sk-estimator:hover label.sk-toggleable__label-arrow:before {color: black;}#sk-faa08a5c-d675-457e-adf5-35ae0433c054 div.sk-toggleable__content {max-height: 0;max-width: 0;overflow: hidden;text-align: left;background-color: #f0f8ff;}#sk-faa08a5c-d675-457e-adf5-35ae0433c054 div.sk-toggleable__content pre {margin: 0.2em;color: black;border-radius: 0.25em;background-color: #f0f8ff;}#sk-faa08a5c-d675-457e-adf5-35ae0433c054 input.sk-toggleable__control:checked~div.sk-toggleable__content {max-height: 200px;max-width: 100%;overflow: auto;}#sk-faa08a5c-d675-457e-adf5-35ae0433c054 input.sk-toggleable__control:checked~label.sk-toggleable__label-arrow:before {content: \"▾\";}#sk-faa08a5c-d675-457e-adf5-35ae0433c054 div.sk-estimator input.sk-toggleable__control:checked~label.sk-toggleable__label {background-color: #d4ebff;}#sk-faa08a5c-d675-457e-adf5-35ae0433c054 div.sk-label input.sk-toggleable__control:checked~label.sk-toggleable__label {background-color: #d4ebff;}#sk-faa08a5c-d675-457e-adf5-35ae0433c054 input.sk-hidden--visually {border: 0;clip: rect(1px 1px 1px 1px);clip: rect(1px, 1px, 1px, 1px);height: 1px;margin: -1px;overflow: hidden;padding: 0;position: absolute;width: 1px;}#sk-faa08a5c-d675-457e-adf5-35ae0433c054 div.sk-estimator {font-family: monospace;background-color: #f0f8ff;border: 1px dotted black;border-radius: 0.25em;box-sizing: border-box;margin-bottom: 0.5em;}#sk-faa08a5c-d675-457e-adf5-35ae0433c054 div.sk-estimator:hover {background-color: #d4ebff;}#sk-faa08a5c-d675-457e-adf5-35ae0433c054 div.sk-parallel-item::after {content: \"\";width: 100%;border-bottom: 1px solid gray;flex-grow: 1;}#sk-faa08a5c-d675-457e-adf5-35ae0433c054 div.sk-label:hover label.sk-toggleable__label {background-color: #d4ebff;}#sk-faa08a5c-d675-457e-adf5-35ae0433c054 div.sk-serial::before {content: \"\";position: absolute;border-left: 1px solid gray;box-sizing: border-box;top: 2em;bottom: 0;left: 50%;}#sk-faa08a5c-d675-457e-adf5-35ae0433c054 div.sk-serial {display: flex;flex-direction: column;align-items: center;background-color: white;padding-right: 0.2em;padding-left: 0.2em;}#sk-faa08a5c-d675-457e-adf5-35ae0433c054 div.sk-item {z-index: 1;}#sk-faa08a5c-d675-457e-adf5-35ae0433c054 div.sk-parallel {display: flex;align-items: stretch;justify-content: center;background-color: white;}#sk-faa08a5c-d675-457e-adf5-35ae0433c054 div.sk-parallel::before {content: \"\";position: absolute;border-left: 1px solid gray;box-sizing: border-box;top: 2em;bottom: 0;left: 50%;}#sk-faa08a5c-d675-457e-adf5-35ae0433c054 div.sk-parallel-item {display: flex;flex-direction: column;position: relative;background-color: white;}#sk-faa08a5c-d675-457e-adf5-35ae0433c054 div.sk-parallel-item:first-child::after {align-self: flex-end;width: 50%;}#sk-faa08a5c-d675-457e-adf5-35ae0433c054 div.sk-parallel-item:last-child::after {align-self: flex-start;width: 50%;}#sk-faa08a5c-d675-457e-adf5-35ae0433c054 div.sk-parallel-item:only-child::after {width: 0;}#sk-faa08a5c-d675-457e-adf5-35ae0433c054 div.sk-dashed-wrapped {border: 1px dashed gray;margin: 0 0.4em 0.5em 0.4em;box-sizing: border-box;padding-bottom: 0.4em;background-color: white;position: relative;}#sk-faa08a5c-d675-457e-adf5-35ae0433c054 div.sk-label label {font-family: monospace;font-weight: bold;background-color: white;display: inline-block;line-height: 1.2em;}#sk-faa08a5c-d675-457e-adf5-35ae0433c054 div.sk-label-container {position: relative;z-index: 2;text-align: center;}#sk-faa08a5c-d675-457e-adf5-35ae0433c054 div.sk-container {/* jupyter's `normalize.less` sets `[hidden] { display: none; }` but bootstrap.min.css set `[hidden] { display: none !important; }` so we also need the `!important` here to be able to override the default hidden behavior on the sphinx rendered scikit-learn.org. See: https://github.com/scikit-learn/scikit-learn/issues/21755 */display: inline-block !important;position: relative;}#sk-faa08a5c-d675-457e-adf5-35ae0433c054 div.sk-text-repr-fallback {display: none;}</style><div id=\"sk-faa08a5c-d675-457e-adf5-35ae0433c054\" class=\"sk-top-container\"><div class=\"sk-text-repr-fallback\"><pre>ColumnTransformer(remainder=&#x27;passthrough&#x27;,\n",
       "                  transformers=[(&#x27;continious_trans&#x27;, RobustScaler(),\n",
       "                                 [0, 2, 3, 4]),\n",
       "                                (&#x27;pass&#x27;, &#x27;passthrough&#x27;,\n",
       "                                 [1, 5, 6, 7, 8, 9, 10, 11, 12])])</pre><b>Please rerun this cell to show the HTML repr or trust the notebook.</b></div><div class=\"sk-container\" hidden><div class=\"sk-item sk-dashed-wrapped\"><div class=\"sk-label-container\"><div class=\"sk-label sk-toggleable\"><input class=\"sk-toggleable__control sk-hidden--visually\" id=\"53285fe9-ce96-4b5b-9806-4444b449d04f\" type=\"checkbox\" ><label for=\"53285fe9-ce96-4b5b-9806-4444b449d04f\" class=\"sk-toggleable__label sk-toggleable__label-arrow\">ColumnTransformer</label><div class=\"sk-toggleable__content\"><pre>ColumnTransformer(remainder=&#x27;passthrough&#x27;,\n",
       "                  transformers=[(&#x27;continious_trans&#x27;, RobustScaler(),\n",
       "                                 [0, 2, 3, 4]),\n",
       "                                (&#x27;pass&#x27;, &#x27;passthrough&#x27;,\n",
       "                                 [1, 5, 6, 7, 8, 9, 10, 11, 12])])</pre></div></div></div><div class=\"sk-parallel\"><div class=\"sk-parallel-item\"><div class=\"sk-item\"><div class=\"sk-label-container\"><div class=\"sk-label sk-toggleable\"><input class=\"sk-toggleable__control sk-hidden--visually\" id=\"167c6f4e-38a1-4060-a299-b72a049001b5\" type=\"checkbox\" ><label for=\"167c6f4e-38a1-4060-a299-b72a049001b5\" class=\"sk-toggleable__label sk-toggleable__label-arrow\">continious_trans</label><div class=\"sk-toggleable__content\"><pre>[0, 2, 3, 4]</pre></div></div></div><div class=\"sk-serial\"><div class=\"sk-item\"><div class=\"sk-estimator sk-toggleable\"><input class=\"sk-toggleable__control sk-hidden--visually\" id=\"c1209746-9f4b-4eb0-8d2e-a57058de6a0b\" type=\"checkbox\" ><label for=\"c1209746-9f4b-4eb0-8d2e-a57058de6a0b\" class=\"sk-toggleable__label sk-toggleable__label-arrow\">RobustScaler</label><div class=\"sk-toggleable__content\"><pre>RobustScaler()</pre></div></div></div></div></div></div><div class=\"sk-parallel-item\"><div class=\"sk-item\"><div class=\"sk-label-container\"><div class=\"sk-label sk-toggleable\"><input class=\"sk-toggleable__control sk-hidden--visually\" id=\"4812c58b-743b-4ec4-8ea9-0718d1187d2c\" type=\"checkbox\" ><label for=\"4812c58b-743b-4ec4-8ea9-0718d1187d2c\" class=\"sk-toggleable__label sk-toggleable__label-arrow\">pass</label><div class=\"sk-toggleable__content\"><pre>[1, 5, 6, 7, 8, 9, 10, 11, 12]</pre></div></div></div><div class=\"sk-serial\"><div class=\"sk-item\"><div class=\"sk-estimator sk-toggleable\"><input class=\"sk-toggleable__control sk-hidden--visually\" id=\"3c30e982-47bb-40e1-b739-c8052f30e890\" type=\"checkbox\" ><label for=\"3c30e982-47bb-40e1-b739-c8052f30e890\" class=\"sk-toggleable__label sk-toggleable__label-arrow\">passthrough</label><div class=\"sk-toggleable__content\"><pre>passthrough</pre></div></div></div></div></div></div><div class=\"sk-parallel-item\"><div class=\"sk-item\"><div class=\"sk-label-container\"><div class=\"sk-label sk-toggleable\"><input class=\"sk-toggleable__control sk-hidden--visually\" id=\"b58e0eb7-4c22-4245-ab0e-83350583d5ac\" type=\"checkbox\" ><label for=\"b58e0eb7-4c22-4245-ab0e-83350583d5ac\" class=\"sk-toggleable__label sk-toggleable__label-arrow\">remainder</label><div class=\"sk-toggleable__content\"><pre></pre></div></div></div><div class=\"sk-serial\"><div class=\"sk-item\"><div class=\"sk-estimator sk-toggleable\"><input class=\"sk-toggleable__control sk-hidden--visually\" id=\"ba4f8acf-f84c-4c29-935e-e56d4ac4aab5\" type=\"checkbox\" ><label for=\"ba4f8acf-f84c-4c29-935e-e56d4ac4aab5\" class=\"sk-toggleable__label sk-toggleable__label-arrow\">passthrough</label><div class=\"sk-toggleable__content\"><pre>passthrough</pre></div></div></div></div></div></div></div></div></div></div>"
      ],
      "text/plain": [
       "ColumnTransformer(remainder='passthrough',\n",
       "                  transformers=[('continious_trans', RobustScaler(),\n",
       "                                 [0, 2, 3, 4]),\n",
       "                                ('pass', 'passthrough',\n",
       "                                 [1, 5, 6, 7, 8, 9, 10, 11, 12])])"
      ]
     },
     "execution_count": 19,
     "metadata": {},
     "output_type": "execute_result"
    }
   ],
   "source": [
    "scaler=ColumnTransformer([('continious_trans',RobustScaler(),[0,2,3,4]),\n",
    "                         ('pass','passthrough',[1,5,6,7,8,9,10,11,12])],\n",
    "                         remainder='passthrough')\n",
    "set_config(display='diagram')\n",
    "scaler"
   ]
  },
  {
   "cell_type": "code",
   "execution_count": 20,
   "id": "82f392ee",
   "metadata": {},
   "outputs": [],
   "source": [
    "x_train=train_df.loc[:,train_df.columns[1:]]"
   ]
  },
  {
   "cell_type": "code",
   "execution_count": 21,
   "id": "800e253b",
   "metadata": {},
   "outputs": [
    {
     "data": {
      "text/plain": [
       "array([[38.,  0., 33., ...,  1.,  0.,  0.],\n",
       "       [30.,  1., 39., ...,  1.,  0.,  0.],\n",
       "       [30.,  1., 19., ...,  0.,  1.,  1.],\n",
       "       ...,\n",
       "       [33.,  0.,  4., ...,  0.,  0.,  0.],\n",
       "       [30.,  0., 19., ...,  1.,  0.,  0.],\n",
       "       [24.,  0.,  9., ...,  1.,  0.,  0.]])"
      ]
     },
     "execution_count": 21,
     "metadata": {},
     "output_type": "execute_result"
    }
   ],
   "source": [
    "x_train=x_train.values\n",
    "x_train"
   ]
  },
  {
   "cell_type": "code",
   "execution_count": 22,
   "id": "804c054f",
   "metadata": {},
   "outputs": [],
   "source": [
    "y_train=train_df.iloc[:,0]\n",
    "y_train=y_train.values"
   ]
  },
  {
   "cell_type": "code",
   "execution_count": 23,
   "id": "83b7503a",
   "metadata": {},
   "outputs": [],
   "source": [
    "skf = StratifiedKFold(n_splits=5,shuffle=True,random_state=42)"
   ]
  },
  {
   "cell_type": "code",
   "execution_count": 24,
   "id": "a11acea3",
   "metadata": {},
   "outputs": [
    {
     "data": {
      "text/html": [
       "<style>#sk-a09d8a7c-fc77-46c3-8e5a-a274f204b1cb {color: black;background-color: white;}#sk-a09d8a7c-fc77-46c3-8e5a-a274f204b1cb pre{padding: 0;}#sk-a09d8a7c-fc77-46c3-8e5a-a274f204b1cb div.sk-toggleable {background-color: white;}#sk-a09d8a7c-fc77-46c3-8e5a-a274f204b1cb label.sk-toggleable__label {cursor: pointer;display: block;width: 100%;margin-bottom: 0;padding: 0.3em;box-sizing: border-box;text-align: center;}#sk-a09d8a7c-fc77-46c3-8e5a-a274f204b1cb label.sk-toggleable__label-arrow:before {content: \"▸\";float: left;margin-right: 0.25em;color: #696969;}#sk-a09d8a7c-fc77-46c3-8e5a-a274f204b1cb label.sk-toggleable__label-arrow:hover:before {color: black;}#sk-a09d8a7c-fc77-46c3-8e5a-a274f204b1cb div.sk-estimator:hover label.sk-toggleable__label-arrow:before {color: black;}#sk-a09d8a7c-fc77-46c3-8e5a-a274f204b1cb div.sk-toggleable__content {max-height: 0;max-width: 0;overflow: hidden;text-align: left;background-color: #f0f8ff;}#sk-a09d8a7c-fc77-46c3-8e5a-a274f204b1cb div.sk-toggleable__content pre {margin: 0.2em;color: black;border-radius: 0.25em;background-color: #f0f8ff;}#sk-a09d8a7c-fc77-46c3-8e5a-a274f204b1cb input.sk-toggleable__control:checked~div.sk-toggleable__content {max-height: 200px;max-width: 100%;overflow: auto;}#sk-a09d8a7c-fc77-46c3-8e5a-a274f204b1cb input.sk-toggleable__control:checked~label.sk-toggleable__label-arrow:before {content: \"▾\";}#sk-a09d8a7c-fc77-46c3-8e5a-a274f204b1cb div.sk-estimator input.sk-toggleable__control:checked~label.sk-toggleable__label {background-color: #d4ebff;}#sk-a09d8a7c-fc77-46c3-8e5a-a274f204b1cb div.sk-label input.sk-toggleable__control:checked~label.sk-toggleable__label {background-color: #d4ebff;}#sk-a09d8a7c-fc77-46c3-8e5a-a274f204b1cb input.sk-hidden--visually {border: 0;clip: rect(1px 1px 1px 1px);clip: rect(1px, 1px, 1px, 1px);height: 1px;margin: -1px;overflow: hidden;padding: 0;position: absolute;width: 1px;}#sk-a09d8a7c-fc77-46c3-8e5a-a274f204b1cb div.sk-estimator {font-family: monospace;background-color: #f0f8ff;border: 1px dotted black;border-radius: 0.25em;box-sizing: border-box;margin-bottom: 0.5em;}#sk-a09d8a7c-fc77-46c3-8e5a-a274f204b1cb div.sk-estimator:hover {background-color: #d4ebff;}#sk-a09d8a7c-fc77-46c3-8e5a-a274f204b1cb div.sk-parallel-item::after {content: \"\";width: 100%;border-bottom: 1px solid gray;flex-grow: 1;}#sk-a09d8a7c-fc77-46c3-8e5a-a274f204b1cb div.sk-label:hover label.sk-toggleable__label {background-color: #d4ebff;}#sk-a09d8a7c-fc77-46c3-8e5a-a274f204b1cb div.sk-serial::before {content: \"\";position: absolute;border-left: 1px solid gray;box-sizing: border-box;top: 2em;bottom: 0;left: 50%;}#sk-a09d8a7c-fc77-46c3-8e5a-a274f204b1cb div.sk-serial {display: flex;flex-direction: column;align-items: center;background-color: white;padding-right: 0.2em;padding-left: 0.2em;}#sk-a09d8a7c-fc77-46c3-8e5a-a274f204b1cb div.sk-item {z-index: 1;}#sk-a09d8a7c-fc77-46c3-8e5a-a274f204b1cb div.sk-parallel {display: flex;align-items: stretch;justify-content: center;background-color: white;}#sk-a09d8a7c-fc77-46c3-8e5a-a274f204b1cb div.sk-parallel::before {content: \"\";position: absolute;border-left: 1px solid gray;box-sizing: border-box;top: 2em;bottom: 0;left: 50%;}#sk-a09d8a7c-fc77-46c3-8e5a-a274f204b1cb div.sk-parallel-item {display: flex;flex-direction: column;position: relative;background-color: white;}#sk-a09d8a7c-fc77-46c3-8e5a-a274f204b1cb div.sk-parallel-item:first-child::after {align-self: flex-end;width: 50%;}#sk-a09d8a7c-fc77-46c3-8e5a-a274f204b1cb div.sk-parallel-item:last-child::after {align-self: flex-start;width: 50%;}#sk-a09d8a7c-fc77-46c3-8e5a-a274f204b1cb div.sk-parallel-item:only-child::after {width: 0;}#sk-a09d8a7c-fc77-46c3-8e5a-a274f204b1cb div.sk-dashed-wrapped {border: 1px dashed gray;margin: 0 0.4em 0.5em 0.4em;box-sizing: border-box;padding-bottom: 0.4em;background-color: white;position: relative;}#sk-a09d8a7c-fc77-46c3-8e5a-a274f204b1cb div.sk-label label {font-family: monospace;font-weight: bold;background-color: white;display: inline-block;line-height: 1.2em;}#sk-a09d8a7c-fc77-46c3-8e5a-a274f204b1cb div.sk-label-container {position: relative;z-index: 2;text-align: center;}#sk-a09d8a7c-fc77-46c3-8e5a-a274f204b1cb div.sk-container {/* jupyter's `normalize.less` sets `[hidden] { display: none; }` but bootstrap.min.css set `[hidden] { display: none !important; }` so we also need the `!important` here to be able to override the default hidden behavior on the sphinx rendered scikit-learn.org. See: https://github.com/scikit-learn/scikit-learn/issues/21755 */display: inline-block !important;position: relative;}#sk-a09d8a7c-fc77-46c3-8e5a-a274f204b1cb div.sk-text-repr-fallback {display: none;}</style><div id=\"sk-a09d8a7c-fc77-46c3-8e5a-a274f204b1cb\" class=\"sk-top-container\"><div class=\"sk-text-repr-fallback\"><pre>RFECV(cv=StratifiedKFold(n_splits=5, random_state=42, shuffle=True),\n",
       "      estimator=LogisticRegression(class_weight=&#x27;balanced&#x27;), n_jobs=8,\n",
       "      scoring=&#x27;balanced_accuracy&#x27;)</pre><b>Please rerun this cell to show the HTML repr or trust the notebook.</b></div><div class=\"sk-container\" hidden><div class=\"sk-item sk-dashed-wrapped\"><div class=\"sk-label-container\"><div class=\"sk-label sk-toggleable\"><input class=\"sk-toggleable__control sk-hidden--visually\" id=\"dc124971-5a66-44ec-bef0-0d3c1ddf2971\" type=\"checkbox\" ><label for=\"dc124971-5a66-44ec-bef0-0d3c1ddf2971\" class=\"sk-toggleable__label sk-toggleable__label-arrow\">RFECV</label><div class=\"sk-toggleable__content\"><pre>RFECV(cv=StratifiedKFold(n_splits=5, random_state=42, shuffle=True),\n",
       "      estimator=LogisticRegression(class_weight=&#x27;balanced&#x27;), n_jobs=8,\n",
       "      scoring=&#x27;balanced_accuracy&#x27;)</pre></div></div></div><div class=\"sk-parallel\"><div class=\"sk-parallel-item\"><div class=\"sk-item\"><div class=\"sk-serial\"><div class=\"sk-item\"><div class=\"sk-estimator sk-toggleable\"><input class=\"sk-toggleable__control sk-hidden--visually\" id=\"19ff7756-6e4b-40db-8fd3-81765d784bae\" type=\"checkbox\" ><label for=\"19ff7756-6e4b-40db-8fd3-81765d784bae\" class=\"sk-toggleable__label sk-toggleable__label-arrow\">LogisticRegression</label><div class=\"sk-toggleable__content\"><pre>LogisticRegression(class_weight=&#x27;balanced&#x27;)</pre></div></div></div></div></div></div></div></div></div></div>"
      ],
      "text/plain": [
       "RFECV(cv=StratifiedKFold(n_splits=5, random_state=42, shuffle=True),\n",
       "      estimator=LogisticRegression(class_weight='balanced'), n_jobs=8,\n",
       "      scoring='balanced_accuracy')"
      ]
     },
     "execution_count": 24,
     "metadata": {},
     "output_type": "execute_result"
    }
   ],
   "source": [
    "rfecv=RFECV(estimator=LogisticRegression(class_weight='balanced'),scoring='balanced_accuracy',cv=skf,n_jobs=8)\n",
    "rfecv.fit(scaler.fit_transform(x_train),y_train)"
   ]
  },
  {
   "cell_type": "code",
   "execution_count": 25,
   "id": "8448ac85",
   "metadata": {},
   "outputs": [
    {
     "data": {
      "text/plain": [
       "array([1, 3, 1, 1, 2, 4, 1, 1, 1, 1, 1, 1, 1])"
      ]
     },
     "execution_count": 25,
     "metadata": {},
     "output_type": "execute_result"
    }
   ],
   "source": [
    "rfecv.ranking_"
   ]
  },
  {
   "cell_type": "code",
   "execution_count": 26,
   "id": "a7cee993",
   "metadata": {},
   "outputs": [
    {
     "data": {
      "text/plain": [
       "array(['Age', 'ICULOS', 'GCS', 'GOSE', 'Sex', 'SAH', 'IVH', 'Pneumo',\n",
       "       'EDH', 'SDH', 'ICH', 'DSFx', 'Shift'], dtype='<U6')"
      ]
     },
     "execution_count": 26,
     "metadata": {},
     "output_type": "execute_result"
    }
   ],
   "source": [
    "x_train_df=np.array(['Age','ICULOS','GCS', 'GOSE','Sex','SAH', 'IVH', 'Pneumo',\n",
    "       'EDH', 'SDH', 'ICH', 'DSFx', 'Shift'])\n",
    "\n",
    "x_train_df"
   ]
  },
  {
   "cell_type": "code",
   "execution_count": 27,
   "id": "d7deaea9",
   "metadata": {},
   "outputs": [],
   "source": [
    "def mutual_feature(x,y,cat=list(range(4,13)),n=5):\n",
    "    return mutual_info_classif(x,y,discrete_features=cat,n_neighbors=n,random_state=42)"
   ]
  },
  {
   "cell_type": "code",
   "execution_count": 28,
   "id": "b46be17a",
   "metadata": {},
   "outputs": [
    {
     "name": "stdout",
     "output_type": "stream",
     "text": [
      "(465, 9) ['ICULOS' 'Age' 'SDH' 'GCS' 'Shift' 'ICH' 'DSFx' 'EDH' 'SAH' 'Pneumo'\n",
      " 'IVH' 'Sex' 'GOSE'] \n",
      "\n",
      "\n",
      "(465, 9) ['GOSE' 'Shift' 'Age' 'ICULOS' 'ICH' 'GCS' 'DSFx' 'SDH' 'EDH' 'SAH'\n",
      " 'Pneumo' 'Sex' 'IVH'] \n",
      "\n",
      "\n",
      "(466, 9) ['GOSE' 'ICULOS' 'SDH' 'Age' 'EDH' 'Shift' 'ICH' 'SAH' 'DSFx' 'IVH'\n",
      " 'Pneumo' 'Sex' 'GCS'] \n",
      "\n",
      "\n",
      "(466, 9) ['Age' 'SDH' 'ICULOS' 'Shift' 'GOSE' 'ICH' 'DSFx' 'EDH' 'GCS' 'SAH' 'Sex'\n",
      " 'IVH' 'Pneumo'] \n",
      "\n",
      "\n",
      "(466, 9) ['ICULOS' 'Shift' 'SDH' 'GOSE' 'DSFx' 'ICH' 'SAH' 'EDH' 'Pneumo' 'Sex'\n",
      " 'IVH' 'GCS' 'Age'] \n",
      "\n",
      "\n"
     ]
    }
   ],
   "source": [
    "for train_index, test_index in skf.split(x_train, y_train):\n",
    "    \n",
    "    #print(\"TRAIN:\", train_index, \"TEST:\", test_index)\n",
    "    \n",
    "    X_train_f, X_test_f = x_train[train_index], x_train[test_index]\n",
    "    Y_train, Y_test = y_train[train_index], y_train[test_index]\n",
    "    \n",
    "    x_train_scaled=scaler.fit_transform(X_train_f)\n",
    "    x_test_scaled=scaler.transform(X_test_f)\n",
    "    \n",
    "    percentile=SelectPercentile(mutual_feature,percentile=70)\n",
    "    x_feat=percentile.fit_transform(x_train_scaled,Y_train)\n",
    "    \n",
    "    indices=np.argsort(percentile.scores_)[::-1]\n",
    "    print(x_feat.shape,x_train_df[indices],'\\n\\n')"
   ]
  },
  {
   "cell_type": "code",
   "execution_count": 29,
   "id": "82948a30",
   "metadata": {},
   "outputs": [
    {
     "data": {
      "text/html": [
       "<style>#sk-eb9555a9-00a5-4362-9d34-9406cd01b3b0 {color: black;background-color: white;}#sk-eb9555a9-00a5-4362-9d34-9406cd01b3b0 pre{padding: 0;}#sk-eb9555a9-00a5-4362-9d34-9406cd01b3b0 div.sk-toggleable {background-color: white;}#sk-eb9555a9-00a5-4362-9d34-9406cd01b3b0 label.sk-toggleable__label {cursor: pointer;display: block;width: 100%;margin-bottom: 0;padding: 0.3em;box-sizing: border-box;text-align: center;}#sk-eb9555a9-00a5-4362-9d34-9406cd01b3b0 label.sk-toggleable__label-arrow:before {content: \"▸\";float: left;margin-right: 0.25em;color: #696969;}#sk-eb9555a9-00a5-4362-9d34-9406cd01b3b0 label.sk-toggleable__label-arrow:hover:before {color: black;}#sk-eb9555a9-00a5-4362-9d34-9406cd01b3b0 div.sk-estimator:hover label.sk-toggleable__label-arrow:before {color: black;}#sk-eb9555a9-00a5-4362-9d34-9406cd01b3b0 div.sk-toggleable__content {max-height: 0;max-width: 0;overflow: hidden;text-align: left;background-color: #f0f8ff;}#sk-eb9555a9-00a5-4362-9d34-9406cd01b3b0 div.sk-toggleable__content pre {margin: 0.2em;color: black;border-radius: 0.25em;background-color: #f0f8ff;}#sk-eb9555a9-00a5-4362-9d34-9406cd01b3b0 input.sk-toggleable__control:checked~div.sk-toggleable__content {max-height: 200px;max-width: 100%;overflow: auto;}#sk-eb9555a9-00a5-4362-9d34-9406cd01b3b0 input.sk-toggleable__control:checked~label.sk-toggleable__label-arrow:before {content: \"▾\";}#sk-eb9555a9-00a5-4362-9d34-9406cd01b3b0 div.sk-estimator input.sk-toggleable__control:checked~label.sk-toggleable__label {background-color: #d4ebff;}#sk-eb9555a9-00a5-4362-9d34-9406cd01b3b0 div.sk-label input.sk-toggleable__control:checked~label.sk-toggleable__label {background-color: #d4ebff;}#sk-eb9555a9-00a5-4362-9d34-9406cd01b3b0 input.sk-hidden--visually {border: 0;clip: rect(1px 1px 1px 1px);clip: rect(1px, 1px, 1px, 1px);height: 1px;margin: -1px;overflow: hidden;padding: 0;position: absolute;width: 1px;}#sk-eb9555a9-00a5-4362-9d34-9406cd01b3b0 div.sk-estimator {font-family: monospace;background-color: #f0f8ff;border: 1px dotted black;border-radius: 0.25em;box-sizing: border-box;margin-bottom: 0.5em;}#sk-eb9555a9-00a5-4362-9d34-9406cd01b3b0 div.sk-estimator:hover {background-color: #d4ebff;}#sk-eb9555a9-00a5-4362-9d34-9406cd01b3b0 div.sk-parallel-item::after {content: \"\";width: 100%;border-bottom: 1px solid gray;flex-grow: 1;}#sk-eb9555a9-00a5-4362-9d34-9406cd01b3b0 div.sk-label:hover label.sk-toggleable__label {background-color: #d4ebff;}#sk-eb9555a9-00a5-4362-9d34-9406cd01b3b0 div.sk-serial::before {content: \"\";position: absolute;border-left: 1px solid gray;box-sizing: border-box;top: 2em;bottom: 0;left: 50%;}#sk-eb9555a9-00a5-4362-9d34-9406cd01b3b0 div.sk-serial {display: flex;flex-direction: column;align-items: center;background-color: white;padding-right: 0.2em;padding-left: 0.2em;}#sk-eb9555a9-00a5-4362-9d34-9406cd01b3b0 div.sk-item {z-index: 1;}#sk-eb9555a9-00a5-4362-9d34-9406cd01b3b0 div.sk-parallel {display: flex;align-items: stretch;justify-content: center;background-color: white;}#sk-eb9555a9-00a5-4362-9d34-9406cd01b3b0 div.sk-parallel::before {content: \"\";position: absolute;border-left: 1px solid gray;box-sizing: border-box;top: 2em;bottom: 0;left: 50%;}#sk-eb9555a9-00a5-4362-9d34-9406cd01b3b0 div.sk-parallel-item {display: flex;flex-direction: column;position: relative;background-color: white;}#sk-eb9555a9-00a5-4362-9d34-9406cd01b3b0 div.sk-parallel-item:first-child::after {align-self: flex-end;width: 50%;}#sk-eb9555a9-00a5-4362-9d34-9406cd01b3b0 div.sk-parallel-item:last-child::after {align-self: flex-start;width: 50%;}#sk-eb9555a9-00a5-4362-9d34-9406cd01b3b0 div.sk-parallel-item:only-child::after {width: 0;}#sk-eb9555a9-00a5-4362-9d34-9406cd01b3b0 div.sk-dashed-wrapped {border: 1px dashed gray;margin: 0 0.4em 0.5em 0.4em;box-sizing: border-box;padding-bottom: 0.4em;background-color: white;position: relative;}#sk-eb9555a9-00a5-4362-9d34-9406cd01b3b0 div.sk-label label {font-family: monospace;font-weight: bold;background-color: white;display: inline-block;line-height: 1.2em;}#sk-eb9555a9-00a5-4362-9d34-9406cd01b3b0 div.sk-label-container {position: relative;z-index: 2;text-align: center;}#sk-eb9555a9-00a5-4362-9d34-9406cd01b3b0 div.sk-container {/* jupyter's `normalize.less` sets `[hidden] { display: none; }` but bootstrap.min.css set `[hidden] { display: none !important; }` so we also need the `!important` here to be able to override the default hidden behavior on the sphinx rendered scikit-learn.org. See: https://github.com/scikit-learn/scikit-learn/issues/21755 */display: inline-block !important;position: relative;}#sk-eb9555a9-00a5-4362-9d34-9406cd01b3b0 div.sk-text-repr-fallback {display: none;}</style><div id=\"sk-eb9555a9-00a5-4362-9d34-9406cd01b3b0\" class=\"sk-top-container\"><div class=\"sk-text-repr-fallback\"><pre>ColumnTransformer(remainder=&#x27;passthrough&#x27;,\n",
       "                  transformers=[(&#x27;continious_trans&#x27;, RobustScaler(),\n",
       "                                 [0, 2, 3, 4]),\n",
       "                                (&#x27;pass&#x27;, &#x27;passthrough&#x27;,\n",
       "                                 [1, 5, 6, 7, 8, 9, 10, 11, 12])])</pre><b>Please rerun this cell to show the HTML repr or trust the notebook.</b></div><div class=\"sk-container\" hidden><div class=\"sk-item sk-dashed-wrapped\"><div class=\"sk-label-container\"><div class=\"sk-label sk-toggleable\"><input class=\"sk-toggleable__control sk-hidden--visually\" id=\"3f1957d4-7d31-4475-83e6-9f350e5a7914\" type=\"checkbox\" ><label for=\"3f1957d4-7d31-4475-83e6-9f350e5a7914\" class=\"sk-toggleable__label sk-toggleable__label-arrow\">ColumnTransformer</label><div class=\"sk-toggleable__content\"><pre>ColumnTransformer(remainder=&#x27;passthrough&#x27;,\n",
       "                  transformers=[(&#x27;continious_trans&#x27;, RobustScaler(),\n",
       "                                 [0, 2, 3, 4]),\n",
       "                                (&#x27;pass&#x27;, &#x27;passthrough&#x27;,\n",
       "                                 [1, 5, 6, 7, 8, 9, 10, 11, 12])])</pre></div></div></div><div class=\"sk-parallel\"><div class=\"sk-parallel-item\"><div class=\"sk-item\"><div class=\"sk-label-container\"><div class=\"sk-label sk-toggleable\"><input class=\"sk-toggleable__control sk-hidden--visually\" id=\"d6234072-44a7-4d13-8f06-f1ecae85f15f\" type=\"checkbox\" ><label for=\"d6234072-44a7-4d13-8f06-f1ecae85f15f\" class=\"sk-toggleable__label sk-toggleable__label-arrow\">continious_trans</label><div class=\"sk-toggleable__content\"><pre>[0, 2, 3, 4]</pre></div></div></div><div class=\"sk-serial\"><div class=\"sk-item\"><div class=\"sk-estimator sk-toggleable\"><input class=\"sk-toggleable__control sk-hidden--visually\" id=\"5ab03a7f-3518-4bae-8d60-9abc8c0dfb7a\" type=\"checkbox\" ><label for=\"5ab03a7f-3518-4bae-8d60-9abc8c0dfb7a\" class=\"sk-toggleable__label sk-toggleable__label-arrow\">RobustScaler</label><div class=\"sk-toggleable__content\"><pre>RobustScaler()</pre></div></div></div></div></div></div><div class=\"sk-parallel-item\"><div class=\"sk-item\"><div class=\"sk-label-container\"><div class=\"sk-label sk-toggleable\"><input class=\"sk-toggleable__control sk-hidden--visually\" id=\"d4b018be-639a-4f37-a0bc-6460d0b7e02c\" type=\"checkbox\" ><label for=\"d4b018be-639a-4f37-a0bc-6460d0b7e02c\" class=\"sk-toggleable__label sk-toggleable__label-arrow\">pass</label><div class=\"sk-toggleable__content\"><pre>[1, 5, 6, 7, 8, 9, 10, 11, 12]</pre></div></div></div><div class=\"sk-serial\"><div class=\"sk-item\"><div class=\"sk-estimator sk-toggleable\"><input class=\"sk-toggleable__control sk-hidden--visually\" id=\"8bf505d8-6103-45c4-9456-7f4dc21d2c6d\" type=\"checkbox\" ><label for=\"8bf505d8-6103-45c4-9456-7f4dc21d2c6d\" class=\"sk-toggleable__label sk-toggleable__label-arrow\">passthrough</label><div class=\"sk-toggleable__content\"><pre>passthrough</pre></div></div></div></div></div></div><div class=\"sk-parallel-item\"><div class=\"sk-item\"><div class=\"sk-label-container\"><div class=\"sk-label sk-toggleable\"><input class=\"sk-toggleable__control sk-hidden--visually\" id=\"ecc676b9-3d6c-40c6-bb7f-4e44cd571cf0\" type=\"checkbox\" ><label for=\"ecc676b9-3d6c-40c6-bb7f-4e44cd571cf0\" class=\"sk-toggleable__label sk-toggleable__label-arrow\">remainder</label><div class=\"sk-toggleable__content\"><pre></pre></div></div></div><div class=\"sk-serial\"><div class=\"sk-item\"><div class=\"sk-estimator sk-toggleable\"><input class=\"sk-toggleable__control sk-hidden--visually\" id=\"c8950a14-a92d-4b24-8ff4-c68644544af9\" type=\"checkbox\" ><label for=\"c8950a14-a92d-4b24-8ff4-c68644544af9\" class=\"sk-toggleable__label sk-toggleable__label-arrow\">passthrough</label><div class=\"sk-toggleable__content\"><pre>passthrough</pre></div></div></div></div></div></div></div></div></div></div>"
      ],
      "text/plain": [
       "ColumnTransformer(remainder='passthrough',\n",
       "                  transformers=[('continious_trans', RobustScaler(),\n",
       "                                 [0, 2, 3, 4]),\n",
       "                                ('pass', 'passthrough',\n",
       "                                 [1, 5, 6, 7, 8, 9, 10, 11, 12])])"
      ]
     },
     "execution_count": 29,
     "metadata": {},
     "output_type": "execute_result"
    }
   ],
   "source": [
    "scaler=ColumnTransformer([('continious_trans',RobustScaler(),[0,2,3,4]),\n",
    "                         ('pass','passthrough',[1,5,6,7,8,9,10,11,12])],\n",
    "                         remainder='passthrough')\n",
    "set_config(display='diagram')\n",
    "scaler"
   ]
  },
  {
   "cell_type": "code",
   "execution_count": 30,
   "id": "a204b688",
   "metadata": {},
   "outputs": [],
   "source": [
    "x_train1=x_train[:,[0,1,2,3,4,5,6,7,8,9,10,11,12]]"
   ]
  },
  {
   "cell_type": "code",
   "execution_count": 31,
   "id": "6adade3b",
   "metadata": {},
   "outputs": [],
   "source": [
    "def mutual_feature(x,y,cat=list(range(4,13)),n=5):\n",
    "    return mutual_info_classif(x,y,discrete_features=cat,n_neighbors=n,random_state=42)"
   ]
  },
  {
   "cell_type": "code",
   "execution_count": 32,
   "id": "604ce789",
   "metadata": {},
   "outputs": [],
   "source": [
    "clf_log=Pipeline([('scaler',scaler),\n",
    "                  ('feature_selection',SelectPercentile(mutual_feature,percentile=100)),\n",
    "                  ('classifier',LogisticRegression(class_weight='balanced'))])\n",
    "\n",
    "scores=cross_validate(clf_log,x_train1,y_train,\n",
    "                      cv=skf,n_jobs=8,\n",
    "                      scoring=('balanced_accuracy','roc_auc','precision','recall','accuracy'),\n",
    "                      return_train_score=True)"
   ]
  },
  {
   "cell_type": "code",
   "execution_count": 33,
   "id": "472dbee5",
   "metadata": {},
   "outputs": [
    {
     "name": "stdout",
     "output_type": "stream",
     "text": [
      "mean:0.6851885154222579+/-0.01670245165115473\n"
     ]
    }
   ],
   "source": [
    "mean_log_train=np.mean(scores['train_balanced_accuracy'])\n",
    "std_log_train=1.96*np.std(scores['train_balanced_accuracy'])/5**(1/2)\n",
    "\n",
    "print(f'mean:{mean_log_train}+/-{std_log_train}')"
   ]
  },
  {
   "cell_type": "code",
   "execution_count": 34,
   "id": "0649d11b",
   "metadata": {},
   "outputs": [
    {
     "name": "stdout",
     "output_type": "stream",
     "text": [
      "mean:0.6394855144855145+/-0.04137274772180457\n"
     ]
    }
   ],
   "source": [
    "mean_log_test=np.mean(scores['test_balanced_accuracy'])\n",
    "std_log_test=1.96*np.std(scores['test_balanced_accuracy'])/5**(1/2)\n",
    "\n",
    "print(f'mean:{mean_log_test}+/-{std_log_test}')"
   ]
  },
  {
   "cell_type": "code",
   "execution_count": 35,
   "id": "bde71e14",
   "metadata": {},
   "outputs": [
    {
     "data": {
      "text/html": [
       "<style>#sk-44f6eddc-8ff2-46d2-994b-a7b829a5f797 {color: black;background-color: white;}#sk-44f6eddc-8ff2-46d2-994b-a7b829a5f797 pre{padding: 0;}#sk-44f6eddc-8ff2-46d2-994b-a7b829a5f797 div.sk-toggleable {background-color: white;}#sk-44f6eddc-8ff2-46d2-994b-a7b829a5f797 label.sk-toggleable__label {cursor: pointer;display: block;width: 100%;margin-bottom: 0;padding: 0.3em;box-sizing: border-box;text-align: center;}#sk-44f6eddc-8ff2-46d2-994b-a7b829a5f797 label.sk-toggleable__label-arrow:before {content: \"▸\";float: left;margin-right: 0.25em;color: #696969;}#sk-44f6eddc-8ff2-46d2-994b-a7b829a5f797 label.sk-toggleable__label-arrow:hover:before {color: black;}#sk-44f6eddc-8ff2-46d2-994b-a7b829a5f797 div.sk-estimator:hover label.sk-toggleable__label-arrow:before {color: black;}#sk-44f6eddc-8ff2-46d2-994b-a7b829a5f797 div.sk-toggleable__content {max-height: 0;max-width: 0;overflow: hidden;text-align: left;background-color: #f0f8ff;}#sk-44f6eddc-8ff2-46d2-994b-a7b829a5f797 div.sk-toggleable__content pre {margin: 0.2em;color: black;border-radius: 0.25em;background-color: #f0f8ff;}#sk-44f6eddc-8ff2-46d2-994b-a7b829a5f797 input.sk-toggleable__control:checked~div.sk-toggleable__content {max-height: 200px;max-width: 100%;overflow: auto;}#sk-44f6eddc-8ff2-46d2-994b-a7b829a5f797 input.sk-toggleable__control:checked~label.sk-toggleable__label-arrow:before {content: \"▾\";}#sk-44f6eddc-8ff2-46d2-994b-a7b829a5f797 div.sk-estimator input.sk-toggleable__control:checked~label.sk-toggleable__label {background-color: #d4ebff;}#sk-44f6eddc-8ff2-46d2-994b-a7b829a5f797 div.sk-label input.sk-toggleable__control:checked~label.sk-toggleable__label {background-color: #d4ebff;}#sk-44f6eddc-8ff2-46d2-994b-a7b829a5f797 input.sk-hidden--visually {border: 0;clip: rect(1px 1px 1px 1px);clip: rect(1px, 1px, 1px, 1px);height: 1px;margin: -1px;overflow: hidden;padding: 0;position: absolute;width: 1px;}#sk-44f6eddc-8ff2-46d2-994b-a7b829a5f797 div.sk-estimator {font-family: monospace;background-color: #f0f8ff;border: 1px dotted black;border-radius: 0.25em;box-sizing: border-box;margin-bottom: 0.5em;}#sk-44f6eddc-8ff2-46d2-994b-a7b829a5f797 div.sk-estimator:hover {background-color: #d4ebff;}#sk-44f6eddc-8ff2-46d2-994b-a7b829a5f797 div.sk-parallel-item::after {content: \"\";width: 100%;border-bottom: 1px solid gray;flex-grow: 1;}#sk-44f6eddc-8ff2-46d2-994b-a7b829a5f797 div.sk-label:hover label.sk-toggleable__label {background-color: #d4ebff;}#sk-44f6eddc-8ff2-46d2-994b-a7b829a5f797 div.sk-serial::before {content: \"\";position: absolute;border-left: 1px solid gray;box-sizing: border-box;top: 2em;bottom: 0;left: 50%;}#sk-44f6eddc-8ff2-46d2-994b-a7b829a5f797 div.sk-serial {display: flex;flex-direction: column;align-items: center;background-color: white;padding-right: 0.2em;padding-left: 0.2em;}#sk-44f6eddc-8ff2-46d2-994b-a7b829a5f797 div.sk-item {z-index: 1;}#sk-44f6eddc-8ff2-46d2-994b-a7b829a5f797 div.sk-parallel {display: flex;align-items: stretch;justify-content: center;background-color: white;}#sk-44f6eddc-8ff2-46d2-994b-a7b829a5f797 div.sk-parallel::before {content: \"\";position: absolute;border-left: 1px solid gray;box-sizing: border-box;top: 2em;bottom: 0;left: 50%;}#sk-44f6eddc-8ff2-46d2-994b-a7b829a5f797 div.sk-parallel-item {display: flex;flex-direction: column;position: relative;background-color: white;}#sk-44f6eddc-8ff2-46d2-994b-a7b829a5f797 div.sk-parallel-item:first-child::after {align-self: flex-end;width: 50%;}#sk-44f6eddc-8ff2-46d2-994b-a7b829a5f797 div.sk-parallel-item:last-child::after {align-self: flex-start;width: 50%;}#sk-44f6eddc-8ff2-46d2-994b-a7b829a5f797 div.sk-parallel-item:only-child::after {width: 0;}#sk-44f6eddc-8ff2-46d2-994b-a7b829a5f797 div.sk-dashed-wrapped {border: 1px dashed gray;margin: 0 0.4em 0.5em 0.4em;box-sizing: border-box;padding-bottom: 0.4em;background-color: white;position: relative;}#sk-44f6eddc-8ff2-46d2-994b-a7b829a5f797 div.sk-label label {font-family: monospace;font-weight: bold;background-color: white;display: inline-block;line-height: 1.2em;}#sk-44f6eddc-8ff2-46d2-994b-a7b829a5f797 div.sk-label-container {position: relative;z-index: 2;text-align: center;}#sk-44f6eddc-8ff2-46d2-994b-a7b829a5f797 div.sk-container {/* jupyter's `normalize.less` sets `[hidden] { display: none; }` but bootstrap.min.css set `[hidden] { display: none !important; }` so we also need the `!important` here to be able to override the default hidden behavior on the sphinx rendered scikit-learn.org. See: https://github.com/scikit-learn/scikit-learn/issues/21755 */display: inline-block !important;position: relative;}#sk-44f6eddc-8ff2-46d2-994b-a7b829a5f797 div.sk-text-repr-fallback {display: none;}</style><div id=\"sk-44f6eddc-8ff2-46d2-994b-a7b829a5f797\" class=\"sk-top-container\"><div class=\"sk-text-repr-fallback\"><pre>Pipeline(steps=[(&#x27;scaler&#x27;,\n",
       "                 ColumnTransformer(remainder=&#x27;passthrough&#x27;,\n",
       "                                   transformers=[(&#x27;continious_trans&#x27;,\n",
       "                                                  RobustScaler(),\n",
       "                                                  [0, 2, 3, 4]),\n",
       "                                                 (&#x27;pass&#x27;, &#x27;passthrough&#x27;,\n",
       "                                                  [1, 5, 6, 7, 8, 9, 10, 11,\n",
       "                                                   12])])),\n",
       "                (&#x27;feature_selection&#x27;,\n",
       "                 SelectPercentile(percentile=100,\n",
       "                                  score_func=&lt;function mutual_feature at 0x000001DEE4885AF0&gt;)),\n",
       "                (&#x27;classifier&#x27;, LogisticRegression(class_weight=&#x27;balanced&#x27;))])</pre><b>Please rerun this cell to show the HTML repr or trust the notebook.</b></div><div class=\"sk-container\" hidden><div class=\"sk-item sk-dashed-wrapped\"><div class=\"sk-label-container\"><div class=\"sk-label sk-toggleable\"><input class=\"sk-toggleable__control sk-hidden--visually\" id=\"bebb5297-3dfc-4427-981f-bd5055b47738\" type=\"checkbox\" ><label for=\"bebb5297-3dfc-4427-981f-bd5055b47738\" class=\"sk-toggleable__label sk-toggleable__label-arrow\">Pipeline</label><div class=\"sk-toggleable__content\"><pre>Pipeline(steps=[(&#x27;scaler&#x27;,\n",
       "                 ColumnTransformer(remainder=&#x27;passthrough&#x27;,\n",
       "                                   transformers=[(&#x27;continious_trans&#x27;,\n",
       "                                                  RobustScaler(),\n",
       "                                                  [0, 2, 3, 4]),\n",
       "                                                 (&#x27;pass&#x27;, &#x27;passthrough&#x27;,\n",
       "                                                  [1, 5, 6, 7, 8, 9, 10, 11,\n",
       "                                                   12])])),\n",
       "                (&#x27;feature_selection&#x27;,\n",
       "                 SelectPercentile(percentile=100,\n",
       "                                  score_func=&lt;function mutual_feature at 0x000001DEE4885AF0&gt;)),\n",
       "                (&#x27;classifier&#x27;, LogisticRegression(class_weight=&#x27;balanced&#x27;))])</pre></div></div></div><div class=\"sk-serial\"><div class=\"sk-item sk-dashed-wrapped\"><div class=\"sk-label-container\"><div class=\"sk-label sk-toggleable\"><input class=\"sk-toggleable__control sk-hidden--visually\" id=\"8a6e2f70-9f90-466c-9bd3-99236ec2a688\" type=\"checkbox\" ><label for=\"8a6e2f70-9f90-466c-9bd3-99236ec2a688\" class=\"sk-toggleable__label sk-toggleable__label-arrow\">scaler: ColumnTransformer</label><div class=\"sk-toggleable__content\"><pre>ColumnTransformer(remainder=&#x27;passthrough&#x27;,\n",
       "                  transformers=[(&#x27;continious_trans&#x27;, RobustScaler(),\n",
       "                                 [0, 2, 3, 4]),\n",
       "                                (&#x27;pass&#x27;, &#x27;passthrough&#x27;,\n",
       "                                 [1, 5, 6, 7, 8, 9, 10, 11, 12])])</pre></div></div></div><div class=\"sk-parallel\"><div class=\"sk-parallel-item\"><div class=\"sk-item\"><div class=\"sk-label-container\"><div class=\"sk-label sk-toggleable\"><input class=\"sk-toggleable__control sk-hidden--visually\" id=\"8499069c-7c7e-487e-a6ae-5bd69532500d\" type=\"checkbox\" ><label for=\"8499069c-7c7e-487e-a6ae-5bd69532500d\" class=\"sk-toggleable__label sk-toggleable__label-arrow\">continious_trans</label><div class=\"sk-toggleable__content\"><pre>[0, 2, 3, 4]</pre></div></div></div><div class=\"sk-serial\"><div class=\"sk-item\"><div class=\"sk-estimator sk-toggleable\"><input class=\"sk-toggleable__control sk-hidden--visually\" id=\"9d73412a-b8b9-4cde-b521-cf30c94e6681\" type=\"checkbox\" ><label for=\"9d73412a-b8b9-4cde-b521-cf30c94e6681\" class=\"sk-toggleable__label sk-toggleable__label-arrow\">RobustScaler</label><div class=\"sk-toggleable__content\"><pre>RobustScaler()</pre></div></div></div></div></div></div><div class=\"sk-parallel-item\"><div class=\"sk-item\"><div class=\"sk-label-container\"><div class=\"sk-label sk-toggleable\"><input class=\"sk-toggleable__control sk-hidden--visually\" id=\"114069c7-bf27-4d63-a68f-c38a6709d511\" type=\"checkbox\" ><label for=\"114069c7-bf27-4d63-a68f-c38a6709d511\" class=\"sk-toggleable__label sk-toggleable__label-arrow\">pass</label><div class=\"sk-toggleable__content\"><pre>[1, 5, 6, 7, 8, 9, 10, 11, 12]</pre></div></div></div><div class=\"sk-serial\"><div class=\"sk-item\"><div class=\"sk-estimator sk-toggleable\"><input class=\"sk-toggleable__control sk-hidden--visually\" id=\"6537c039-b0c6-497d-b666-efe52a5ce44a\" type=\"checkbox\" ><label for=\"6537c039-b0c6-497d-b666-efe52a5ce44a\" class=\"sk-toggleable__label sk-toggleable__label-arrow\">passthrough</label><div class=\"sk-toggleable__content\"><pre>passthrough</pre></div></div></div></div></div></div><div class=\"sk-parallel-item\"><div class=\"sk-item\"><div class=\"sk-label-container\"><div class=\"sk-label sk-toggleable\"><input class=\"sk-toggleable__control sk-hidden--visually\" id=\"da9ed999-dd7f-47d5-9f9d-0d6b27a406b9\" type=\"checkbox\" ><label for=\"da9ed999-dd7f-47d5-9f9d-0d6b27a406b9\" class=\"sk-toggleable__label sk-toggleable__label-arrow\">remainder</label><div class=\"sk-toggleable__content\"><pre>[]</pre></div></div></div><div class=\"sk-serial\"><div class=\"sk-item\"><div class=\"sk-estimator sk-toggleable\"><input class=\"sk-toggleable__control sk-hidden--visually\" id=\"6743cf38-5331-4df6-bc01-59d5da49b569\" type=\"checkbox\" ><label for=\"6743cf38-5331-4df6-bc01-59d5da49b569\" class=\"sk-toggleable__label sk-toggleable__label-arrow\">passthrough</label><div class=\"sk-toggleable__content\"><pre>passthrough</pre></div></div></div></div></div></div></div></div><div class=\"sk-item\"><div class=\"sk-estimator sk-toggleable\"><input class=\"sk-toggleable__control sk-hidden--visually\" id=\"6442c744-a5b0-4bb0-9b16-2f7ce0a28365\" type=\"checkbox\" ><label for=\"6442c744-a5b0-4bb0-9b16-2f7ce0a28365\" class=\"sk-toggleable__label sk-toggleable__label-arrow\">SelectPercentile</label><div class=\"sk-toggleable__content\"><pre>SelectPercentile(percentile=100,\n",
       "                 score_func=&lt;function mutual_feature at 0x000001DEE4885AF0&gt;)</pre></div></div></div><div class=\"sk-item\"><div class=\"sk-estimator sk-toggleable\"><input class=\"sk-toggleable__control sk-hidden--visually\" id=\"18acc96e-bc3f-463b-ba70-3e24979ebc20\" type=\"checkbox\" ><label for=\"18acc96e-bc3f-463b-ba70-3e24979ebc20\" class=\"sk-toggleable__label sk-toggleable__label-arrow\">LogisticRegression</label><div class=\"sk-toggleable__content\"><pre>LogisticRegression(class_weight=&#x27;balanced&#x27;)</pre></div></div></div></div></div></div></div>"
      ],
      "text/plain": [
       "Pipeline(steps=[('scaler',\n",
       "                 ColumnTransformer(remainder='passthrough',\n",
       "                                   transformers=[('continious_trans',\n",
       "                                                  RobustScaler(),\n",
       "                                                  [0, 2, 3, 4]),\n",
       "                                                 ('pass', 'passthrough',\n",
       "                                                  [1, 5, 6, 7, 8, 9, 10, 11,\n",
       "                                                   12])])),\n",
       "                ('feature_selection',\n",
       "                 SelectPercentile(percentile=100,\n",
       "                                  score_func=<function mutual_feature at 0x000001DEE4885AF0>)),\n",
       "                ('classifier', LogisticRegression(class_weight='balanced'))])"
      ]
     },
     "execution_count": 35,
     "metadata": {},
     "output_type": "execute_result"
    }
   ],
   "source": [
    "clf_log.fit(x_train1,y_train)"
   ]
  },
  {
   "cell_type": "code",
   "execution_count": 36,
   "id": "45b2b1e8",
   "metadata": {},
   "outputs": [
    {
     "data": {
      "image/png": "[encoded data removed]",
      "text/plain": [
       "<Figure size 432x288 with 1 Axes>"
      ]
     },
     "metadata": {
      "needs_background": "light"
     },
     "output_type": "display_data"
    }
   ],
   "source": [
    "plt.bar(['Age', 'ICULOS', 'GCS', 'GOSE', 'Sex','SAH', 'IVH', 'Pneumo',\n",
    "       'EDH', 'SDH', 'ICH', 'DSFx', 'Shift'],clf_log['classifier'].coef_.flatten(),width=0.4)\n",
    "plt.xticks(rotation=90)\n",
    "plt.show()"
   ]
  },
  {
   "cell_type": "code",
   "execution_count": 63,
   "id": "1a7fbb5a",
   "metadata": {},
   "outputs": [],
   "source": [
    "score_random, perm_random, pvalue_random = permutation_test_score(\n",
    "  clf_log ,x_train1, y_train, scoring=\"balanced_accuracy\", cv=skf, n_permutations=100,n_jobs=-1)"
   ]
  },
  {
   "cell_type": "code",
   "execution_count": 64,
   "id": "31a702ea",
   "metadata": {},
   "outputs": [
    {
     "data": {
      "text/plain": [
       "0.009900990099009901"
      ]
     },
     "execution_count": 64,
     "metadata": {},
     "output_type": "execute_result"
    }
   ],
   "source": [
    "pvalue_random"
   ]
  },
  {
   "cell_type": "code",
   "execution_count": 65,
   "id": "330ffba0",
   "metadata": {},
   "outputs": [
    {
     "data": {
      "image/png": "[encoded data removed]",
      "text/plain": [
       "<Figure size 432x288 with 1 Axes>"
      ]
     },
     "metadata": {
      "needs_background": "light"
     },
     "output_type": "display_data"
    }
   ],
   "source": [
    "fig, ax = plt.subplots()\n",
    "ax.hist(perm_random, bins=20, density=True)\n",
    "ax.axvline(score_random, ls='--', color='r')\n",
    "plt.xlabel('balanced accuracy')\n",
    "plt.ylabel('Frequency')\n",
    "plt.title('permutation result')\n",
    "plt.show()"
   ]
  },
  {
   "cell_type": "code",
   "execution_count": 66,
   "id": "b5683497",
   "metadata": {},
   "outputs": [],
   "source": [
    "clf_svm=Pipeline([('scaler',scaler),\n",
    "                  ('feature_selection',SelectPercentile(mutual_feature,percentile=100)),\n",
    "                  ('classifier',svm.SVC(gamma='auto',class_weight='balanced'))])\n",
    "\n",
    "scores=cross_validate(clf_svm,x_train1,y_train,\n",
    "                      cv=skf,n_jobs=8,\n",
    "                      scoring=('balanced_accuracy','roc_auc','precision','recall','accuracy'),return_train_score=True)"
   ]
  },
  {
   "cell_type": "code",
   "execution_count": 67,
   "id": "9de3c0c6",
   "metadata": {},
   "outputs": [
    {
     "name": "stdout",
     "output_type": "stream",
     "text": [
      "mean:0.7608984044436161+/-0.01584703874662671\n"
     ]
    }
   ],
   "source": [
    "mean_svm_train=np.mean(scores['train_balanced_accuracy'])\n",
    "std_svm_train=1.96*np.std(scores['train_balanced_accuracy'])/5**(1/2)\n",
    "\n",
    "print(f'mean:{mean_svm_train}+/-{std_svm_train}')"
   ]
  },
  {
   "cell_type": "code",
   "execution_count": 68,
   "id": "2db1fc70",
   "metadata": {},
   "outputs": [
    {
     "name": "stdout",
     "output_type": "stream",
     "text": [
      "mean:0.6603946053946055+/-0.06438452245805722\n"
     ]
    }
   ],
   "source": [
    "mean_svm_test=np.mean(scores['test_balanced_accuracy'])\n",
    "std_svm_test=1.96*np.std(scores['test_balanced_accuracy'])/5**(1/2)\n",
    "\n",
    "print(f'mean:{mean_svm_test}+/-{std_svm_test}')"
   ]
  },
  {
   "cell_type": "code",
   "execution_count": 69,
   "id": "c395c0ad",
   "metadata": {},
   "outputs": [],
   "source": [
    "clf_forest=Pipeline([('scaler',scaler),\n",
    "                  ('feature_selection',SelectPercentile(mutual_feature,percentile=100)),\n",
    "                  ('classifier',RandomForestClassifier(n_estimators=20,max_depth=20,min_samples_split=20,\n",
    "                                                       min_samples_leaf=30,random_state=42,class_weight='balanced'))])\n",
    "\n",
    "scores=cross_validate(clf_forest,x_train1,y_train,\n",
    "                      cv=skf,n_jobs=8,\n",
    "                      scoring=('balanced_accuracy','roc_auc','precision','recall','accuracy'),return_train_score=True)"
   ]
  },
  {
   "cell_type": "code",
   "execution_count": 70,
   "id": "67f62880",
   "metadata": {},
   "outputs": [
    {
     "name": "stdout",
     "output_type": "stream",
     "text": [
      "mean:0.7326944201547988+/-0.0090948630035555\n"
     ]
    }
   ],
   "source": [
    "mean_forest_train=np.mean(scores['train_balanced_accuracy'])\n",
    "std_forest_train=1.96*np.std(scores['train_balanced_accuracy'])/5**(1/2)\n",
    "\n",
    "print(f'mean:{mean_forest_train}+/-{std_forest_train}')"
   ]
  },
  {
   "cell_type": "code",
   "execution_count": 71,
   "id": "61ca77de",
   "metadata": {},
   "outputs": [
    {
     "name": "stdout",
     "output_type": "stream",
     "text": [
      "mean:0.6007634032634034+/-0.023866867092685314\n"
     ]
    }
   ],
   "source": [
    "mean_forest_test=np.mean(scores['test_balanced_accuracy'])\n",
    "std_forest_test=1.96*np.std(scores['test_balanced_accuracy'])/5**(1/2)\n",
    "\n",
    "print(f'mean:{mean_forest_test}+/-{std_forest_test}')"
   ]
  },
  {
   "cell_type": "code",
   "execution_count": 72,
   "id": "a39a9a0d",
   "metadata": {},
   "outputs": [],
   "source": [
    "clf_extra=Pipeline([('scaler',scaler),\n",
    "                  ('feature_selection',SelectPercentile(mutual_feature,percentile=100)),\n",
    "                  ('classifier',ExtraTreesClassifier(n_estimators=5,max_depth=5,class_weight='balanced'))])\n",
    "\n",
    "scores=cross_validate(clf_extra,x_train1,y_train,\n",
    "                      cv=skf,n_jobs=8,\n",
    "                      scoring=('balanced_accuracy','roc_auc','precision','recall','accuracy'),return_train_score=True)"
   ]
  },
  {
   "cell_type": "code",
   "execution_count": 73,
   "id": "e3237aa4",
   "metadata": {},
   "outputs": [
    {
     "name": "stdout",
     "output_type": "stream",
     "text": [
      "mean:0.7949462977801761+/-0.008533779413200488\n"
     ]
    }
   ],
   "source": [
    "mean_extra_train=np.mean(scores['train_balanced_accuracy'])\n",
    "std_extra_train=1.96*np.std(scores['train_balanced_accuracy'])/5**(1/2)\n",
    "\n",
    "print(f'mean:{mean_extra_train}+/-{std_extra_train}')"
   ]
  },
  {
   "cell_type": "code",
   "execution_count": 74,
   "id": "979db74d",
   "metadata": {},
   "outputs": [
    {
     "name": "stdout",
     "output_type": "stream",
     "text": [
      "mean:0.5171969696969697+/-0.058690622692360264\n"
     ]
    }
   ],
   "source": [
    "mean_extra_test=np.mean(scores['test_balanced_accuracy'])\n",
    "std_extra_test=1.96*np.std(scores['test_balanced_accuracy'])/5**(1/2)\n",
    "\n",
    "print(f'mean:{mean_extra_test}+/-{std_extra_test}')"
   ]
  },
  {
   "cell_type": "code",
   "execution_count": 53,
   "id": "af0e81e3",
   "metadata": {},
   "outputs": [],
   "source": [
    "clf_knn=Pipeline([('scaler',scaler),\n",
    "                  ('feature_selection',SelectPercentile(mutual_feature,percentile=100)),\n",
    "                  ('classifier',KNeighborsClassifier())])\n",
    "\n",
    "scores=cross_validate(clf_knn,x_train1,y_train,\n",
    "                      cv=skf,n_jobs=8,\n",
    "                      scoring=('balanced_accuracy','roc_auc','precision','recall','accuracy'),return_train_score=True)"
   ]
  },
  {
   "cell_type": "code",
   "execution_count": 54,
   "id": "2dad2f81",
   "metadata": {},
   "outputs": [
    {
     "name": "stdout",
     "output_type": "stream",
     "text": [
      "mean:0.5429574622367213+/-0.012113693789438757\n"
     ]
    }
   ],
   "source": [
    "mean_knn_train=np.mean(scores['train_balanced_accuracy'])\n",
    "std_knn_train=1.96*np.std(scores['train_balanced_accuracy'])/5**(1/2)\n",
    "\n",
    "print(f'mean:{mean_knn_train}+/-{std_knn_train}')"
   ]
  },
  {
   "cell_type": "code",
   "execution_count": 55,
   "id": "a2606dd2",
   "metadata": {},
   "outputs": [
    {
     "name": "stdout",
     "output_type": "stream",
     "text": [
      "mean:0.5128296703296703+/-0.019151213082325997\n"
     ]
    }
   ],
   "source": [
    "mean_knn_test=np.mean(scores['test_balanced_accuracy'])\n",
    "std_knn_test=1.96*np.std(scores['test_balanced_accuracy'])/5**(1/2)\n",
    "\n",
    "print(f'mean:{mean_knn_test}+/-{std_knn_test}')"
   ]
  },
  {
   "cell_type": "code",
   "execution_count": null,
   "id": "57a7c840",
   "metadata": {},
   "outputs": [],
   "source": [
    "#بدست اوردن AUC مدل ها\n",
    "#کشیدن کانفیوژن ماتریس ها\n",
    "#استفاده از کل فیچرها برای نورال نت\n",
    "#نحوه انتخاب مدل برای داده تست"
   ]
  },
  {
   "cell_type": "code",
   "execution_count": 75,
   "id": "9b8e6558",
   "metadata": {},
   "outputs": [],
   "source": [
    "clf_log=Pipeline([('scaler',scaler),\n",
    "                  ('feature_selection',SelectPercentile(mutual_feature,percentile=70)),\n",
    "                  ('balanced','passthrough'),\n",
    "                  ('RFE',RFE(LogisticRegression(),n_features_to_select=None)),\n",
    "                  ('classifier',LogisticRegression(class_weight=None))])"
   ]
  },
  {
   "cell_type": "code",
   "execution_count": 76,
   "id": "877b3707",
   "metadata": {},
   "outputs": [],
   "source": [
    "percentile=[20,30,40,50,60,70,80,90,100]\n",
    "balance=[ADASYN(random_state=42),RandomOverSampler(random_state=42),SMOTE(random_state=42),RandomUnderSampler(random_state=42)]\n",
    "sampling_strategy=np.linspace(0.2,1,40)\n",
    "rfe=list(range(1,14))\n",
    "penalty=['elasticnet']\n",
    "C=np.linspace(0.1,10,100)\n",
    "solver=['saga']\n",
    "l1_ratio=np.linspace(0.1,1,100)\n",
    "\n",
    "param_clf_log=[{'feature_selection__percentile':percentile,\n",
    "                'balanced':balance,\n",
    "                'balanced__sampling_strategy':sampling_strategy,\n",
    "                'RFE__n_features_to_select':rfe,\n",
    "                'classifier__penalty':penalty,\n",
    "                'classifier__C':C,\n",
    "                'classifier__solver':solver,\n",
    "                'classifier__l1_ratio':l1_ratio}]\n",
    "\n",
    "randomized=RandomizedSearchCV(estimator=clf_log,  param_distributions=param_clf_log,  n_iter=5000,   \n",
    "                              scoring='balanced_accuracy', cv=skf ,n_jobs=-1,random_state=42,verbose=4)"
   ]
  },
  {
   "cell_type": "code",
   "execution_count": 77,
   "id": "bbd21d57",
   "metadata": {},
   "outputs": [
    {
     "name": "stdout",
     "output_type": "stream",
     "text": [
      "Fitting 5 folds for each of 5000 candidates, totalling 25000 fits\n"
     ]
    },
    {
     "data": {
      "text/html": [
       "<style>#sk-caaae62d-c005-47b4-9008-d9c54cdf1d76 {color: black;background-color: white;}#sk-caaae62d-c005-47b4-9008-d9c54cdf1d76 pre{padding: 0;}#sk-caaae62d-c005-47b4-9008-d9c54cdf1d76 div.sk-toggleable {background-color: white;}#sk-caaae62d-c005-47b4-9008-d9c54cdf1d76 label.sk-toggleable__label {cursor: pointer;display: block;width: 100%;margin-bottom: 0;padding: 0.3em;box-sizing: border-box;text-align: center;}#sk-caaae62d-c005-47b4-9008-d9c54cdf1d76 label.sk-toggleable__label-arrow:before {content: \"▸\";float: left;margin-right: 0.25em;color: #696969;}#sk-caaae62d-c005-47b4-9008-d9c54cdf1d76 label.sk-toggleable__label-arrow:hover:before {color: black;}#sk-caaae62d-c005-47b4-9008-d9c54cdf1d76 div.sk-estimator:hover label.sk-toggleable__label-arrow:before {color: black;}#sk-caaae62d-c005-47b4-9008-d9c54cdf1d76 div.sk-toggleable__content {max-height: 0;max-width: 0;overflow: hidden;text-align: left;background-color: #f0f8ff;}#sk-caaae62d-c005-47b4-9008-d9c54cdf1d76 div.sk-toggleable__content pre {margin: 0.2em;color: black;border-radius: 0.25em;background-color: #f0f8ff;}#sk-caaae62d-c005-47b4-9008-d9c54cdf1d76 input.sk-toggleable__control:checked~div.sk-toggleable__content {max-height: 200px;max-width: 100%;overflow: auto;}#sk-caaae62d-c005-47b4-9008-d9c54cdf1d76 input.sk-toggleable__control:checked~label.sk-toggleable__label-arrow:before {content: \"▾\";}#sk-caaae62d-c005-47b4-9008-d9c54cdf1d76 div.sk-estimator input.sk-toggleable__control:checked~label.sk-toggleable__label {background-color: #d4ebff;}#sk-caaae62d-c005-47b4-9008-d9c54cdf1d76 div.sk-label input.sk-toggleable__control:checked~label.sk-toggleable__label {background-color: #d4ebff;}#sk-caaae62d-c005-47b4-9008-d9c54cdf1d76 input.sk-hidden--visually {border: 0;clip: rect(1px 1px 1px 1px);clip: rect(1px, 1px, 1px, 1px);height: 1px;margin: -1px;overflow: hidden;padding: 0;position: absolute;width: 1px;}#sk-caaae62d-c005-47b4-9008-d9c54cdf1d76 div.sk-estimator {font-family: monospace;background-color: #f0f8ff;border: 1px dotted black;border-radius: 0.25em;box-sizing: border-box;margin-bottom: 0.5em;}#sk-caaae62d-c005-47b4-9008-d9c54cdf1d76 div.sk-estimator:hover {background-color: #d4ebff;}#sk-caaae62d-c005-47b4-9008-d9c54cdf1d76 div.sk-parallel-item::after {content: \"\";width: 100%;border-bottom: 1px solid gray;flex-grow: 1;}#sk-caaae62d-c005-47b4-9008-d9c54cdf1d76 div.sk-label:hover label.sk-toggleable__label {background-color: #d4ebff;}#sk-caaae62d-c005-47b4-9008-d9c54cdf1d76 div.sk-serial::before {content: \"\";position: absolute;border-left: 1px solid gray;box-sizing: border-box;top: 2em;bottom: 0;left: 50%;}#sk-caaae62d-c005-47b4-9008-d9c54cdf1d76 div.sk-serial {display: flex;flex-direction: column;align-items: center;background-color: white;padding-right: 0.2em;padding-left: 0.2em;}#sk-caaae62d-c005-47b4-9008-d9c54cdf1d76 div.sk-item {z-index: 1;}#sk-caaae62d-c005-47b4-9008-d9c54cdf1d76 div.sk-parallel {display: flex;align-items: stretch;justify-content: center;background-color: white;}#sk-caaae62d-c005-47b4-9008-d9c54cdf1d76 div.sk-parallel::before {content: \"\";position: absolute;border-left: 1px solid gray;box-sizing: border-box;top: 2em;bottom: 0;left: 50%;}#sk-caaae62d-c005-47b4-9008-d9c54cdf1d76 div.sk-parallel-item {display: flex;flex-direction: column;position: relative;background-color: white;}#sk-caaae62d-c005-47b4-9008-d9c54cdf1d76 div.sk-parallel-item:first-child::after {align-self: flex-end;width: 50%;}#sk-caaae62d-c005-47b4-9008-d9c54cdf1d76 div.sk-parallel-item:last-child::after {align-self: flex-start;width: 50%;}#sk-caaae62d-c005-47b4-9008-d9c54cdf1d76 div.sk-parallel-item:only-child::after {width: 0;}#sk-caaae62d-c005-47b4-9008-d9c54cdf1d76 div.sk-dashed-wrapped {border: 1px dashed gray;margin: 0 0.4em 0.5em 0.4em;box-sizing: border-box;padding-bottom: 0.4em;background-color: white;position: relative;}#sk-caaae62d-c005-47b4-9008-d9c54cdf1d76 div.sk-label label {font-family: monospace;font-weight: bold;background-color: white;display: inline-block;line-height: 1.2em;}#sk-caaae62d-c005-47b4-9008-d9c54cdf1d76 div.sk-label-container {position: relative;z-index: 2;text-align: center;}#sk-caaae62d-c005-47b4-9008-d9c54cdf1d76 div.sk-container {/* jupyter's `normalize.less` sets `[hidden] { display: none; }` but bootstrap.min.css set `[hidden] { display: none !important; }` so we also need the `!important` here to be able to override the default hidden behavior on the sphinx rendered scikit-learn.org. See: https://github.com/scikit-learn/scikit-learn/issues/21755 */display: inline-block !important;position: relative;}#sk-caaae62d-c005-47b4-9008-d9c54cdf1d76 div.sk-text-repr-fallback {display: none;}</style><div id=\"sk-caaae62d-c005-47b4-9008-d9c54cdf1d76\" class=\"sk-top-container\"><div class=\"sk-text-repr-fallback\"><pre>RandomizedSearchCV(cv=StratifiedKFold(n_splits=5, random_state=42, shuffle=True),\n",
       "                   estimator=Pipeline(steps=[(&#x27;scaler&#x27;,\n",
       "                                              ColumnTransformer(remainder=&#x27;passthrough&#x27;,\n",
       "                                                                transformers=[(&#x27;continious_trans&#x27;,\n",
       "                                                                               RobustScaler(),\n",
       "                                                                               [0,\n",
       "                                                                                2,\n",
       "                                                                                3,\n",
       "                                                                                4]),\n",
       "                                                                              (&#x27;pass&#x27;,\n",
       "                                                                               &#x27;passthrough&#x27;,\n",
       "                                                                               [1,\n",
       "                                                                                5,\n",
       "                                                                                6,\n",
       "                                                                                7,\n",
       "                                                                                8,\n",
       "                                                                                9,\n",
       "                                                                                10,\n",
       "                                                                                11,\n",
       "                                                                                12])])),\n",
       "                                             (&#x27;feature_selection&#x27;,\n",
       "                                              SelectPercentile(percentile=70,\n",
       "                                                               score_func=&lt;function mutual_featu...\n",
       "       0.82727273, 0.83636364, 0.84545455, 0.85454545, 0.86363636,\n",
       "       0.87272727, 0.88181818, 0.89090909, 0.9       , 0.90909091,\n",
       "       0.91818182, 0.92727273, 0.93636364, 0.94545455, 0.95454545,\n",
       "       0.96363636, 0.97272727, 0.98181818, 0.99090909, 1.        ]),\n",
       "                                         &#x27;classifier__penalty&#x27;: [&#x27;elasticnet&#x27;],\n",
       "                                         &#x27;classifier__solver&#x27;: [&#x27;saga&#x27;],\n",
       "                                         &#x27;feature_selection__percentile&#x27;: [20,\n",
       "                                                                           30,\n",
       "                                                                           40,\n",
       "                                                                           50,\n",
       "                                                                           60,\n",
       "                                                                           70,\n",
       "                                                                           80,\n",
       "                                                                           90,\n",
       "                                                                           100]}],\n",
       "                   random_state=42, scoring=&#x27;balanced_accuracy&#x27;, verbose=4)</pre><b>Please rerun this cell to show the HTML repr or trust the notebook.</b></div><div class=\"sk-container\" hidden><div class=\"sk-item sk-dashed-wrapped\"><div class=\"sk-label-container\"><div class=\"sk-label sk-toggleable\"><input class=\"sk-toggleable__control sk-hidden--visually\" id=\"57a71a13-f310-426a-aeef-2e7253608325\" type=\"checkbox\" ><label for=\"57a71a13-f310-426a-aeef-2e7253608325\" class=\"sk-toggleable__label sk-toggleable__label-arrow\">RandomizedSearchCV</label><div class=\"sk-toggleable__content\"><pre>RandomizedSearchCV(cv=StratifiedKFold(n_splits=5, random_state=42, shuffle=True),\n",
       "                   estimator=Pipeline(steps=[(&#x27;scaler&#x27;,\n",
       "                                              ColumnTransformer(remainder=&#x27;passthrough&#x27;,\n",
       "                                                                transformers=[(&#x27;continious_trans&#x27;,\n",
       "                                                                               RobustScaler(),\n",
       "                                                                               [0,\n",
       "                                                                                2,\n",
       "                                                                                3,\n",
       "                                                                                4]),\n",
       "                                                                              (&#x27;pass&#x27;,\n",
       "                                                                               &#x27;passthrough&#x27;,\n",
       "                                                                               [1,\n",
       "                                                                                5,\n",
       "                                                                                6,\n",
       "                                                                                7,\n",
       "                                                                                8,\n",
       "                                                                                9,\n",
       "                                                                                10,\n",
       "                                                                                11,\n",
       "                                                                                12])])),\n",
       "                                             (&#x27;feature_selection&#x27;,\n",
       "                                              SelectPercentile(percentile=70,\n",
       "                                                               score_func=&lt;function mutual_featu...\n",
       "       0.82727273, 0.83636364, 0.84545455, 0.85454545, 0.86363636,\n",
       "       0.87272727, 0.88181818, 0.89090909, 0.9       , 0.90909091,\n",
       "       0.91818182, 0.92727273, 0.93636364, 0.94545455, 0.95454545,\n",
       "       0.96363636, 0.97272727, 0.98181818, 0.99090909, 1.        ]),\n",
       "                                         &#x27;classifier__penalty&#x27;: [&#x27;elasticnet&#x27;],\n",
       "                                         &#x27;classifier__solver&#x27;: [&#x27;saga&#x27;],\n",
       "                                         &#x27;feature_selection__percentile&#x27;: [20,\n",
       "                                                                           30,\n",
       "                                                                           40,\n",
       "                                                                           50,\n",
       "                                                                           60,\n",
       "                                                                           70,\n",
       "                                                                           80,\n",
       "                                                                           90,\n",
       "                                                                           100]}],\n",
       "                   random_state=42, scoring=&#x27;balanced_accuracy&#x27;, verbose=4)</pre></div></div></div><div class=\"sk-parallel\"><div class=\"sk-parallel-item\"><div class=\"sk-item\"><div class=\"sk-serial\"><div class=\"sk-item\"><div class=\"sk-serial\"><div class=\"sk-item sk-dashed-wrapped\"><div class=\"sk-label-container\"><div class=\"sk-label sk-toggleable\"><input class=\"sk-toggleable__control sk-hidden--visually\" id=\"7907f1d6-691b-4406-b54b-8cc0120a76ae\" type=\"checkbox\" ><label for=\"7907f1d6-691b-4406-b54b-8cc0120a76ae\" class=\"sk-toggleable__label sk-toggleable__label-arrow\">scaler: ColumnTransformer</label><div class=\"sk-toggleable__content\"><pre>ColumnTransformer(remainder=&#x27;passthrough&#x27;,\n",
       "                  transformers=[(&#x27;continious_trans&#x27;, RobustScaler(),\n",
       "                                 [0, 2, 3, 4]),\n",
       "                                (&#x27;pass&#x27;, &#x27;passthrough&#x27;,\n",
       "                                 [1, 5, 6, 7, 8, 9, 10, 11, 12])])</pre></div></div></div><div class=\"sk-parallel\"><div class=\"sk-parallel-item\"><div class=\"sk-item\"><div class=\"sk-label-container\"><div class=\"sk-label sk-toggleable\"><input class=\"sk-toggleable__control sk-hidden--visually\" id=\"862bfca2-6a10-4cea-b136-8bf1a6a390d9\" type=\"checkbox\" ><label for=\"862bfca2-6a10-4cea-b136-8bf1a6a390d9\" class=\"sk-toggleable__label sk-toggleable__label-arrow\">continious_trans</label><div class=\"sk-toggleable__content\"><pre>[0, 2, 3, 4]</pre></div></div></div><div class=\"sk-serial\"><div class=\"sk-item\"><div class=\"sk-estimator sk-toggleable\"><input class=\"sk-toggleable__control sk-hidden--visually\" id=\"80c91960-ffd0-4643-868c-a5b598281175\" type=\"checkbox\" ><label for=\"80c91960-ffd0-4643-868c-a5b598281175\" class=\"sk-toggleable__label sk-toggleable__label-arrow\">RobustScaler</label><div class=\"sk-toggleable__content\"><pre>RobustScaler()</pre></div></div></div></div></div></div><div class=\"sk-parallel-item\"><div class=\"sk-item\"><div class=\"sk-label-container\"><div class=\"sk-label sk-toggleable\"><input class=\"sk-toggleable__control sk-hidden--visually\" id=\"2364781e-665a-46ed-a83a-8e8defc0d830\" type=\"checkbox\" ><label for=\"2364781e-665a-46ed-a83a-8e8defc0d830\" class=\"sk-toggleable__label sk-toggleable__label-arrow\">pass</label><div class=\"sk-toggleable__content\"><pre>[1, 5, 6, 7, 8, 9, 10, 11, 12]</pre></div></div></div><div class=\"sk-serial\"><div class=\"sk-item\"><div class=\"sk-estimator sk-toggleable\"><input class=\"sk-toggleable__control sk-hidden--visually\" id=\"2f497c3e-c3b1-4119-b200-51d4d8c5346c\" type=\"checkbox\" ><label for=\"2f497c3e-c3b1-4119-b200-51d4d8c5346c\" class=\"sk-toggleable__label sk-toggleable__label-arrow\">passthrough</label><div class=\"sk-toggleable__content\"><pre>passthrough</pre></div></div></div></div></div></div><div class=\"sk-parallel-item\"><div class=\"sk-item\"><div class=\"sk-label-container\"><div class=\"sk-label sk-toggleable\"><input class=\"sk-toggleable__control sk-hidden--visually\" id=\"6501c131-ec7d-4dd7-8191-8124a68b729c\" type=\"checkbox\" ><label for=\"6501c131-ec7d-4dd7-8191-8124a68b729c\" class=\"sk-toggleable__label sk-toggleable__label-arrow\">remainder</label><div class=\"sk-toggleable__content\"><pre>[]</pre></div></div></div><div class=\"sk-serial\"><div class=\"sk-item\"><div class=\"sk-estimator sk-toggleable\"><input class=\"sk-toggleable__control sk-hidden--visually\" id=\"ddfade29-ce2e-480d-8b6a-bcc0d9ea3871\" type=\"checkbox\" ><label for=\"ddfade29-ce2e-480d-8b6a-bcc0d9ea3871\" class=\"sk-toggleable__label sk-toggleable__label-arrow\">passthrough</label><div class=\"sk-toggleable__content\"><pre>passthrough</pre></div></div></div></div></div></div></div></div><div class=\"sk-item\"><div class=\"sk-estimator sk-toggleable\"><input class=\"sk-toggleable__control sk-hidden--visually\" id=\"40e4bfbe-c4a9-43b5-a8e7-5e9e1aa81123\" type=\"checkbox\" ><label for=\"40e4bfbe-c4a9-43b5-a8e7-5e9e1aa81123\" class=\"sk-toggleable__label sk-toggleable__label-arrow\">SelectPercentile</label><div class=\"sk-toggleable__content\"><pre>SelectPercentile(percentile=70,\n",
       "                 score_func=&lt;function mutual_feature at 0x000001A461F815E0&gt;)</pre></div></div></div><div class=\"sk-item\"><div class=\"sk-estimator sk-toggleable\"><input class=\"sk-toggleable__control sk-hidden--visually\" id=\"5ff4ecea-84f5-476c-8ba2-e4bfb8166184\" type=\"checkbox\" ><label for=\"5ff4ecea-84f5-476c-8ba2-e4bfb8166184\" class=\"sk-toggleable__label sk-toggleable__label-arrow\">passthrough</label><div class=\"sk-toggleable__content\"><pre>passthrough</pre></div></div></div><div class=\"sk-item sk-dashed-wrapped\"><div class=\"sk-label-container\"><div class=\"sk-label sk-toggleable\"><input class=\"sk-toggleable__control sk-hidden--visually\" id=\"c7eaf8c0-82e2-423e-8e76-b46f107d1d52\" type=\"checkbox\" ><label for=\"c7eaf8c0-82e2-423e-8e76-b46f107d1d52\" class=\"sk-toggleable__label sk-toggleable__label-arrow\">RFE: RFE</label><div class=\"sk-toggleable__content\"><pre>RFE(estimator=LogisticRegression())</pre></div></div></div><div class=\"sk-parallel\"><div class=\"sk-parallel-item\"><div class=\"sk-item\"><div class=\"sk-serial\"><div class=\"sk-item\"><div class=\"sk-estimator sk-toggleable\"><input class=\"sk-toggleable__control sk-hidden--visually\" id=\"74db636e-a740-4f0c-bdd2-d7cfe96f9938\" type=\"checkbox\" ><label for=\"74db636e-a740-4f0c-bdd2-d7cfe96f9938\" class=\"sk-toggleable__label sk-toggleable__label-arrow\">LogisticRegression</label><div class=\"sk-toggleable__content\"><pre>LogisticRegression()</pre></div></div></div></div></div></div></div></div><div class=\"sk-item\"><div class=\"sk-estimator sk-toggleable\"><input class=\"sk-toggleable__control sk-hidden--visually\" id=\"441a09c5-6e33-4b8d-b4a6-ae31b0952ef6\" type=\"checkbox\" ><label for=\"441a09c5-6e33-4b8d-b4a6-ae31b0952ef6\" class=\"sk-toggleable__label sk-toggleable__label-arrow\">LogisticRegression</label><div class=\"sk-toggleable__content\"><pre>LogisticRegression()</pre></div></div></div></div></div></div></div></div></div></div></div></div>"
      ],
      "text/plain": [
       "RandomizedSearchCV(cv=StratifiedKFold(n_splits=5, random_state=42, shuffle=True),\n",
       "                   estimator=Pipeline(steps=[('scaler',\n",
       "                                              ColumnTransformer(remainder='passthrough',\n",
       "                                                                transformers=[('continious_trans',\n",
       "                                                                               RobustScaler(),\n",
       "                                                                               [0,\n",
       "                                                                                2,\n",
       "                                                                                3,\n",
       "                                                                                4]),\n",
       "                                                                              ('pass',\n",
       "                                                                               'passthrough',\n",
       "                                                                               [1,\n",
       "                                                                                5,\n",
       "                                                                                6,\n",
       "                                                                                7,\n",
       "                                                                                8,\n",
       "                                                                                9,\n",
       "                                                                                10,\n",
       "                                                                                11,\n",
       "                                                                                12])])),\n",
       "                                             ('feature_selection',\n",
       "                                              SelectPercentile(percentile=70,\n",
       "                                                               score_func=<function mutual_featu...\n",
       "       0.82727273, 0.83636364, 0.84545455, 0.85454545, 0.86363636,\n",
       "       0.87272727, 0.88181818, 0.89090909, 0.9       , 0.90909091,\n",
       "       0.91818182, 0.92727273, 0.93636364, 0.94545455, 0.95454545,\n",
       "       0.96363636, 0.97272727, 0.98181818, 0.99090909, 1.        ]),\n",
       "                                         'classifier__penalty': ['elasticnet'],\n",
       "                                         'classifier__solver': ['saga'],\n",
       "                                         'feature_selection__percentile': [20,\n",
       "                                                                           30,\n",
       "                                                                           40,\n",
       "                                                                           50,\n",
       "                                                                           60,\n",
       "                                                                           70,\n",
       "                                                                           80,\n",
       "                                                                           90,\n",
       "                                                                           100]}],\n",
       "                   random_state=42, scoring='balanced_accuracy', verbose=4)"
      ]
     },
     "execution_count": 77,
     "metadata": {},
     "output_type": "execute_result"
    }
   ],
   "source": [
    "randomized.fit(x_train1,y_train)"
   ]
  },
  {
   "cell_type": "code",
   "execution_count": 78,
   "id": "7990dd4f",
   "metadata": {},
   "outputs": [
    {
     "data": {
      "text/plain": [
       "{'feature_selection__percentile': 100,\n",
       " 'classifier__solver': 'saga',\n",
       " 'classifier__penalty': 'elasticnet',\n",
       " 'classifier__l1_ratio': 0.22727272727272727,\n",
       " 'classifier__C': 7.6,\n",
       " 'balanced__sampling_strategy': 0.917948717948718,\n",
       " 'balanced': RandomOverSampler(random_state=42, sampling_strategy=0.917948717948718),\n",
       " 'RFE__n_features_to_select': 12}"
      ]
     },
     "execution_count": 78,
     "metadata": {},
     "output_type": "execute_result"
    }
   ],
   "source": [
    "randomized.best_params_"
   ]
  },
  {
   "cell_type": "code",
   "execution_count": 79,
   "id": "e562888a",
   "metadata": {},
   "outputs": [],
   "source": [
    "df_randomised_result=pd.DataFrame(randomized.cv_results_)\n",
    "df_randomised_result.to_csv('param_log.csv')"
   ]
  },
  {
   "cell_type": "code",
   "execution_count": 80,
   "id": "31ce9691",
   "metadata": {},
   "outputs": [
    {
     "data": {
      "text/html": [
       "<div>\n",
       "<style scoped>\n",
       "    .dataframe tbody tr th:only-of-type {\n",
       "        vertical-align: middle;\n",
       "    }\n",
       "\n",
       "    .dataframe tbody tr th {\n",
       "        vertical-align: top;\n",
       "    }\n",
       "\n",
       "    .dataframe thead th {\n",
       "        text-align: right;\n",
       "    }\n",
       "</style>\n",
       "<table border=\"1\" class=\"dataframe\">\n",
       "  <thead>\n",
       "    <tr style=\"text-align: right;\">\n",
       "      <th></th>\n",
       "      <th>mean_fit_time</th>\n",
       "      <th>std_fit_time</th>\n",
       "      <th>mean_score_time</th>\n",
       "      <th>std_score_time</th>\n",
       "      <th>param_feature_selection__percentile</th>\n",
       "      <th>param_classifier__solver</th>\n",
       "      <th>param_classifier__penalty</th>\n",
       "      <th>param_classifier__l1_ratio</th>\n",
       "      <th>param_classifier__C</th>\n",
       "      <th>param_balanced__sampling_strategy</th>\n",
       "      <th>...</th>\n",
       "      <th>param_RFE__n_features_to_select</th>\n",
       "      <th>params</th>\n",
       "      <th>split0_test_score</th>\n",
       "      <th>split1_test_score</th>\n",
       "      <th>split2_test_score</th>\n",
       "      <th>split3_test_score</th>\n",
       "      <th>split4_test_score</th>\n",
       "      <th>mean_test_score</th>\n",
       "      <th>std_test_score</th>\n",
       "      <th>rank_test_score</th>\n",
       "    </tr>\n",
       "  </thead>\n",
       "  <tbody>\n",
       "    <tr>\n",
       "      <th>3712</th>\n",
       "      <td>0.056237</td>\n",
       "      <td>7.653546e-03</td>\n",
       "      <td>0.006249</td>\n",
       "      <td>0.007653</td>\n",
       "      <td>100</td>\n",
       "      <td>saga</td>\n",
       "      <td>elasticnet</td>\n",
       "      <td>0.227273</td>\n",
       "      <td>7.6</td>\n",
       "      <td>0.917949</td>\n",
       "      <td>...</td>\n",
       "      <td>12</td>\n",
       "      <td>{'feature_selection__percentile': 100, 'classi...</td>\n",
       "      <td>0.759524</td>\n",
       "      <td>0.653571</td>\n",
       "      <td>0.669872</td>\n",
       "      <td>0.549679</td>\n",
       "      <td>0.706494</td>\n",
       "      <td>0.667828</td>\n",
       "      <td>0.069382</td>\n",
       "      <td>1</td>\n",
       "    </tr>\n",
       "    <tr>\n",
       "      <th>2393</th>\n",
       "      <td>0.062483</td>\n",
       "      <td>4.357259e-06</td>\n",
       "      <td>0.000000</td>\n",
       "      <td>0.000000</td>\n",
       "      <td>100</td>\n",
       "      <td>saga</td>\n",
       "      <td>elasticnet</td>\n",
       "      <td>0.809091</td>\n",
       "      <td>4.8</td>\n",
       "      <td>1.0</td>\n",
       "      <td>...</td>\n",
       "      <td>12</td>\n",
       "      <td>{'feature_selection__percentile': 100, 'classi...</td>\n",
       "      <td>0.716667</td>\n",
       "      <td>0.680952</td>\n",
       "      <td>0.660256</td>\n",
       "      <td>0.535256</td>\n",
       "      <td>0.682684</td>\n",
       "      <td>0.655163</td>\n",
       "      <td>0.062624</td>\n",
       "      <td>2</td>\n",
       "    </tr>\n",
       "    <tr>\n",
       "      <th>3039</th>\n",
       "      <td>0.056237</td>\n",
       "      <td>7.652670e-03</td>\n",
       "      <td>0.006250</td>\n",
       "      <td>0.007655</td>\n",
       "      <td>100</td>\n",
       "      <td>saga</td>\n",
       "      <td>elasticnet</td>\n",
       "      <td>0.881818</td>\n",
       "      <td>7.8</td>\n",
       "      <td>0.897436</td>\n",
       "      <td>...</td>\n",
       "      <td>12</td>\n",
       "      <td>{'feature_selection__percentile': 100, 'classi...</td>\n",
       "      <td>0.759524</td>\n",
       "      <td>0.616667</td>\n",
       "      <td>0.674679</td>\n",
       "      <td>0.554487</td>\n",
       "      <td>0.661039</td>\n",
       "      <td>0.653279</td>\n",
       "      <td>0.067685</td>\n",
       "      <td>3</td>\n",
       "    </tr>\n",
       "    <tr>\n",
       "      <th>3442</th>\n",
       "      <td>0.071858</td>\n",
       "      <td>7.653098e-03</td>\n",
       "      <td>0.000000</td>\n",
       "      <td>0.000000</td>\n",
       "      <td>80</td>\n",
       "      <td>saga</td>\n",
       "      <td>elasticnet</td>\n",
       "      <td>0.454545</td>\n",
       "      <td>8.1</td>\n",
       "      <td>0.917949</td>\n",
       "      <td>...</td>\n",
       "      <td>4</td>\n",
       "      <td>{'feature_selection__percentile': 80, 'classif...</td>\n",
       "      <td>0.582143</td>\n",
       "      <td>0.605952</td>\n",
       "      <td>0.785256</td>\n",
       "      <td>0.633013</td>\n",
       "      <td>0.658874</td>\n",
       "      <td>0.653048</td>\n",
       "      <td>0.070937</td>\n",
       "      <td>4</td>\n",
       "    </tr>\n",
       "    <tr>\n",
       "      <th>446</th>\n",
       "      <td>0.059361</td>\n",
       "      <td>6.248450e-03</td>\n",
       "      <td>0.003124</td>\n",
       "      <td>0.006248</td>\n",
       "      <td>100</td>\n",
       "      <td>saga</td>\n",
       "      <td>elasticnet</td>\n",
       "      <td>0.454545</td>\n",
       "      <td>6.9</td>\n",
       "      <td>1.0</td>\n",
       "      <td>...</td>\n",
       "      <td>11</td>\n",
       "      <td>{'feature_selection__percentile': 100, 'classi...</td>\n",
       "      <td>0.726190</td>\n",
       "      <td>0.680952</td>\n",
       "      <td>0.623397</td>\n",
       "      <td>0.540064</td>\n",
       "      <td>0.682684</td>\n",
       "      <td>0.650658</td>\n",
       "      <td>0.064223</td>\n",
       "      <td>5</td>\n",
       "    </tr>\n",
       "    <tr>\n",
       "      <th>...</th>\n",
       "      <td>...</td>\n",
       "      <td>...</td>\n",
       "      <td>...</td>\n",
       "      <td>...</td>\n",
       "      <td>...</td>\n",
       "      <td>...</td>\n",
       "      <td>...</td>\n",
       "      <td>...</td>\n",
       "      <td>...</td>\n",
       "      <td>...</td>\n",
       "      <td>...</td>\n",
       "      <td>...</td>\n",
       "      <td>...</td>\n",
       "      <td>...</td>\n",
       "      <td>...</td>\n",
       "      <td>...</td>\n",
       "      <td>...</td>\n",
       "      <td>...</td>\n",
       "      <td>...</td>\n",
       "      <td>...</td>\n",
       "      <td>...</td>\n",
       "    </tr>\n",
       "    <tr>\n",
       "      <th>2268</th>\n",
       "      <td>0.081231</td>\n",
       "      <td>6.248999e-03</td>\n",
       "      <td>0.003124</td>\n",
       "      <td>0.006249</td>\n",
       "      <td>90</td>\n",
       "      <td>saga</td>\n",
       "      <td>elasticnet</td>\n",
       "      <td>0.163636</td>\n",
       "      <td>1.3</td>\n",
       "      <td>0.282051</td>\n",
       "      <td>...</td>\n",
       "      <td>3</td>\n",
       "      <td>{'feature_selection__percentile': 90, 'classif...</td>\n",
       "      <td>0.495238</td>\n",
       "      <td>0.495238</td>\n",
       "      <td>0.500000</td>\n",
       "      <td>0.495192</td>\n",
       "      <td>0.461905</td>\n",
       "      <td>0.489515</td>\n",
       "      <td>0.013928</td>\n",
       "      <td>4996</td>\n",
       "    </tr>\n",
       "    <tr>\n",
       "      <th>1609</th>\n",
       "      <td>0.087479</td>\n",
       "      <td>7.652923e-03</td>\n",
       "      <td>0.003124</td>\n",
       "      <td>0.006248</td>\n",
       "      <td>80</td>\n",
       "      <td>saga</td>\n",
       "      <td>elasticnet</td>\n",
       "      <td>0.745455</td>\n",
       "      <td>5.4</td>\n",
       "      <td>0.302564</td>\n",
       "      <td>...</td>\n",
       "      <td>2</td>\n",
       "      <td>{'feature_selection__percentile': 80, 'classif...</td>\n",
       "      <td>0.500000</td>\n",
       "      <td>0.500000</td>\n",
       "      <td>0.500000</td>\n",
       "      <td>0.475962</td>\n",
       "      <td>0.471429</td>\n",
       "      <td>0.489478</td>\n",
       "      <td>0.012966</td>\n",
       "      <td>4997</td>\n",
       "    </tr>\n",
       "    <tr>\n",
       "      <th>770</th>\n",
       "      <td>0.081231</td>\n",
       "      <td>6.248713e-03</td>\n",
       "      <td>0.003124</td>\n",
       "      <td>0.006249</td>\n",
       "      <td>80</td>\n",
       "      <td>saga</td>\n",
       "      <td>elasticnet</td>\n",
       "      <td>0.936364</td>\n",
       "      <td>1.6</td>\n",
       "      <td>0.302564</td>\n",
       "      <td>...</td>\n",
       "      <td>2</td>\n",
       "      <td>{'feature_selection__percentile': 80, 'classif...</td>\n",
       "      <td>0.500000</td>\n",
       "      <td>0.500000</td>\n",
       "      <td>0.500000</td>\n",
       "      <td>0.475962</td>\n",
       "      <td>0.471429</td>\n",
       "      <td>0.489478</td>\n",
       "      <td>0.012966</td>\n",
       "      <td>4997</td>\n",
       "    </tr>\n",
       "    <tr>\n",
       "      <th>1345</th>\n",
       "      <td>0.037965</td>\n",
       "      <td>7.318344e-03</td>\n",
       "      <td>0.000000</td>\n",
       "      <td>0.000000</td>\n",
       "      <td>30</td>\n",
       "      <td>saga</td>\n",
       "      <td>elasticnet</td>\n",
       "      <td>0.981818</td>\n",
       "      <td>4.6</td>\n",
       "      <td>0.302564</td>\n",
       "      <td>...</td>\n",
       "      <td>12</td>\n",
       "      <td>{'feature_selection__percentile': 30, 'classif...</td>\n",
       "      <td>0.495238</td>\n",
       "      <td>0.495238</td>\n",
       "      <td>0.500000</td>\n",
       "      <td>0.490385</td>\n",
       "      <td>0.461905</td>\n",
       "      <td>0.488553</td>\n",
       "      <td>0.013667</td>\n",
       "      <td>4999</td>\n",
       "    </tr>\n",
       "    <tr>\n",
       "      <th>2478</th>\n",
       "      <td>0.062485</td>\n",
       "      <td>7.136645e-07</td>\n",
       "      <td>0.000000</td>\n",
       "      <td>0.000000</td>\n",
       "      <td>60</td>\n",
       "      <td>saga</td>\n",
       "      <td>elasticnet</td>\n",
       "      <td>0.272727</td>\n",
       "      <td>8.4</td>\n",
       "      <td>0.241026</td>\n",
       "      <td>...</td>\n",
       "      <td>4</td>\n",
       "      <td>{'feature_selection__percentile': 60, 'classif...</td>\n",
       "      <td>0.490476</td>\n",
       "      <td>0.495238</td>\n",
       "      <td>0.485577</td>\n",
       "      <td>0.490385</td>\n",
       "      <td>0.461905</td>\n",
       "      <td>0.484716</td>\n",
       "      <td>0.011808</td>\n",
       "      <td>5000</td>\n",
       "    </tr>\n",
       "  </tbody>\n",
       "</table>\n",
       "<p>5000 rows × 21 columns</p>\n",
       "</div>"
      ],
      "text/plain": [
       "      mean_fit_time  std_fit_time  mean_score_time  std_score_time  \\\n",
       "3712       0.056237  7.653546e-03         0.006249        0.007653   \n",
       "2393       0.062483  4.357259e-06         0.000000        0.000000   \n",
       "3039       0.056237  7.652670e-03         0.006250        0.007655   \n",
       "3442       0.071858  7.653098e-03         0.000000        0.000000   \n",
       "446        0.059361  6.248450e-03         0.003124        0.006248   \n",
       "...             ...           ...              ...             ...   \n",
       "2268       0.081231  6.248999e-03         0.003124        0.006249   \n",
       "1609       0.087479  7.652923e-03         0.003124        0.006248   \n",
       "770        0.081231  6.248713e-03         0.003124        0.006249   \n",
       "1345       0.037965  7.318344e-03         0.000000        0.000000   \n",
       "2478       0.062485  7.136645e-07         0.000000        0.000000   \n",
       "\n",
       "     param_feature_selection__percentile param_classifier__solver  \\\n",
       "3712                                 100                     saga   \n",
       "2393                                 100                     saga   \n",
       "3039                                 100                     saga   \n",
       "3442                                  80                     saga   \n",
       "446                                  100                     saga   \n",
       "...                                  ...                      ...   \n",
       "2268                                  90                     saga   \n",
       "1609                                  80                     saga   \n",
       "770                                   80                     saga   \n",
       "1345                                  30                     saga   \n",
       "2478                                  60                     saga   \n",
       "\n",
       "     param_classifier__penalty param_classifier__l1_ratio param_classifier__C  \\\n",
       "3712                elasticnet                   0.227273                 7.6   \n",
       "2393                elasticnet                   0.809091                 4.8   \n",
       "3039                elasticnet                   0.881818                 7.8   \n",
       "3442                elasticnet                   0.454545                 8.1   \n",
       "446                 elasticnet                   0.454545                 6.9   \n",
       "...                        ...                        ...                 ...   \n",
       "2268                elasticnet                   0.163636                 1.3   \n",
       "1609                elasticnet                   0.745455                 5.4   \n",
       "770                 elasticnet                   0.936364                 1.6   \n",
       "1345                elasticnet                   0.981818                 4.6   \n",
       "2478                elasticnet                   0.272727                 8.4   \n",
       "\n",
       "     param_balanced__sampling_strategy  ... param_RFE__n_features_to_select  \\\n",
       "3712                          0.917949  ...                              12   \n",
       "2393                               1.0  ...                              12   \n",
       "3039                          0.897436  ...                              12   \n",
       "3442                          0.917949  ...                               4   \n",
       "446                                1.0  ...                              11   \n",
       "...                                ...  ...                             ...   \n",
       "2268                          0.282051  ...                               3   \n",
       "1609                          0.302564  ...                               2   \n",
       "770                           0.302564  ...                               2   \n",
       "1345                          0.302564  ...                              12   \n",
       "2478                          0.241026  ...                               4   \n",
       "\n",
       "                                                 params split0_test_score  \\\n",
       "3712  {'feature_selection__percentile': 100, 'classi...          0.759524   \n",
       "2393  {'feature_selection__percentile': 100, 'classi...          0.716667   \n",
       "3039  {'feature_selection__percentile': 100, 'classi...          0.759524   \n",
       "3442  {'feature_selection__percentile': 80, 'classif...          0.582143   \n",
       "446   {'feature_selection__percentile': 100, 'classi...          0.726190   \n",
       "...                                                 ...               ...   \n",
       "2268  {'feature_selection__percentile': 90, 'classif...          0.495238   \n",
       "1609  {'feature_selection__percentile': 80, 'classif...          0.500000   \n",
       "770   {'feature_selection__percentile': 80, 'classif...          0.500000   \n",
       "1345  {'feature_selection__percentile': 30, 'classif...          0.495238   \n",
       "2478  {'feature_selection__percentile': 60, 'classif...          0.490476   \n",
       "\n",
       "      split1_test_score  split2_test_score  split3_test_score  \\\n",
       "3712           0.653571           0.669872           0.549679   \n",
       "2393           0.680952           0.660256           0.535256   \n",
       "3039           0.616667           0.674679           0.554487   \n",
       "3442           0.605952           0.785256           0.633013   \n",
       "446            0.680952           0.623397           0.540064   \n",
       "...                 ...                ...                ...   \n",
       "2268           0.495238           0.500000           0.495192   \n",
       "1609           0.500000           0.500000           0.475962   \n",
       "770            0.500000           0.500000           0.475962   \n",
       "1345           0.495238           0.500000           0.490385   \n",
       "2478           0.495238           0.485577           0.490385   \n",
       "\n",
       "      split4_test_score  mean_test_score  std_test_score  rank_test_score  \n",
       "3712           0.706494         0.667828        0.069382                1  \n",
       "2393           0.682684         0.655163        0.062624                2  \n",
       "3039           0.661039         0.653279        0.067685                3  \n",
       "3442           0.658874         0.653048        0.070937                4  \n",
       "446            0.682684         0.650658        0.064223                5  \n",
       "...                 ...              ...             ...              ...  \n",
       "2268           0.461905         0.489515        0.013928             4996  \n",
       "1609           0.471429         0.489478        0.012966             4997  \n",
       "770            0.471429         0.489478        0.012966             4997  \n",
       "1345           0.461905         0.488553        0.013667             4999  \n",
       "2478           0.461905         0.484716        0.011808             5000  \n",
       "\n",
       "[5000 rows x 21 columns]"
      ]
     },
     "execution_count": 80,
     "metadata": {},
     "output_type": "execute_result"
    }
   ],
   "source": [
    "df_randomised_result.sort_values(by=['rank_test_score'])"
   ]
  },
  {
   "cell_type": "code",
   "execution_count": 183,
   "id": "bbfcea75",
   "metadata": {},
   "outputs": [],
   "source": [
    "clf_log=Pipeline([('scaler',scaler),\n",
    "                  ('feature_selection',SelectPercentile(mutual_feature,percentile=100)),\n",
    "                  ('balanced',RandomOverSampler(random_state=42, sampling_strategy=0.917948717948718)),\n",
    "                  ('RFE',RFE(LogisticRegression(),n_features_to_select=12)),\n",
    "                  ('classifier',LogisticRegression(penalty='elasticnet',C=2.01,l1_ratio=0.22727272727272727,solver='saga'))])\n",
    "\n",
    "scores_log=cross_validate(clf_log,x_train1,y_train,\n",
    "                      cv=skf,n_jobs=8,\n",
    "                      scoring=('balanced_accuracy','roc_auc','precision','recall','accuracy'),\n",
    "                      return_train_score=True,return_estimator=True)"
   ]
  },
  {
   "cell_type": "code",
   "execution_count": 184,
   "id": "e2aee3c2",
   "metadata": {},
   "outputs": [
    {
     "name": "stdout",
     "output_type": "stream",
     "text": [
      "mean:0.6837738284865671+/-0.014248429683089673\n"
     ]
    }
   ],
   "source": [
    "mean_log_train=np.mean(scores_log['train_balanced_accuracy'])\n",
    "std_log_train=1.96*np.std(scores_log['train_balanced_accuracy'])/5**(1/2)\n",
    "\n",
    "print(f'mean:{mean_log_train}+/-{std_log_train}')"
   ]
  },
  {
   "cell_type": "code",
   "execution_count": 185,
   "id": "9f83492b",
   "metadata": {},
   "outputs": [
    {
     "name": "stdout",
     "output_type": "stream",
     "text": [
      "mean:0.6649617049617049+/-0.060531845060960224\n"
     ]
    }
   ],
   "source": [
    "mean_log_test=np.mean(scores_log['test_balanced_accuracy'])\n",
    "std_log_test=1.96*np.std(scores_log['test_balanced_accuracy'])/5**(1/2)\n",
    "\n",
    "print(f'mean:{mean_log_test}+/-{std_log_test}')"
   ]
  },
  {
   "cell_type": "code",
   "execution_count": 186,
   "id": "142c2fd1",
   "metadata": {},
   "outputs": [
    {
     "name": "stdout",
     "output_type": "stream",
     "text": [
      "mean:0.7508557094016762+/-0.00687436361059185\n"
     ]
    }
   ],
   "source": [
    "mean_log_train=np.mean(scores_log['train_roc_auc'])\n",
    "std_log_train=1.96*np.std(scores_log['train_roc_auc'])/5**(1/2)\n",
    "\n",
    "print(f'mean:{mean_log_train}+/-{std_log_train}')"
   ]
  },
  {
   "cell_type": "code",
   "execution_count": 187,
   "id": "4a7834f8",
   "metadata": {},
   "outputs": [
    {
     "name": "stdout",
     "output_type": "stream",
     "text": [
      "mean:0.6821908646908647+/-0.026360205106240427\n"
     ]
    }
   ],
   "source": [
    "mean_log_test=np.mean(scores_log['test_roc_auc'])\n",
    "std_log_test=1.96*np.std(scores_log['test_roc_auc'])/5**(1/2)\n",
    "\n",
    "print(f'mean:{mean_log_test}+/-{std_log_test}')"
   ]
  },
  {
   "cell_type": "code",
   "execution_count": 159,
   "id": "018e4ed8",
   "metadata": {},
   "outputs": [
    {
     "data": {
      "text/plain": [
       "{'fit_time': array([0.03388119, 0.03388119, 0.03291082, 0.0329113 , 0.03390908]),\n",
       " 'score_time': array([0.004987  , 0.004987  , 0.004987  , 0.004987  , 0.00498652]),\n",
       " 'estimator': [Pipeline(steps=[('scaler',\n",
       "                   ColumnTransformer(remainder='passthrough',\n",
       "                                     transformers=[('continious_trans',\n",
       "                                                    RobustScaler(),\n",
       "                                                    [0, 2, 3, 4]),\n",
       "                                                   ('pass', 'passthrough',\n",
       "                                                    [1, 5, 6, 7, 8, 9, 10, 11,\n",
       "                                                     12])])),\n",
       "                  ('feature_selection',\n",
       "                   SelectPercentile(percentile=100,\n",
       "                                    score_func=<function mutual_feature at 0x000001DEE53418B0>)),\n",
       "                  ('balanced',\n",
       "                   RandomOverSampler(random_state=42,\n",
       "                                     sampling_strategy=0.917948717948718)),\n",
       "                  ('RFE',\n",
       "                   RFE(estimator=LogisticRegression(), n_features_to_select=12)),\n",
       "                  ('classifier',\n",
       "                   LogisticRegression(C=2.01, l1_ratio=0.22727272727272727,\n",
       "                                      penalty='elasticnet', solver='saga'))]),\n",
       "  Pipeline(steps=[('scaler',\n",
       "                   ColumnTransformer(remainder='passthrough',\n",
       "                                     transformers=[('continious_trans',\n",
       "                                                    RobustScaler(),\n",
       "                                                    [0, 2, 3, 4]),\n",
       "                                                   ('pass', 'passthrough',\n",
       "                                                    [1, 5, 6, 7, 8, 9, 10, 11,\n",
       "                                                     12])])),\n",
       "                  ('feature_selection',\n",
       "                   SelectPercentile(percentile=100,\n",
       "                                    score_func=<function mutual_feature at 0x000001DEE5341CA0>)),\n",
       "                  ('balanced',\n",
       "                   RandomOverSampler(random_state=42,\n",
       "                                     sampling_strategy=0.917948717948718)),\n",
       "                  ('RFE',\n",
       "                   RFE(estimator=LogisticRegression(), n_features_to_select=12)),\n",
       "                  ('classifier',\n",
       "                   LogisticRegression(C=2.01, l1_ratio=0.22727272727272727,\n",
       "                                      penalty='elasticnet', solver='saga'))]),\n",
       "  Pipeline(steps=[('scaler',\n",
       "                   ColumnTransformer(remainder='passthrough',\n",
       "                                     transformers=[('continious_trans',\n",
       "                                                    RobustScaler(),\n",
       "                                                    [0, 2, 3, 4]),\n",
       "                                                   ('pass', 'passthrough',\n",
       "                                                    [1, 5, 6, 7, 8, 9, 10, 11,\n",
       "                                                     12])])),\n",
       "                  ('feature_selection',\n",
       "                   SelectPercentile(percentile=100,\n",
       "                                    score_func=<function mutual_feature at 0x000001DEE53413A0>)),\n",
       "                  ('balanced',\n",
       "                   RandomOverSampler(random_state=42,\n",
       "                                     sampling_strategy=0.917948717948718)),\n",
       "                  ('RFE',\n",
       "                   RFE(estimator=LogisticRegression(), n_features_to_select=12)),\n",
       "                  ('classifier',\n",
       "                   LogisticRegression(C=2.01, l1_ratio=0.22727272727272727,\n",
       "                                      penalty='elasticnet', solver='saga'))]),\n",
       "  Pipeline(steps=[('scaler',\n",
       "                   ColumnTransformer(remainder='passthrough',\n",
       "                                     transformers=[('continious_trans',\n",
       "                                                    RobustScaler(),\n",
       "                                                    [0, 2, 3, 4]),\n",
       "                                                   ('pass', 'passthrough',\n",
       "                                                    [1, 5, 6, 7, 8, 9, 10, 11,\n",
       "                                                     12])])),\n",
       "                  ('feature_selection',\n",
       "                   SelectPercentile(percentile=100,\n",
       "                                    score_func=<function mutual_feature at 0x000001DEE5341AF0>)),\n",
       "                  ('balanced',\n",
       "                   RandomOverSampler(random_state=42,\n",
       "                                     sampling_strategy=0.917948717948718)),\n",
       "                  ('RFE',\n",
       "                   RFE(estimator=LogisticRegression(), n_features_to_select=12)),\n",
       "                  ('classifier',\n",
       "                   LogisticRegression(C=2.01, l1_ratio=0.22727272727272727,\n",
       "                                      penalty='elasticnet', solver='saga'))]),\n",
       "  Pipeline(steps=[('scaler',\n",
       "                   ColumnTransformer(remainder='passthrough',\n",
       "                                     transformers=[('continious_trans',\n",
       "                                                    RobustScaler(),\n",
       "                                                    [0, 2, 3, 4]),\n",
       "                                                   ('pass', 'passthrough',\n",
       "                                                    [1, 5, 6, 7, 8, 9, 10, 11,\n",
       "                                                     12])])),\n",
       "                  ('feature_selection',\n",
       "                   SelectPercentile(percentile=100,\n",
       "                                    score_func=<function mutual_feature at 0x000001DEE5341F70>)),\n",
       "                  ('balanced',\n",
       "                   RandomOverSampler(random_state=42,\n",
       "                                     sampling_strategy=0.917948717948718)),\n",
       "                  ('RFE',\n",
       "                   RFE(estimator=LogisticRegression(), n_features_to_select=12)),\n",
       "                  ('classifier',\n",
       "                   LogisticRegression(C=2.01, l1_ratio=0.22727272727272727,\n",
       "                                      penalty='elasticnet', solver='saga'))])],\n",
       " 'test_balanced_accuracy': array([0.75952381, 0.64880952, 0.6650641 , 0.54967949, 0.7017316 ]),\n",
       " 'train_balanced_accuracy': array([0.69449252, 0.68265805, 0.65576601, 0.70418423, 0.68176834]),\n",
       " 'test_roc_auc': array([0.71825397, 0.68730159, 0.68189103, 0.62740385, 0.6961039 ]),\n",
       " 'train_roc_auc': array([0.74758221, 0.74666599, 0.74021226, 0.76164119, 0.75807416]),\n",
       " 'test_precision': array([0.23255814, 0.18918919, 0.18604651, 0.13157895, 0.19047619]),\n",
       " 'train_precision': array([0.20779221, 0.2012987 , 0.18471338, 0.20481928, 0.20805369]),\n",
       " 'test_recall': array([0.83333333, 0.58333333, 0.66666667, 0.41666667, 0.72727273]),\n",
       " 'train_recall': array([0.68085106, 0.65957447, 0.61702128, 0.72340426, 0.64583333]),\n",
       " 'test_accuracy': array([0.7008547 , 0.7008547 , 0.6637931 , 0.65517241, 0.68103448]),\n",
       " 'train_accuracy': array([0.70537634, 0.70107527, 0.68669528, 0.6888412 , 0.71030043])}"
      ]
     },
     "execution_count": 159,
     "metadata": {},
     "output_type": "execute_result"
    }
   ],
   "source": [
    "scores_log"
   ]
  },
  {
   "cell_type": "code",
   "execution_count": 87,
   "id": "cebe5651",
   "metadata": {},
   "outputs": [],
   "source": [
    "clf_svm=Pipeline([('scaler',scaler),\n",
    "                  ('feature_selection',SelectPercentile(mutual_feature,percentile=70)),\n",
    "                  ('balanced','passthrough'),\n",
    "                  ('RFE',RFE(LogisticRegression(),n_features_to_select=None)),\n",
    "                  ('classifier',svm.SVC(gamma='auto',class_weight=None))])"
   ]
  },
  {
   "cell_type": "code",
   "execution_count": 88,
   "id": "a5f84d5b",
   "metadata": {},
   "outputs": [],
   "source": [
    "percentile=[20,30,40,50,60,70,80,90,100]\n",
    "balance=[ADASYN(random_state=42),RandomOverSampler(random_state=42),SMOTE(random_state=42),RandomUnderSampler(random_state=42)]\n",
    "sampling_strategy=np.linspace(0.2,1,40)\n",
    "rfe=list(range(1,14))\n",
    "C=np.linspace(0.01,10,20)\n",
    "kernel=['rbf','linear']\n",
    "gamma=np.linspace(0,0.7,20)\n",
    "coef0=np.linspace(0,7,20)\n",
    "\n",
    "param_svm=[{'feature_selection__percentile':percentile,\n",
    "            'balanced':balance,\n",
    "            'balanced__sampling_strategy':sampling_strategy,\n",
    "            'RFE__n_features_to_select':rfe,\n",
    "            'classifier__C':C,\n",
    "            'classifier__kernel':kernel,\n",
    "            'classifier__gamma':gamma,\n",
    "            'classifier__coef0':coef0}]\n",
    "\n",
    "randomized=RandomizedSearchCV(estimator=clf_svm,  param_distributions=param_svm,  n_iter=3000,   \n",
    "                              scoring='balanced_accuracy', cv=skf ,n_jobs=10,random_state=42,verbose=4)"
   ]
  },
  {
   "cell_type": "code",
   "execution_count": 89,
   "id": "d142c9d8",
   "metadata": {},
   "outputs": [
    {
     "name": "stdout",
     "output_type": "stream",
     "text": [
      "Fitting 5 folds for each of 3000 candidates, totalling 15000 fits\n"
     ]
    },
    {
     "data": {
      "text/html": [
       "<style>#sk-1b3009df-18c0-4bd4-bbc1-87bca443b887 {color: black;background-color: white;}#sk-1b3009df-18c0-4bd4-bbc1-87bca443b887 pre{padding: 0;}#sk-1b3009df-18c0-4bd4-bbc1-87bca443b887 div.sk-toggleable {background-color: white;}#sk-1b3009df-18c0-4bd4-bbc1-87bca443b887 label.sk-toggleable__label {cursor: pointer;display: block;width: 100%;margin-bottom: 0;padding: 0.3em;box-sizing: border-box;text-align: center;}#sk-1b3009df-18c0-4bd4-bbc1-87bca443b887 label.sk-toggleable__label-arrow:before {content: \"▸\";float: left;margin-right: 0.25em;color: #696969;}#sk-1b3009df-18c0-4bd4-bbc1-87bca443b887 label.sk-toggleable__label-arrow:hover:before {color: black;}#sk-1b3009df-18c0-4bd4-bbc1-87bca443b887 div.sk-estimator:hover label.sk-toggleable__label-arrow:before {color: black;}#sk-1b3009df-18c0-4bd4-bbc1-87bca443b887 div.sk-toggleable__content {max-height: 0;max-width: 0;overflow: hidden;text-align: left;background-color: #f0f8ff;}#sk-1b3009df-18c0-4bd4-bbc1-87bca443b887 div.sk-toggleable__content pre {margin: 0.2em;color: black;border-radius: 0.25em;background-color: #f0f8ff;}#sk-1b3009df-18c0-4bd4-bbc1-87bca443b887 input.sk-toggleable__control:checked~div.sk-toggleable__content {max-height: 200px;max-width: 100%;overflow: auto;}#sk-1b3009df-18c0-4bd4-bbc1-87bca443b887 input.sk-toggleable__control:checked~label.sk-toggleable__label-arrow:before {content: \"▾\";}#sk-1b3009df-18c0-4bd4-bbc1-87bca443b887 div.sk-estimator input.sk-toggleable__control:checked~label.sk-toggleable__label {background-color: #d4ebff;}#sk-1b3009df-18c0-4bd4-bbc1-87bca443b887 div.sk-label input.sk-toggleable__control:checked~label.sk-toggleable__label {background-color: #d4ebff;}#sk-1b3009df-18c0-4bd4-bbc1-87bca443b887 input.sk-hidden--visually {border: 0;clip: rect(1px 1px 1px 1px);clip: rect(1px, 1px, 1px, 1px);height: 1px;margin: -1px;overflow: hidden;padding: 0;position: absolute;width: 1px;}#sk-1b3009df-18c0-4bd4-bbc1-87bca443b887 div.sk-estimator {font-family: monospace;background-color: #f0f8ff;border: 1px dotted black;border-radius: 0.25em;box-sizing: border-box;margin-bottom: 0.5em;}#sk-1b3009df-18c0-4bd4-bbc1-87bca443b887 div.sk-estimator:hover {background-color: #d4ebff;}#sk-1b3009df-18c0-4bd4-bbc1-87bca443b887 div.sk-parallel-item::after {content: \"\";width: 100%;border-bottom: 1px solid gray;flex-grow: 1;}#sk-1b3009df-18c0-4bd4-bbc1-87bca443b887 div.sk-label:hover label.sk-toggleable__label {background-color: #d4ebff;}#sk-1b3009df-18c0-4bd4-bbc1-87bca443b887 div.sk-serial::before {content: \"\";position: absolute;border-left: 1px solid gray;box-sizing: border-box;top: 2em;bottom: 0;left: 50%;}#sk-1b3009df-18c0-4bd4-bbc1-87bca443b887 div.sk-serial {display: flex;flex-direction: column;align-items: center;background-color: white;padding-right: 0.2em;padding-left: 0.2em;}#sk-1b3009df-18c0-4bd4-bbc1-87bca443b887 div.sk-item {z-index: 1;}#sk-1b3009df-18c0-4bd4-bbc1-87bca443b887 div.sk-parallel {display: flex;align-items: stretch;justify-content: center;background-color: white;}#sk-1b3009df-18c0-4bd4-bbc1-87bca443b887 div.sk-parallel::before {content: \"\";position: absolute;border-left: 1px solid gray;box-sizing: border-box;top: 2em;bottom: 0;left: 50%;}#sk-1b3009df-18c0-4bd4-bbc1-87bca443b887 div.sk-parallel-item {display: flex;flex-direction: column;position: relative;background-color: white;}#sk-1b3009df-18c0-4bd4-bbc1-87bca443b887 div.sk-parallel-item:first-child::after {align-self: flex-end;width: 50%;}#sk-1b3009df-18c0-4bd4-bbc1-87bca443b887 div.sk-parallel-item:last-child::after {align-self: flex-start;width: 50%;}#sk-1b3009df-18c0-4bd4-bbc1-87bca443b887 div.sk-parallel-item:only-child::after {width: 0;}#sk-1b3009df-18c0-4bd4-bbc1-87bca443b887 div.sk-dashed-wrapped {border: 1px dashed gray;margin: 0 0.4em 0.5em 0.4em;box-sizing: border-box;padding-bottom: 0.4em;background-color: white;position: relative;}#sk-1b3009df-18c0-4bd4-bbc1-87bca443b887 div.sk-label label {font-family: monospace;font-weight: bold;background-color: white;display: inline-block;line-height: 1.2em;}#sk-1b3009df-18c0-4bd4-bbc1-87bca443b887 div.sk-label-container {position: relative;z-index: 2;text-align: center;}#sk-1b3009df-18c0-4bd4-bbc1-87bca443b887 div.sk-container {/* jupyter's `normalize.less` sets `[hidden] { display: none; }` but bootstrap.min.css set `[hidden] { display: none !important; }` so we also need the `!important` here to be able to override the default hidden behavior on the sphinx rendered scikit-learn.org. See: https://github.com/scikit-learn/scikit-learn/issues/21755 */display: inline-block !important;position: relative;}#sk-1b3009df-18c0-4bd4-bbc1-87bca443b887 div.sk-text-repr-fallback {display: none;}</style><div id=\"sk-1b3009df-18c0-4bd4-bbc1-87bca443b887\" class=\"sk-top-container\"><div class=\"sk-text-repr-fallback\"><pre>RandomizedSearchCV(cv=StratifiedKFold(n_splits=5, random_state=42, shuffle=True),\n",
       "                   estimator=Pipeline(steps=[(&#x27;scaler&#x27;,\n",
       "                                              ColumnTransformer(remainder=&#x27;passthrough&#x27;,\n",
       "                                                                transformers=[(&#x27;continious_trans&#x27;,\n",
       "                                                                               RobustScaler(),\n",
       "                                                                               [0,\n",
       "                                                                                2,\n",
       "                                                                                3,\n",
       "                                                                                4]),\n",
       "                                                                              (&#x27;pass&#x27;,\n",
       "                                                                               &#x27;passthrough&#x27;,\n",
       "                                                                               [1,\n",
       "                                                                                5,\n",
       "                                                                                6,\n",
       "                                                                                7,\n",
       "                                                                                8,\n",
       "                                                                                9,\n",
       "                                                                                10,\n",
       "                                                                                11,\n",
       "                                                                                12])])),\n",
       "                                             (&#x27;feature_selection&#x27;,\n",
       "                                              SelectPercentile(percentile=70,\n",
       "                                                               score_func=&lt;function mutual_featu...\n",
       "                                         &#x27;classifier__gamma&#x27;: array([0.        , 0.03684211, 0.07368421, 0.11052632, 0.14736842,\n",
       "       0.18421053, 0.22105263, 0.25789474, 0.29473684, 0.33157895,\n",
       "       0.36842105, 0.40526316, 0.44210526, 0.47894737, 0.51578947,\n",
       "       0.55263158, 0.58947368, 0.62631579, 0.66315789, 0.7       ]),\n",
       "                                         &#x27;classifier__kernel&#x27;: [&#x27;rbf&#x27;,\n",
       "                                                                &#x27;linear&#x27;],\n",
       "                                         &#x27;feature_selection__percentile&#x27;: [20,\n",
       "                                                                           30,\n",
       "                                                                           40,\n",
       "                                                                           50,\n",
       "                                                                           60,\n",
       "                                                                           70,\n",
       "                                                                           80,\n",
       "                                                                           90,\n",
       "                                                                           100]}],\n",
       "                   random_state=42, scoring=&#x27;balanced_accuracy&#x27;, verbose=4)</pre><b>Please rerun this cell to show the HTML repr or trust the notebook.</b></div><div class=\"sk-container\" hidden><div class=\"sk-item sk-dashed-wrapped\"><div class=\"sk-label-container\"><div class=\"sk-label sk-toggleable\"><input class=\"sk-toggleable__control sk-hidden--visually\" id=\"be1fdecb-165e-49c2-aac0-966f0f330588\" type=\"checkbox\" ><label for=\"be1fdecb-165e-49c2-aac0-966f0f330588\" class=\"sk-toggleable__label sk-toggleable__label-arrow\">RandomizedSearchCV</label><div class=\"sk-toggleable__content\"><pre>RandomizedSearchCV(cv=StratifiedKFold(n_splits=5, random_state=42, shuffle=True),\n",
       "                   estimator=Pipeline(steps=[(&#x27;scaler&#x27;,\n",
       "                                              ColumnTransformer(remainder=&#x27;passthrough&#x27;,\n",
       "                                                                transformers=[(&#x27;continious_trans&#x27;,\n",
       "                                                                               RobustScaler(),\n",
       "                                                                               [0,\n",
       "                                                                                2,\n",
       "                                                                                3,\n",
       "                                                                                4]),\n",
       "                                                                              (&#x27;pass&#x27;,\n",
       "                                                                               &#x27;passthrough&#x27;,\n",
       "                                                                               [1,\n",
       "                                                                                5,\n",
       "                                                                                6,\n",
       "                                                                                7,\n",
       "                                                                                8,\n",
       "                                                                                9,\n",
       "                                                                                10,\n",
       "                                                                                11,\n",
       "                                                                                12])])),\n",
       "                                             (&#x27;feature_selection&#x27;,\n",
       "                                              SelectPercentile(percentile=70,\n",
       "                                                               score_func=&lt;function mutual_featu...\n",
       "                                         &#x27;classifier__gamma&#x27;: array([0.        , 0.03684211, 0.07368421, 0.11052632, 0.14736842,\n",
       "       0.18421053, 0.22105263, 0.25789474, 0.29473684, 0.33157895,\n",
       "       0.36842105, 0.40526316, 0.44210526, 0.47894737, 0.51578947,\n",
       "       0.55263158, 0.58947368, 0.62631579, 0.66315789, 0.7       ]),\n",
       "                                         &#x27;classifier__kernel&#x27;: [&#x27;rbf&#x27;,\n",
       "                                                                &#x27;linear&#x27;],\n",
       "                                         &#x27;feature_selection__percentile&#x27;: [20,\n",
       "                                                                           30,\n",
       "                                                                           40,\n",
       "                                                                           50,\n",
       "                                                                           60,\n",
       "                                                                           70,\n",
       "                                                                           80,\n",
       "                                                                           90,\n",
       "                                                                           100]}],\n",
       "                   random_state=42, scoring=&#x27;balanced_accuracy&#x27;, verbose=4)</pre></div></div></div><div class=\"sk-parallel\"><div class=\"sk-parallel-item\"><div class=\"sk-item\"><div class=\"sk-serial\"><div class=\"sk-item\"><div class=\"sk-serial\"><div class=\"sk-item sk-dashed-wrapped\"><div class=\"sk-label-container\"><div class=\"sk-label sk-toggleable\"><input class=\"sk-toggleable__control sk-hidden--visually\" id=\"fbc49f82-0beb-44e0-855f-e8fbe00d6fde\" type=\"checkbox\" ><label for=\"fbc49f82-0beb-44e0-855f-e8fbe00d6fde\" class=\"sk-toggleable__label sk-toggleable__label-arrow\">scaler: ColumnTransformer</label><div class=\"sk-toggleable__content\"><pre>ColumnTransformer(remainder=&#x27;passthrough&#x27;,\n",
       "                  transformers=[(&#x27;continious_trans&#x27;, RobustScaler(),\n",
       "                                 [0, 2, 3, 4]),\n",
       "                                (&#x27;pass&#x27;, &#x27;passthrough&#x27;,\n",
       "                                 [1, 5, 6, 7, 8, 9, 10, 11, 12])])</pre></div></div></div><div class=\"sk-parallel\"><div class=\"sk-parallel-item\"><div class=\"sk-item\"><div class=\"sk-label-container\"><div class=\"sk-label sk-toggleable\"><input class=\"sk-toggleable__control sk-hidden--visually\" id=\"897bdb99-ddfa-4e46-b730-7c7f2a981a22\" type=\"checkbox\" ><label for=\"897bdb99-ddfa-4e46-b730-7c7f2a981a22\" class=\"sk-toggleable__label sk-toggleable__label-arrow\">continious_trans</label><div class=\"sk-toggleable__content\"><pre>[0, 2, 3, 4]</pre></div></div></div><div class=\"sk-serial\"><div class=\"sk-item\"><div class=\"sk-estimator sk-toggleable\"><input class=\"sk-toggleable__control sk-hidden--visually\" id=\"f5393e37-e449-49a1-a005-d28b0e0680b9\" type=\"checkbox\" ><label for=\"f5393e37-e449-49a1-a005-d28b0e0680b9\" class=\"sk-toggleable__label sk-toggleable__label-arrow\">RobustScaler</label><div class=\"sk-toggleable__content\"><pre>RobustScaler()</pre></div></div></div></div></div></div><div class=\"sk-parallel-item\"><div class=\"sk-item\"><div class=\"sk-label-container\"><div class=\"sk-label sk-toggleable\"><input class=\"sk-toggleable__control sk-hidden--visually\" id=\"382ad2cc-496f-45e1-9ab3-27c2fc8c40dc\" type=\"checkbox\" ><label for=\"382ad2cc-496f-45e1-9ab3-27c2fc8c40dc\" class=\"sk-toggleable__label sk-toggleable__label-arrow\">pass</label><div class=\"sk-toggleable__content\"><pre>[1, 5, 6, 7, 8, 9, 10, 11, 12]</pre></div></div></div><div class=\"sk-serial\"><div class=\"sk-item\"><div class=\"sk-estimator sk-toggleable\"><input class=\"sk-toggleable__control sk-hidden--visually\" id=\"7e348e80-d2d5-46a0-8962-fbaac0eaff7f\" type=\"checkbox\" ><label for=\"7e348e80-d2d5-46a0-8962-fbaac0eaff7f\" class=\"sk-toggleable__label sk-toggleable__label-arrow\">passthrough</label><div class=\"sk-toggleable__content\"><pre>passthrough</pre></div></div></div></div></div></div><div class=\"sk-parallel-item\"><div class=\"sk-item\"><div class=\"sk-label-container\"><div class=\"sk-label sk-toggleable\"><input class=\"sk-toggleable__control sk-hidden--visually\" id=\"dd41f81c-9293-45e5-b5f7-c2ae43099989\" type=\"checkbox\" ><label for=\"dd41f81c-9293-45e5-b5f7-c2ae43099989\" class=\"sk-toggleable__label sk-toggleable__label-arrow\">remainder</label><div class=\"sk-toggleable__content\"><pre>[]</pre></div></div></div><div class=\"sk-serial\"><div class=\"sk-item\"><div class=\"sk-estimator sk-toggleable\"><input class=\"sk-toggleable__control sk-hidden--visually\" id=\"743903d5-082c-4b2e-a0bf-300d8b1f4aaf\" type=\"checkbox\" ><label for=\"743903d5-082c-4b2e-a0bf-300d8b1f4aaf\" class=\"sk-toggleable__label sk-toggleable__label-arrow\">passthrough</label><div class=\"sk-toggleable__content\"><pre>passthrough</pre></div></div></div></div></div></div></div></div><div class=\"sk-item\"><div class=\"sk-estimator sk-toggleable\"><input class=\"sk-toggleable__control sk-hidden--visually\" id=\"57ab4b3f-f66a-42b3-8299-2eaa74142faa\" type=\"checkbox\" ><label for=\"57ab4b3f-f66a-42b3-8299-2eaa74142faa\" class=\"sk-toggleable__label sk-toggleable__label-arrow\">SelectPercentile</label><div class=\"sk-toggleable__content\"><pre>SelectPercentile(percentile=70,\n",
       "                 score_func=&lt;function mutual_feature at 0x000001A461F815E0&gt;)</pre></div></div></div><div class=\"sk-item\"><div class=\"sk-estimator sk-toggleable\"><input class=\"sk-toggleable__control sk-hidden--visually\" id=\"fc74748a-751f-44f2-895d-4577427d14ee\" type=\"checkbox\" ><label for=\"fc74748a-751f-44f2-895d-4577427d14ee\" class=\"sk-toggleable__label sk-toggleable__label-arrow\">passthrough</label><div class=\"sk-toggleable__content\"><pre>passthrough</pre></div></div></div><div class=\"sk-item sk-dashed-wrapped\"><div class=\"sk-label-container\"><div class=\"sk-label sk-toggleable\"><input class=\"sk-toggleable__control sk-hidden--visually\" id=\"1db03b07-b1b2-4706-9ace-e65f82350e28\" type=\"checkbox\" ><label for=\"1db03b07-b1b2-4706-9ace-e65f82350e28\" class=\"sk-toggleable__label sk-toggleable__label-arrow\">RFE: RFE</label><div class=\"sk-toggleable__content\"><pre>RFE(estimator=LogisticRegression())</pre></div></div></div><div class=\"sk-parallel\"><div class=\"sk-parallel-item\"><div class=\"sk-item\"><div class=\"sk-serial\"><div class=\"sk-item\"><div class=\"sk-estimator sk-toggleable\"><input class=\"sk-toggleable__control sk-hidden--visually\" id=\"93fe5f48-cc9e-4210-966e-29bef4370143\" type=\"checkbox\" ><label for=\"93fe5f48-cc9e-4210-966e-29bef4370143\" class=\"sk-toggleable__label sk-toggleable__label-arrow\">LogisticRegression</label><div class=\"sk-toggleable__content\"><pre>LogisticRegression()</pre></div></div></div></div></div></div></div></div><div class=\"sk-item\"><div class=\"sk-estimator sk-toggleable\"><input class=\"sk-toggleable__control sk-hidden--visually\" id=\"a23d364d-2eec-4976-acca-39bc50b605eb\" type=\"checkbox\" ><label for=\"a23d364d-2eec-4976-acca-39bc50b605eb\" class=\"sk-toggleable__label sk-toggleable__label-arrow\">SVC</label><div class=\"sk-toggleable__content\"><pre>SVC(gamma=&#x27;auto&#x27;)</pre></div></div></div></div></div></div></div></div></div></div></div></div>"
      ],
      "text/plain": [
       "RandomizedSearchCV(cv=StratifiedKFold(n_splits=5, random_state=42, shuffle=True),\n",
       "                   estimator=Pipeline(steps=[('scaler',\n",
       "                                              ColumnTransformer(remainder='passthrough',\n",
       "                                                                transformers=[('continious_trans',\n",
       "                                                                               RobustScaler(),\n",
       "                                                                               [0,\n",
       "                                                                                2,\n",
       "                                                                                3,\n",
       "                                                                                4]),\n",
       "                                                                              ('pass',\n",
       "                                                                               'passthrough',\n",
       "                                                                               [1,\n",
       "                                                                                5,\n",
       "                                                                                6,\n",
       "                                                                                7,\n",
       "                                                                                8,\n",
       "                                                                                9,\n",
       "                                                                                10,\n",
       "                                                                                11,\n",
       "                                                                                12])])),\n",
       "                                             ('feature_selection',\n",
       "                                              SelectPercentile(percentile=70,\n",
       "                                                               score_func=<function mutual_featu...\n",
       "                                         'classifier__gamma': array([0.        , 0.03684211, 0.07368421, 0.11052632, 0.14736842,\n",
       "       0.18421053, 0.22105263, 0.25789474, 0.29473684, 0.33157895,\n",
       "       0.36842105, 0.40526316, 0.44210526, 0.47894737, 0.51578947,\n",
       "       0.55263158, 0.58947368, 0.62631579, 0.66315789, 0.7       ]),\n",
       "                                         'classifier__kernel': ['rbf',\n",
       "                                                                'linear'],\n",
       "                                         'feature_selection__percentile': [20,\n",
       "                                                                           30,\n",
       "                                                                           40,\n",
       "                                                                           50,\n",
       "                                                                           60,\n",
       "                                                                           70,\n",
       "                                                                           80,\n",
       "                                                                           90,\n",
       "                                                                           100]}],\n",
       "                   random_state=42, scoring='balanced_accuracy', verbose=4)"
      ]
     },
     "execution_count": 89,
     "metadata": {},
     "output_type": "execute_result"
    }
   ],
   "source": [
    "randomized.fit(x_train1,y_train)"
   ]
  },
  {
   "cell_type": "code",
   "execution_count": 74,
   "id": "9150d64e",
   "metadata": {},
   "outputs": [
    {
     "data": {
      "text/plain": [
       "{'feature_selection__percentile': 50,\n",
       " 'classifier__kernel': 'rbf',\n",
       " 'classifier__gamma': 0.03684210526315789,\n",
       " 'classifier__coef0': 1.4736842105263157,\n",
       " 'classifier__C': 7.371052631578948,\n",
       " 'balanced__sampling_strategy': 0.8974358974358974,\n",
       " 'balanced': ADASYN(random_state=42, sampling_strategy=0.8974358974358974),\n",
       " 'RFE__n_features_to_select': 10}"
      ]
     },
     "execution_count": 74,
     "metadata": {},
     "output_type": "execute_result"
    }
   ],
   "source": [
    "randomized.best_params_"
   ]
  },
  {
   "cell_type": "code",
   "execution_count": 75,
   "id": "0af458e5",
   "metadata": {},
   "outputs": [],
   "source": [
    "df_randomised_result=pd.DataFrame(randomized.cv_results_)\n",
    "df_randomised_result.to_csv('param_svm.csv')"
   ]
  },
  {
   "cell_type": "code",
   "execution_count": 76,
   "id": "f5985a63",
   "metadata": {},
   "outputs": [
    {
     "data": {
      "text/html": [
       "<div>\n",
       "<style scoped>\n",
       "    .dataframe tbody tr th:only-of-type {\n",
       "        vertical-align: middle;\n",
       "    }\n",
       "\n",
       "    .dataframe tbody tr th {\n",
       "        vertical-align: top;\n",
       "    }\n",
       "\n",
       "    .dataframe thead th {\n",
       "        text-align: right;\n",
       "    }\n",
       "</style>\n",
       "<table border=\"1\" class=\"dataframe\">\n",
       "  <thead>\n",
       "    <tr style=\"text-align: right;\">\n",
       "      <th></th>\n",
       "      <th>mean_fit_time</th>\n",
       "      <th>std_fit_time</th>\n",
       "      <th>mean_score_time</th>\n",
       "      <th>std_score_time</th>\n",
       "      <th>param_feature_selection__percentile</th>\n",
       "      <th>param_classifier__kernel</th>\n",
       "      <th>param_classifier__gamma</th>\n",
       "      <th>param_classifier__coef0</th>\n",
       "      <th>param_classifier__C</th>\n",
       "      <th>param_balanced__sampling_strategy</th>\n",
       "      <th>...</th>\n",
       "      <th>param_RFE__n_features_to_select</th>\n",
       "      <th>params</th>\n",
       "      <th>split0_test_score</th>\n",
       "      <th>split1_test_score</th>\n",
       "      <th>split2_test_score</th>\n",
       "      <th>split3_test_score</th>\n",
       "      <th>split4_test_score</th>\n",
       "      <th>mean_test_score</th>\n",
       "      <th>std_test_score</th>\n",
       "      <th>rank_test_score</th>\n",
       "    </tr>\n",
       "  </thead>\n",
       "  <tbody>\n",
       "    <tr>\n",
       "      <th>2111</th>\n",
       "      <td>0.071858</td>\n",
       "      <td>7.652962e-03</td>\n",
       "      <td>0.012497</td>\n",
       "      <td>6.248713e-03</td>\n",
       "      <td>50</td>\n",
       "      <td>rbf</td>\n",
       "      <td>0.036842</td>\n",
       "      <td>1.473684</td>\n",
       "      <td>7.371053</td>\n",
       "      <td>0.897436</td>\n",
       "      <td>...</td>\n",
       "      <td>10</td>\n",
       "      <td>{'feature_selection__percentile': 50, 'classif...</td>\n",
       "      <td>0.755952</td>\n",
       "      <td>0.764286</td>\n",
       "      <td>0.716346</td>\n",
       "      <td>0.608974</td>\n",
       "      <td>0.639827</td>\n",
       "      <td>0.697077</td>\n",
       "      <td>0.062280</td>\n",
       "      <td>1</td>\n",
       "    </tr>\n",
       "    <tr>\n",
       "      <th>377</th>\n",
       "      <td>0.090604</td>\n",
       "      <td>1.169087e-02</td>\n",
       "      <td>0.009373</td>\n",
       "      <td>7.653098e-03</td>\n",
       "      <td>30</td>\n",
       "      <td>rbf</td>\n",
       "      <td>0.589474</td>\n",
       "      <td>1.105263</td>\n",
       "      <td>6.319474</td>\n",
       "      <td>0.979487</td>\n",
       "      <td>...</td>\n",
       "      <td>3</td>\n",
       "      <td>{'feature_selection__percentile': 30, 'classif...</td>\n",
       "      <td>0.758333</td>\n",
       "      <td>0.661905</td>\n",
       "      <td>0.751603</td>\n",
       "      <td>0.575321</td>\n",
       "      <td>0.646753</td>\n",
       "      <td>0.678783</td>\n",
       "      <td>0.068769</td>\n",
       "      <td>2</td>\n",
       "    </tr>\n",
       "    <tr>\n",
       "      <th>47</th>\n",
       "      <td>0.062486</td>\n",
       "      <td>1.518410e-06</td>\n",
       "      <td>0.015620</td>\n",
       "      <td>9.344062e-07</td>\n",
       "      <td>70</td>\n",
       "      <td>rbf</td>\n",
       "      <td>0.073684</td>\n",
       "      <td>4.789474</td>\n",
       "      <td>1.061579</td>\n",
       "      <td>0.753846</td>\n",
       "      <td>...</td>\n",
       "      <td>11</td>\n",
       "      <td>{'feature_selection__percentile': 70, 'classif...</td>\n",
       "      <td>0.617857</td>\n",
       "      <td>0.765476</td>\n",
       "      <td>0.653846</td>\n",
       "      <td>0.681090</td>\n",
       "      <td>0.636797</td>\n",
       "      <td>0.671013</td>\n",
       "      <td>0.051606</td>\n",
       "      <td>3</td>\n",
       "    </tr>\n",
       "    <tr>\n",
       "      <th>2832</th>\n",
       "      <td>0.103101</td>\n",
       "      <td>7.653449e-03</td>\n",
       "      <td>0.006249</td>\n",
       "      <td>7.653195e-03</td>\n",
       "      <td>100</td>\n",
       "      <td>linear</td>\n",
       "      <td>0.0</td>\n",
       "      <td>1.842105</td>\n",
       "      <td>4.216316</td>\n",
       "      <td>0.958974</td>\n",
       "      <td>...</td>\n",
       "      <td>9</td>\n",
       "      <td>{'feature_selection__percentile': 100, 'classi...</td>\n",
       "      <td>0.679762</td>\n",
       "      <td>0.708333</td>\n",
       "      <td>0.697115</td>\n",
       "      <td>0.581731</td>\n",
       "      <td>0.677922</td>\n",
       "      <td>0.668973</td>\n",
       "      <td>0.045053</td>\n",
       "      <td>4</td>\n",
       "    </tr>\n",
       "    <tr>\n",
       "      <th>1652</th>\n",
       "      <td>0.071859</td>\n",
       "      <td>7.652943e-03</td>\n",
       "      <td>0.009373</td>\n",
       "      <td>7.653215e-03</td>\n",
       "      <td>50</td>\n",
       "      <td>rbf</td>\n",
       "      <td>0.147368</td>\n",
       "      <td>1.842105</td>\n",
       "      <td>2.113158</td>\n",
       "      <td>0.958974</td>\n",
       "      <td>...</td>\n",
       "      <td>10</td>\n",
       "      <td>{'feature_selection__percentile': 50, 'classif...</td>\n",
       "      <td>0.760714</td>\n",
       "      <td>0.704762</td>\n",
       "      <td>0.637821</td>\n",
       "      <td>0.613782</td>\n",
       "      <td>0.616017</td>\n",
       "      <td>0.666619</td>\n",
       "      <td>0.057429</td>\n",
       "      <td>5</td>\n",
       "    </tr>\n",
       "    <tr>\n",
       "      <th>...</th>\n",
       "      <td>...</td>\n",
       "      <td>...</td>\n",
       "      <td>...</td>\n",
       "      <td>...</td>\n",
       "      <td>...</td>\n",
       "      <td>...</td>\n",
       "      <td>...</td>\n",
       "      <td>...</td>\n",
       "      <td>...</td>\n",
       "      <td>...</td>\n",
       "      <td>...</td>\n",
       "      <td>...</td>\n",
       "      <td>...</td>\n",
       "      <td>...</td>\n",
       "      <td>...</td>\n",
       "      <td>...</td>\n",
       "      <td>...</td>\n",
       "      <td>...</td>\n",
       "      <td>...</td>\n",
       "      <td>...</td>\n",
       "      <td>...</td>\n",
       "    </tr>\n",
       "    <tr>\n",
       "      <th>1610</th>\n",
       "      <td>0.062486</td>\n",
       "      <td>3.234067e-07</td>\n",
       "      <td>0.012497</td>\n",
       "      <td>6.248355e-03</td>\n",
       "      <td>80</td>\n",
       "      <td>rbf</td>\n",
       "      <td>0.589474</td>\n",
       "      <td>5.157895</td>\n",
       "      <td>8.422632</td>\n",
       "      <td>0.876923</td>\n",
       "      <td>...</td>\n",
       "      <td>10</td>\n",
       "      <td>{'feature_selection__percentile': 80, 'classif...</td>\n",
       "      <td>0.558333</td>\n",
       "      <td>0.475000</td>\n",
       "      <td>0.451923</td>\n",
       "      <td>0.498397</td>\n",
       "      <td>0.454978</td>\n",
       "      <td>0.487726</td>\n",
       "      <td>0.039027</td>\n",
       "      <td>2996</td>\n",
       "    </tr>\n",
       "    <tr>\n",
       "      <th>2310</th>\n",
       "      <td>0.053113</td>\n",
       "      <td>7.653059e-03</td>\n",
       "      <td>0.003124</td>\n",
       "      <td>6.248665e-03</td>\n",
       "      <td>30</td>\n",
       "      <td>rbf</td>\n",
       "      <td>0.221053</td>\n",
       "      <td>4.052632</td>\n",
       "      <td>6.319474</td>\n",
       "      <td>0.323077</td>\n",
       "      <td>...</td>\n",
       "      <td>2</td>\n",
       "      <td>{'feature_selection__percentile': 30, 'classif...</td>\n",
       "      <td>0.500000</td>\n",
       "      <td>0.500000</td>\n",
       "      <td>0.500000</td>\n",
       "      <td>0.500000</td>\n",
       "      <td>0.438095</td>\n",
       "      <td>0.487619</td>\n",
       "      <td>0.024762</td>\n",
       "      <td>2997</td>\n",
       "    </tr>\n",
       "    <tr>\n",
       "      <th>2480</th>\n",
       "      <td>0.090605</td>\n",
       "      <td>1.168976e-02</td>\n",
       "      <td>0.006248</td>\n",
       "      <td>7.652378e-03</td>\n",
       "      <td>100</td>\n",
       "      <td>rbf</td>\n",
       "      <td>0.331579</td>\n",
       "      <td>3.684211</td>\n",
       "      <td>7.896842</td>\n",
       "      <td>0.302564</td>\n",
       "      <td>...</td>\n",
       "      <td>7</td>\n",
       "      <td>{'feature_selection__percentile': 100, 'classi...</td>\n",
       "      <td>0.495238</td>\n",
       "      <td>0.476190</td>\n",
       "      <td>0.527244</td>\n",
       "      <td>0.461538</td>\n",
       "      <td>0.447619</td>\n",
       "      <td>0.481566</td>\n",
       "      <td>0.027770</td>\n",
       "      <td>2998</td>\n",
       "    </tr>\n",
       "    <tr>\n",
       "      <th>296</th>\n",
       "      <td>0.068735</td>\n",
       "      <td>7.653312e-03</td>\n",
       "      <td>0.006248</td>\n",
       "      <td>7.652319e-03</td>\n",
       "      <td>80</td>\n",
       "      <td>rbf</td>\n",
       "      <td>0.515789</td>\n",
       "      <td>0.0</td>\n",
       "      <td>10.0</td>\n",
       "      <td>0.85641</td>\n",
       "      <td>...</td>\n",
       "      <td>12</td>\n",
       "      <td>{'feature_selection__percentile': 80, 'classif...</td>\n",
       "      <td>0.563095</td>\n",
       "      <td>0.433333</td>\n",
       "      <td>0.447115</td>\n",
       "      <td>0.498397</td>\n",
       "      <td>0.454978</td>\n",
       "      <td>0.479384</td>\n",
       "      <td>0.047173</td>\n",
       "      <td>2999</td>\n",
       "    </tr>\n",
       "    <tr>\n",
       "      <th>1728</th>\n",
       "      <td>0.059361</td>\n",
       "      <td>6.248903e-03</td>\n",
       "      <td>0.003124</td>\n",
       "      <td>6.248474e-03</td>\n",
       "      <td>90</td>\n",
       "      <td>rbf</td>\n",
       "      <td>0.7</td>\n",
       "      <td>5.526316</td>\n",
       "      <td>3.690526</td>\n",
       "      <td>0.774359</td>\n",
       "      <td>...</td>\n",
       "      <td>13</td>\n",
       "      <td>{'feature_selection__percentile': 90, 'classif...</td>\n",
       "      <td>0.494048</td>\n",
       "      <td>0.438095</td>\n",
       "      <td>0.442308</td>\n",
       "      <td>0.508013</td>\n",
       "      <td>0.464502</td>\n",
       "      <td>0.469393</td>\n",
       "      <td>0.027700</td>\n",
       "      <td>3000</td>\n",
       "    </tr>\n",
       "  </tbody>\n",
       "</table>\n",
       "<p>3000 rows × 21 columns</p>\n",
       "</div>"
      ],
      "text/plain": [
       "      mean_fit_time  std_fit_time  mean_score_time  std_score_time  \\\n",
       "2111       0.071858  7.652962e-03         0.012497    6.248713e-03   \n",
       "377        0.090604  1.169087e-02         0.009373    7.653098e-03   \n",
       "47         0.062486  1.518410e-06         0.015620    9.344062e-07   \n",
       "2832       0.103101  7.653449e-03         0.006249    7.653195e-03   \n",
       "1652       0.071859  7.652943e-03         0.009373    7.653215e-03   \n",
       "...             ...           ...              ...             ...   \n",
       "1610       0.062486  3.234067e-07         0.012497    6.248355e-03   \n",
       "2310       0.053113  7.653059e-03         0.003124    6.248665e-03   \n",
       "2480       0.090605  1.168976e-02         0.006248    7.652378e-03   \n",
       "296        0.068735  7.653312e-03         0.006248    7.652319e-03   \n",
       "1728       0.059361  6.248903e-03         0.003124    6.248474e-03   \n",
       "\n",
       "     param_feature_selection__percentile param_classifier__kernel  \\\n",
       "2111                                  50                      rbf   \n",
       "377                                   30                      rbf   \n",
       "47                                    70                      rbf   \n",
       "2832                                 100                   linear   \n",
       "1652                                  50                      rbf   \n",
       "...                                  ...                      ...   \n",
       "1610                                  80                      rbf   \n",
       "2310                                  30                      rbf   \n",
       "2480                                 100                      rbf   \n",
       "296                                   80                      rbf   \n",
       "1728                                  90                      rbf   \n",
       "\n",
       "     param_classifier__gamma param_classifier__coef0 param_classifier__C  \\\n",
       "2111                0.036842                1.473684            7.371053   \n",
       "377                 0.589474                1.105263            6.319474   \n",
       "47                  0.073684                4.789474            1.061579   \n",
       "2832                     0.0                1.842105            4.216316   \n",
       "1652                0.147368                1.842105            2.113158   \n",
       "...                      ...                     ...                 ...   \n",
       "1610                0.589474                5.157895            8.422632   \n",
       "2310                0.221053                4.052632            6.319474   \n",
       "2480                0.331579                3.684211            7.896842   \n",
       "296                 0.515789                     0.0                10.0   \n",
       "1728                     0.7                5.526316            3.690526   \n",
       "\n",
       "     param_balanced__sampling_strategy  ... param_RFE__n_features_to_select  \\\n",
       "2111                          0.897436  ...                              10   \n",
       "377                           0.979487  ...                               3   \n",
       "47                            0.753846  ...                              11   \n",
       "2832                          0.958974  ...                               9   \n",
       "1652                          0.958974  ...                              10   \n",
       "...                                ...  ...                             ...   \n",
       "1610                          0.876923  ...                              10   \n",
       "2310                          0.323077  ...                               2   \n",
       "2480                          0.302564  ...                               7   \n",
       "296                            0.85641  ...                              12   \n",
       "1728                          0.774359  ...                              13   \n",
       "\n",
       "                                                 params split0_test_score  \\\n",
       "2111  {'feature_selection__percentile': 50, 'classif...          0.755952   \n",
       "377   {'feature_selection__percentile': 30, 'classif...          0.758333   \n",
       "47    {'feature_selection__percentile': 70, 'classif...          0.617857   \n",
       "2832  {'feature_selection__percentile': 100, 'classi...          0.679762   \n",
       "1652  {'feature_selection__percentile': 50, 'classif...          0.760714   \n",
       "...                                                 ...               ...   \n",
       "1610  {'feature_selection__percentile': 80, 'classif...          0.558333   \n",
       "2310  {'feature_selection__percentile': 30, 'classif...          0.500000   \n",
       "2480  {'feature_selection__percentile': 100, 'classi...          0.495238   \n",
       "296   {'feature_selection__percentile': 80, 'classif...          0.563095   \n",
       "1728  {'feature_selection__percentile': 90, 'classif...          0.494048   \n",
       "\n",
       "      split1_test_score  split2_test_score  split3_test_score  \\\n",
       "2111           0.764286           0.716346           0.608974   \n",
       "377            0.661905           0.751603           0.575321   \n",
       "47             0.765476           0.653846           0.681090   \n",
       "2832           0.708333           0.697115           0.581731   \n",
       "1652           0.704762           0.637821           0.613782   \n",
       "...                 ...                ...                ...   \n",
       "1610           0.475000           0.451923           0.498397   \n",
       "2310           0.500000           0.500000           0.500000   \n",
       "2480           0.476190           0.527244           0.461538   \n",
       "296            0.433333           0.447115           0.498397   \n",
       "1728           0.438095           0.442308           0.508013   \n",
       "\n",
       "      split4_test_score  mean_test_score  std_test_score  rank_test_score  \n",
       "2111           0.639827         0.697077        0.062280                1  \n",
       "377            0.646753         0.678783        0.068769                2  \n",
       "47             0.636797         0.671013        0.051606                3  \n",
       "2832           0.677922         0.668973        0.045053                4  \n",
       "1652           0.616017         0.666619        0.057429                5  \n",
       "...                 ...              ...             ...              ...  \n",
       "1610           0.454978         0.487726        0.039027             2996  \n",
       "2310           0.438095         0.487619        0.024762             2997  \n",
       "2480           0.447619         0.481566        0.027770             2998  \n",
       "296            0.454978         0.479384        0.047173             2999  \n",
       "1728           0.464502         0.469393        0.027700             3000  \n",
       "\n",
       "[3000 rows x 21 columns]"
      ]
     },
     "execution_count": 76,
     "metadata": {},
     "output_type": "execute_result"
    }
   ],
   "source": [
    "df_randomised_result.sort_values(by=['rank_test_score'])"
   ]
  },
  {
   "cell_type": "code",
   "execution_count": 130,
   "id": "e02f5571",
   "metadata": {},
   "outputs": [],
   "source": [
    "clf_svm=Pipeline([('scaler',scaler),\n",
    "                  ('feature_selection',SelectPercentile(mutual_feature,percentile=50)),\n",
    "                  ('balanced',ADASYN(random_state=42, sampling_strategy=0.8974358974358974)),\n",
    "                  ('RFE',RFE(LogisticRegression(),n_features_to_select=10)),\n",
    "                  ('classifier',svm.SVC(kernel='rbf',gamma=0.03684210526315789,coef0=1.4736842105263157,\n",
    "                                        C=1.9,probability=True))])\n",
    "\n",
    "scores_svm=cross_validate(clf_svm,x_train1,y_train,\n",
    "                      cv=skf,n_jobs=8,\n",
    "                      scoring=('balanced_accuracy','roc_auc','precision','recall','accuracy'),return_train_score=True,\n",
    "                     return_estimator=True)"
   ]
  },
  {
   "cell_type": "code",
   "execution_count": 131,
   "id": "f64324ec",
   "metadata": {},
   "outputs": [
    {
     "name": "stdout",
     "output_type": "stream",
     "text": [
      "mean:0.6875646906692369+/-0.029591677831691848\n"
     ]
    }
   ],
   "source": [
    "mean_svm_train=np.mean(scores_svm['train_balanced_accuracy'])\n",
    "std_svm_train=1.96*np.std(scores_svm['train_balanced_accuracy'])/5**(1/2)\n",
    "\n",
    "print(f'mean:{mean_svm_train}+/-{std_svm_train}')"
   ]
  },
  {
   "cell_type": "code",
   "execution_count": 132,
   "id": "29dd62e5",
   "metadata": {},
   "outputs": [
    {
     "name": "stdout",
     "output_type": "stream",
     "text": [
      "mean:0.6637529137529137+/-0.06947427575874988\n"
     ]
    }
   ],
   "source": [
    "mean_svm_test=np.mean(scores_svm['test_balanced_accuracy'])\n",
    "std_svm_test=1.96*np.std(scores_svm['test_balanced_accuracy'])/5**(1/2)\n",
    "\n",
    "print(f'mean:{mean_svm_test}+/-{std_svm_test}')"
   ]
  },
  {
   "cell_type": "code",
   "execution_count": 133,
   "id": "6acbc970",
   "metadata": {},
   "outputs": [
    {
     "name": "stdout",
     "output_type": "stream",
     "text": [
      "mean:0.7499292443432527+/-0.02256263431689258\n"
     ]
    }
   ],
   "source": [
    "mean_svm_train=np.mean(scores_svm['train_roc_auc'])\n",
    "std_svm_train=1.96*np.std(scores_svm['train_roc_auc'])/5**(1/2)\n",
    "\n",
    "print(f'mean:{mean_svm_train}+/-{std_svm_train}')"
   ]
  },
  {
   "cell_type": "code",
   "execution_count": 134,
   "id": "9e872e45",
   "metadata": {},
   "outputs": [
    {
     "name": "stdout",
     "output_type": "stream",
     "text": [
      "mean:0.7009570984570985+/-0.03974385229904747\n"
     ]
    }
   ],
   "source": [
    "mean_svm_test=np.mean(scores_svm['test_roc_auc'])\n",
    "std_svm_test=1.96*np.std(scores_svm['test_roc_auc'])/5**(1/2)\n",
    "\n",
    "print(f'mean:{mean_svm_test}+/-{std_svm_test}')"
   ]
  },
  {
   "cell_type": "code",
   "execution_count": 55,
   "id": "39130f3a",
   "metadata": {},
   "outputs": [
    {
     "data": {
      "text/plain": [
       "{'fit_time': array([0.13862991, 0.13464093, 0.14960122, 0.13464069, 0.14561081]),\n",
       " 'score_time': array([0.01495957, 0.01396251, 0.01595688, 0.01396322, 0.01595759]),\n",
       " 'estimator': [Pipeline(steps=[('scaler',\n",
       "                   ColumnTransformer(remainder='passthrough',\n",
       "                                     transformers=[('continious_trans',\n",
       "                                                    RobustScaler(),\n",
       "                                                    [0, 2, 3, 4]),\n",
       "                                                   ('pass', 'passthrough',\n",
       "                                                    [1, 5, 6, 7, 8, 9, 10, 11,\n",
       "                                                     12])])),\n",
       "                  ('feature_selection',\n",
       "                   SelectPercentile(percentile=50,\n",
       "                                    score_func=<function mutual_feature at 0x000001DEE49783A0>)),\n",
       "                  ('balanced',\n",
       "                   ADASYN(random_state=42, sampling_strategy=0.8974358974358974)),\n",
       "                  ('RFE',\n",
       "                   RFE(estimator=LogisticRegression(), n_features_to_select=10)),\n",
       "                  ('classifier',\n",
       "                   SVC(C=7.371052631578948, coef0=1.4736842105263157,\n",
       "                       gamma=0.03684210526315789, probability=True))]),\n",
       "  Pipeline(steps=[('scaler',\n",
       "                   ColumnTransformer(remainder='passthrough',\n",
       "                                     transformers=[('continious_trans',\n",
       "                                                    RobustScaler(),\n",
       "                                                    [0, 2, 3, 4]),\n",
       "                                                   ('pass', 'passthrough',\n",
       "                                                    [1, 5, 6, 7, 8, 9, 10, 11,\n",
       "                                                     12])])),\n",
       "                  ('feature_selection',\n",
       "                   SelectPercentile(percentile=50,\n",
       "                                    score_func=<function mutual_feature at 0x000001DEE4978790>)),\n",
       "                  ('balanced',\n",
       "                   ADASYN(random_state=42, sampling_strategy=0.8974358974358974)),\n",
       "                  ('RFE',\n",
       "                   RFE(estimator=LogisticRegression(), n_features_to_select=10)),\n",
       "                  ('classifier',\n",
       "                   SVC(C=7.371052631578948, coef0=1.4736842105263157,\n",
       "                       gamma=0.03684210526315789, probability=True))]),\n",
       "  Pipeline(steps=[('scaler',\n",
       "                   ColumnTransformer(remainder='passthrough',\n",
       "                                     transformers=[('continious_trans',\n",
       "                                                    RobustScaler(),\n",
       "                                                    [0, 2, 3, 4]),\n",
       "                                                   ('pass', 'passthrough',\n",
       "                                                    [1, 5, 6, 7, 8, 9, 10, 11,\n",
       "                                                     12])])),\n",
       "                  ('feature_selection',\n",
       "                   SelectPercentile(percentile=50,\n",
       "                                    score_func=<function mutual_feature at 0x000001DEE4978430>)),\n",
       "                  ('balanced',\n",
       "                   ADASYN(random_state=42, sampling_strategy=0.8974358974358974)),\n",
       "                  ('RFE',\n",
       "                   RFE(estimator=LogisticRegression(), n_features_to_select=10)),\n",
       "                  ('classifier',\n",
       "                   SVC(C=7.371052631578948, coef0=1.4736842105263157,\n",
       "                       gamma=0.03684210526315789, probability=True))]),\n",
       "  Pipeline(steps=[('scaler',\n",
       "                   ColumnTransformer(remainder='passthrough',\n",
       "                                     transformers=[('continious_trans',\n",
       "                                                    RobustScaler(),\n",
       "                                                    [0, 2, 3, 4]),\n",
       "                                                   ('pass', 'passthrough',\n",
       "                                                    [1, 5, 6, 7, 8, 9, 10, 11,\n",
       "                                                     12])])),\n",
       "                  ('feature_selection',\n",
       "                   SelectPercentile(percentile=50,\n",
       "                                    score_func=<function mutual_feature at 0x000001DEE4C20F70>)),\n",
       "                  ('balanced',\n",
       "                   ADASYN(random_state=42, sampling_strategy=0.8974358974358974)),\n",
       "                  ('RFE',\n",
       "                   RFE(estimator=LogisticRegression(), n_features_to_select=10)),\n",
       "                  ('classifier',\n",
       "                   SVC(C=7.371052631578948, coef0=1.4736842105263157,\n",
       "                       gamma=0.03684210526315789, probability=True))]),\n",
       "  Pipeline(steps=[('scaler',\n",
       "                   ColumnTransformer(remainder='passthrough',\n",
       "                                     transformers=[('continious_trans',\n",
       "                                                    RobustScaler(),\n",
       "                                                    [0, 2, 3, 4]),\n",
       "                                                   ('pass', 'passthrough',\n",
       "                                                    [1, 5, 6, 7, 8, 9, 10, 11,\n",
       "                                                     12])])),\n",
       "                  ('feature_selection',\n",
       "                   SelectPercentile(percentile=50,\n",
       "                                    score_func=<function mutual_feature at 0x000001DEE4978700>)),\n",
       "                  ('balanced',\n",
       "                   ADASYN(random_state=42, sampling_strategy=0.8974358974358974)),\n",
       "                  ('RFE',\n",
       "                   RFE(estimator=LogisticRegression(), n_features_to_select=10)),\n",
       "                  ('classifier',\n",
       "                   SVC(C=7.371052631578948, coef0=1.4736842105263157,\n",
       "                       gamma=0.03684210526315789, probability=True))])],\n",
       " 'test_balanced_accuracy': array([0.75595238, 0.76428571, 0.71634615, 0.60897436, 0.63982684]),\n",
       " 'train_balanced_accuracy': array([0.70953375, 0.74037972, 0.68737623, 0.71700604, 0.62878788]),\n",
       " 'test_roc_auc': array([0.73888889, 0.79206349, 0.70432692, 0.62980769, 0.68961039]),\n",
       " 'train_roc_auc': array([0.78015881, 0.81283722, 0.75948307, 0.79815163, 0.71835128]),\n",
       " 'test_precision': array([0.26470588, 0.23809524, 0.21428571, 0.15555556, 0.14545455]),\n",
       " 'train_precision': array([0.19889503, 0.21714286, 0.18421053, 0.2       , 0.15763547]),\n",
       " 'test_recall': array([0.75      , 0.83333333, 0.75      , 0.58333333, 0.72727273]),\n",
       " 'train_recall': array([0.76595745, 0.80851064, 0.74468085, 0.78723404, 0.66666667]),\n",
       " 'test_accuracy': array([0.76068376, 0.70940171, 0.68965517, 0.62931034, 0.56896552]),\n",
       " 'train_accuracy': array([0.66451613, 0.68602151, 0.6416309 , 0.66094421, 0.59871245])}"
      ]
     },
     "execution_count": 55,
     "metadata": {},
     "output_type": "execute_result"
    }
   ],
   "source": [
    "scores_svm"
   ]
  },
  {
   "cell_type": "code",
   "execution_count": 57,
   "id": "3ddd50d0",
   "metadata": {},
   "outputs": [
    {
     "name": "stdout",
     "output_type": "stream",
     "text": [
      "wilcoxon:5.0\n",
      "p-value:0.78\n"
     ]
    }
   ],
   "source": [
    "u,p=stats.wilcoxon(scores_log['test_balanced_accuracy'],scores_svm['test_balanced_accuracy']\n",
    "                   ,zero_method='zsplit',mode='auto',alternative='greater')\n",
    "\n",
    "print(f'wilcoxon:{u}\\np-value:{p:.2f}')"
   ]
  },
  {
   "cell_type": "code",
   "execution_count": 58,
   "id": "8239dfa9",
   "metadata": {},
   "outputs": [
    {
     "data": {
      "text/plain": [
       "(146, 14)"
      ]
     },
     "execution_count": 58,
     "metadata": {},
     "output_type": "execute_result"
    }
   ],
   "source": [
    "test.shape"
   ]
  },
  {
   "cell_type": "code",
   "execution_count": 59,
   "id": "b4a7046d",
   "metadata": {},
   "outputs": [
    {
     "data": {
      "text/plain": [
       "array([[ 1., 26.,  0., ...,  1.,  0.,  0.],\n",
       "       [ 0., 70.,  1., ...,  1.,  0.,  0.],\n",
       "       [ 0., 26.,  0., ...,  0.,  0.,  0.],\n",
       "       ...,\n",
       "       [ 0., 60.,  0., ...,  1.,  0.,  0.],\n",
       "       [ 0., 35.,  0., ...,  1.,  0.,  0.],\n",
       "       [ 0., 67.,  1., ...,  0.,  0.,  0.]])"
      ]
     },
     "execution_count": 59,
     "metadata": {},
     "output_type": "execute_result"
    }
   ],
   "source": [
    "test"
   ]
  },
  {
   "cell_type": "code",
   "execution_count": 60,
   "id": "07943677",
   "metadata": {},
   "outputs": [
    {
     "data": {
      "text/plain": [
       "(146, 13)"
      ]
     },
     "execution_count": 60,
     "metadata": {},
     "output_type": "execute_result"
    }
   ],
   "source": [
    "y_test=test[:,0]\n",
    "x_test=test[:,1:]\n",
    "x_test.shape"
   ]
  },
  {
   "cell_type": "code",
   "execution_count": 61,
   "id": "2152e76c",
   "metadata": {},
   "outputs": [
    {
     "data": {
      "text/plain": [
       "array([[26.,  0., 22., ...,  1.,  0.,  0.],\n",
       "       [70.,  1.,  6., ...,  1.,  0.,  0.],\n",
       "       [26.,  0., 19., ...,  0.,  0.,  0.],\n",
       "       ...,\n",
       "       [60.,  0.,  5., ...,  1.,  0.,  0.],\n",
       "       [35.,  0., 22., ...,  1.,  0.,  0.],\n",
       "       [67.,  1., 16., ...,  0.,  0.,  0.]])"
      ]
     },
     "execution_count": 61,
     "metadata": {},
     "output_type": "execute_result"
    }
   ],
   "source": [
    "x_test"
   ]
  },
  {
   "cell_type": "code",
   "execution_count": 189,
   "id": "7f097637",
   "metadata": {},
   "outputs": [
    {
     "name": "stdout",
     "output_type": "stream",
     "text": [
      "mean:0.6399999999999999+/-0.012274900618138821\n",
      "mean:0.64+/-0.012274900618138854\n",
      "mean:0.7+/-0.01835291883133661\n"
     ]
    }
   ],
   "source": [
    "balanced_log=[]\n",
    "auc_log=[]\n",
    "recall_log=[]\n",
    "\n",
    "for train_index, test_index in skf.split(x_train1, y_train):\n",
    "    \n",
    "    #print(\"TRAIN:\", train_index, \"TEST:\", test_index)\n",
    "    \n",
    "    X_train_f, X_test_f = x_train1[train_index], x_train1[test_index]\n",
    "    Y_train, Y_test = y_train[train_index], y_train[test_index]\n",
    "    \n",
    "    clf_log=Pipeline([('scaler',scaler),\n",
    "                  ('feature_selection',SelectPercentile(mutual_feature,percentile=100)),\n",
    "                  ('balanced',RandomOverSampler(random_state=42, sampling_strategy=0.917948717948718)),\n",
    "                  ('RFE',RFE(LogisticRegression(),n_features_to_select=12)),\n",
    "                  ('classifier',LogisticRegression(penalty='elasticnet',C=2.01,l1_ratio=0.22727272727272727,solver='saga'))])\n",
    "    \n",
    "    clf_log.fit(X_train_f,Y_train)\n",
    "    \n",
    "    pred=clf_log.predict(x_test)\n",
    "    \n",
    "    balanced=balanced_accuracy_score(y_test,pred)\n",
    "    balanced_log.append(balanced)\n",
    "    \n",
    "    auc_scoree=roc_auc_score(y_test,pred)\n",
    "    auc_log.append(auc_scoree)\n",
    "    \n",
    "    recall_scoree=recall_score(y_test,pred,pos_label=0)\n",
    "    recall_log.append(recall_scoree)\n",
    "    \n",
    "balanced_log=np.array(balanced_log)\n",
    "auc_log=np.array(auc_log)\n",
    "recall_log=np.array(recall_log)\n",
    "\n",
    "print(f'mean:{np.mean(balanced_log)}+/-{1.96*np.std(balanced_log)/5**(1/2)}\\nmean:{np.mean(auc_log)}+/-{1.96*np.std(auc_log)/5**(1/2)}\\nmean:{np.mean(recall_log)}+/-{1.96*np.std(recall_log)/5**(1/2)}')"
   ]
  },
  {
   "cell_type": "code",
   "execution_count": 158,
   "id": "a9aae6f6",
   "metadata": {},
   "outputs": [
    {
     "name": "stdout",
     "output_type": "stream",
     "text": [
      "[[91 35]\n",
      " [ 8 12]]\n"
     ]
    }
   ],
   "source": [
    "preds=scores_log['estimator'][4].predict(x_test)\n",
    "print(confusion_matrix(y_test,preds))"
   ]
  },
  {
   "cell_type": "code",
   "execution_count": 64,
   "id": "b47ea950",
   "metadata": {},
   "outputs": [
    {
     "data": {
      "text/plain": [
       "array([1., 0., 1., 0., 0., 1., 0., 0., 0., 0., 0., 1., 0., 0., 0., 1., 0.,\n",
       "       0., 0., 1., 0., 0., 1., 1., 0., 1., 1., 0., 0., 0., 0., 1., 0., 0.,\n",
       "       1., 1., 0., 0., 1., 0., 0., 0., 0., 0., 0., 1., 0., 0., 0., 0., 1.,\n",
       "       1., 1., 1., 0., 1., 0., 0., 0., 0., 0., 0., 0., 0., 0., 0., 0., 0.,\n",
       "       0., 0., 1., 0., 0., 0., 0., 0., 0., 0., 1., 0., 0., 0., 1., 0., 0.,\n",
       "       0., 0., 0., 0., 1., 1., 1., 0., 1., 0., 0., 0., 0., 1., 1., 0., 0.,\n",
       "       0., 1., 0., 0., 1., 0., 1., 0., 1., 1., 0., 0., 0., 0., 1., 0., 0.,\n",
       "       1., 0., 0., 0., 0., 1., 0., 1., 0., 0., 1., 0., 1., 0., 0., 0., 1.,\n",
       "       1., 1., 0., 1., 1., 0., 1., 0., 1., 0.])"
      ]
     },
     "execution_count": 64,
     "metadata": {},
     "output_type": "execute_result"
    }
   ],
   "source": [
    "preds"
   ]
  },
  {
   "cell_type": "code",
   "execution_count": 103,
   "id": "441129d9",
   "metadata": {},
   "outputs": [],
   "source": [
    "with open('clf_log.sav','wb') as f:\n",
    "    pickle.dump(clf_log,f)"
   ]
  },
  {
   "cell_type": "code",
   "execution_count": 91,
   "id": "d9de8e4f",
   "metadata": {},
   "outputs": [
    {
     "name": "stderr",
     "output_type": "stream",
     "text": [
      "C:\\anaconda\\lib\\site-packages\\sklearn\\base.py:329: UserWarning: Trying to unpickle estimator RobustScaler from version 1.0.1 when using version 1.0.2. This might lead to breaking code or invalid results. Use at your own risk. For more info please refer to:\n",
      "https://scikit-learn.org/stable/modules/model_persistence.html#security-maintainability-limitations\n",
      "  warnings.warn(\n",
      "C:\\anaconda\\lib\\site-packages\\sklearn\\base.py:329: UserWarning: Trying to unpickle estimator ColumnTransformer from version 1.0.1 when using version 1.0.2. This might lead to breaking code or invalid results. Use at your own risk. For more info please refer to:\n",
      "https://scikit-learn.org/stable/modules/model_persistence.html#security-maintainability-limitations\n",
      "  warnings.warn(\n",
      "C:\\anaconda\\lib\\site-packages\\sklearn\\base.py:329: UserWarning: Trying to unpickle estimator SelectPercentile from version 1.0.1 when using version 1.0.2. This might lead to breaking code or invalid results. Use at your own risk. For more info please refer to:\n",
      "https://scikit-learn.org/stable/modules/model_persistence.html#security-maintainability-limitations\n",
      "  warnings.warn(\n",
      "C:\\anaconda\\lib\\site-packages\\sklearn\\base.py:329: UserWarning: Trying to unpickle estimator LogisticRegression from version 1.0.1 when using version 1.0.2. This might lead to breaking code or invalid results. Use at your own risk. For more info please refer to:\n",
      "https://scikit-learn.org/stable/modules/model_persistence.html#security-maintainability-limitations\n",
      "  warnings.warn(\n",
      "C:\\anaconda\\lib\\site-packages\\sklearn\\base.py:329: UserWarning: Trying to unpickle estimator RFE from version 1.0.1 when using version 1.0.2. This might lead to breaking code or invalid results. Use at your own risk. For more info please refer to:\n",
      "https://scikit-learn.org/stable/modules/model_persistence.html#security-maintainability-limitations\n",
      "  warnings.warn(\n"
     ]
    }
   ],
   "source": [
    "loaded_model = pickle.load(open('clf_log.sav', 'rb'))\n",
    "\n",
    "probab=loaded_model.predict_proba(x_test)"
   ]
  },
  {
   "cell_type": "code",
   "execution_count": 92,
   "id": "f049eef1",
   "metadata": {},
   "outputs": [
    {
     "data": {
      "text/plain": [
       "array([[0.26038501, 0.73961499],\n",
       "       [0.55456366, 0.44543634],\n",
       "       [0.47674095, 0.52325905],\n",
       "       [0.59096937, 0.40903063],\n",
       "       [0.58263947, 0.41736053],\n",
       "       [0.19644642, 0.80355358],\n",
       "       [0.62206868, 0.37793132],\n",
       "       [0.66992648, 0.33007352],\n",
       "       [0.74002517, 0.25997483],\n",
       "       [0.78680848, 0.21319152],\n",
       "       [0.72793788, 0.27206212],\n",
       "       [0.0386421 , 0.9613579 ],\n",
       "       [0.50320557, 0.49679443],\n",
       "       [0.87353356, 0.12646644],\n",
       "       [0.92531868, 0.07468132],\n",
       "       [0.40638749, 0.59361251],\n",
       "       [0.65395336, 0.34604664],\n",
       "       [0.75873109, 0.24126891],\n",
       "       [0.79288369, 0.20711631],\n",
       "       [0.35490022, 0.64509978],\n",
       "       [0.73257284, 0.26742716],\n",
       "       [0.76086047, 0.23913953],\n",
       "       [0.4897177 , 0.5102823 ],\n",
       "       [0.07781246, 0.92218754],\n",
       "       [0.72822898, 0.27177102],\n",
       "       [0.3723334 , 0.6276666 ],\n",
       "       [0.43108046, 0.56891954],\n",
       "       [0.88040899, 0.11959101],\n",
       "       [0.50409493, 0.49590507],\n",
       "       [0.59370316, 0.40629684],\n",
       "       [0.81652083, 0.18347917],\n",
       "       [0.36126906, 0.63873094],\n",
       "       [0.67811683, 0.32188317],\n",
       "       [0.84153142, 0.15846858],\n",
       "       [0.07555919, 0.92444081],\n",
       "       [0.12024176, 0.87975824],\n",
       "       [0.88195792, 0.11804208],\n",
       "       [0.74320121, 0.25679879],\n",
       "       [0.35639374, 0.64360626],\n",
       "       [0.69972896, 0.30027104],\n",
       "       [0.67104316, 0.32895684],\n",
       "       [0.73998514, 0.26001486],\n",
       "       [0.55819927, 0.44180073],\n",
       "       [0.85163623, 0.14836377],\n",
       "       [0.89311488, 0.10688512],\n",
       "       [0.39789603, 0.60210397],\n",
       "       [0.54272348, 0.45727652],\n",
       "       [0.68006225, 0.31993775],\n",
       "       [0.74785302, 0.25214698],\n",
       "       [0.71154845, 0.28845155],\n",
       "       [0.31832247, 0.68167753],\n",
       "       [0.32058161, 0.67941839],\n",
       "       [0.1448422 , 0.8551578 ],\n",
       "       [0.44416832, 0.55583168],\n",
       "       [0.74724594, 0.25275406],\n",
       "       [0.335405  , 0.664595  ],\n",
       "       [0.64787105, 0.35212895],\n",
       "       [0.89963554, 0.10036446],\n",
       "       [0.61342775, 0.38657225],\n",
       "       [0.56331684, 0.43668316],\n",
       "       [0.89246373, 0.10753627],\n",
       "       [0.59326892, 0.40673108],\n",
       "       [0.83471469, 0.16528531],\n",
       "       [0.79122412, 0.20877588],\n",
       "       [0.54365428, 0.45634572],\n",
       "       [0.94746744, 0.05253256],\n",
       "       [0.78136997, 0.21863003],\n",
       "       [0.74632558, 0.25367442],\n",
       "       [0.78677273, 0.21322727],\n",
       "       [0.81466415, 0.18533585],\n",
       "       [0.4263183 , 0.5736817 ],\n",
       "       [0.52191468, 0.47808532],\n",
       "       [0.8448121 , 0.1551879 ],\n",
       "       [0.78942884, 0.21057116],\n",
       "       [0.73437545, 0.26562455],\n",
       "       [0.50970745, 0.49029255],\n",
       "       [0.59611745, 0.40388255],\n",
       "       [0.90132084, 0.09867916],\n",
       "       [0.31774654, 0.68225346],\n",
       "       [0.75815802, 0.24184198],\n",
       "       [0.6440704 , 0.3559296 ],\n",
       "       [0.7525246 , 0.2474754 ],\n",
       "       [0.46283729, 0.53716271],\n",
       "       [0.58503273, 0.41496727],\n",
       "       [0.53620539, 0.46379461],\n",
       "       [0.52870745, 0.47129255],\n",
       "       [0.82444508, 0.17555492],\n",
       "       [0.92965406, 0.07034594],\n",
       "       [0.93260681, 0.06739319],\n",
       "       [0.44118151, 0.55881849],\n",
       "       [0.33977382, 0.66022618],\n",
       "       [0.4340572 , 0.5659428 ],\n",
       "       [0.6068073 , 0.3931927 ],\n",
       "       [0.1024559 , 0.8975441 ],\n",
       "       [0.59250755, 0.40749245],\n",
       "       [0.84621734, 0.15378266],\n",
       "       [0.65413806, 0.34586194],\n",
       "       [0.95932288, 0.04067712],\n",
       "       [0.43019856, 0.56980144],\n",
       "       [0.39347064, 0.60652936],\n",
       "       [0.79549668, 0.20450332],\n",
       "       [0.83567995, 0.16432005],\n",
       "       [0.79549826, 0.20450174],\n",
       "       [0.42993656, 0.57006344],\n",
       "       [0.85102543, 0.14897457],\n",
       "       [0.50258806, 0.49741194],\n",
       "       [0.3191532 , 0.6808468 ],\n",
       "       [0.75101351, 0.24898649],\n",
       "       [0.10829734, 0.89170266],\n",
       "       [0.67440375, 0.32559625],\n",
       "       [0.40497791, 0.59502209],\n",
       "       [0.36104254, 0.63895746],\n",
       "       [0.51372947, 0.48627053],\n",
       "       [0.57173257, 0.42826743],\n",
       "       [0.79676058, 0.20323942],\n",
       "       [0.79675794, 0.20324206],\n",
       "       [0.32480229, 0.67519771],\n",
       "       [0.55277872, 0.44722128],\n",
       "       [0.7781313 , 0.2218687 ],\n",
       "       [0.21908675, 0.78091325],\n",
       "       [0.61279872, 0.38720128],\n",
       "       [0.73591853, 0.26408147],\n",
       "       [0.65011811, 0.34988189],\n",
       "       [0.63331041, 0.36668959],\n",
       "       [0.28964391, 0.71035609],\n",
       "       [0.5951015 , 0.4048985 ],\n",
       "       [0.4824962 , 0.5175038 ],\n",
       "       [0.60328951, 0.39671049],\n",
       "       [0.5201639 , 0.4798361 ],\n",
       "       [0.4311466 , 0.5688534 ],\n",
       "       [0.74183409, 0.25816591],\n",
       "       [0.32467369, 0.67532631],\n",
       "       [0.76512848, 0.23487152],\n",
       "       [0.54821781, 0.45178219],\n",
       "       [0.71498331, 0.28501669],\n",
       "       [0.43759805, 0.56240195],\n",
       "       [0.08907258, 0.91092742],\n",
       "       [0.43453225, 0.56546775],\n",
       "       [0.79186819, 0.20813181],\n",
       "       [0.32140901, 0.67859099],\n",
       "       [0.47203192, 0.52796808],\n",
       "       [0.89810055, 0.10189945],\n",
       "       [0.13385224, 0.86614776],\n",
       "       [0.63811162, 0.36188838],\n",
       "       [0.3017023 , 0.6982977 ],\n",
       "       [0.91750565, 0.08249435]])"
      ]
     },
     "execution_count": 92,
     "metadata": {},
     "output_type": "execute_result"
    }
   ],
   "source": [
    "probab"
   ]
  },
  {
   "cell_type": "code",
   "execution_count": 90,
   "id": "64fec6ba",
   "metadata": {},
   "outputs": [
    {
     "data": {
      "text/plain": [
       "array([26.,  0., 22.,  7.,  2.,  0.,  0.,  0.,  0.,  0.,  1.,  0.,  0.])"
      ]
     },
     "execution_count": 90,
     "metadata": {},
     "output_type": "execute_result"
    }
   ],
   "source": [
    "x_test[0,:]"
   ]
  },
  {
   "cell_type": "code",
   "execution_count": null,
   "id": "48e4ec39",
   "metadata": {},
   "outputs": [],
   "source": []
  }
 ],
 "metadata": {
  "kernelspec": {
   "display_name": "Python 3 (ipykernel)",
   "language": "python",
   "name": "python3"
  },
  "language_info": {
   "codemirror_mode": {
    "name": "ipython",
    "version": 3
   },
   "file_extension": ".py",
   "mimetype": "text/x-python",
   "name": "python",
   "nbconvert_exporter": "python",
   "pygments_lexer": "ipython3",
   "version": "3.8.12"
  }
 },
 "nbformat": 4,
 "nbformat_minor": 5
}
